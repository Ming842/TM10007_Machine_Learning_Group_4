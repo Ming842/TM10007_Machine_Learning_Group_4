{
 "cells": [
  {
   "cell_type": "code",
   "execution_count": 4,
   "metadata": {},
   "outputs": [
    {
     "name": "stderr",
     "output_type": "stream",
     "text": [
      "Outer Loop:   0%|          | 0/200 [00:00<?, ?it/s]"
     ]
    },
    {
     "name": "stdout",
     "output_type": "stream",
     "text": [
      "\n",
      "Outer 0, Inner 0 -> Best Hyperparameters: {'n_estimators': 67, 'min_samples_split': 5, 'min_samples_leaf': 2, 'max_samples': 0.940011580775287, 'max_depth': 11, 'bootstrap': True, 'auc': 0.8031345565749236, 'f1': 0.45, 'sensitivity': 0.375, 'specificity': 0.9357798165137615, 'accuracy': 0.8345864661654135}\n",
      "Test Set Accuracy: 0.8346\n"
     ]
    },
    {
     "name": "stderr",
     "output_type": "stream",
     "text": []
    },
    {
     "name": "stdout",
     "output_type": "stream",
     "text": [
      "\n",
      "Outer 0, Inner 1 -> Best Hyperparameters: {'n_estimators': 159, 'min_samples_split': 3, 'min_samples_leaf': 2, 'max_samples': 0.9021801963525973, 'max_depth': 16, 'bootstrap': True, 'auc': 0.8251146788990825, 'f1': 0.4761904761904762, 'sensitivity': 0.4166666666666667, 'specificity': 0.926605504587156, 'accuracy': 0.8345864661654135}\n",
      "Test Set Accuracy: 0.8346\n"
     ]
    },
    {
     "name": "stderr",
     "output_type": "stream",
     "text": []
    },
    {
     "name": "stdout",
     "output_type": "stream",
     "text": [
      "\n",
      "Outer 0, Inner 2 -> Best Hyperparameters: {'n_estimators': 63, 'min_samples_split': 8, 'min_samples_leaf': 1, 'max_samples': 0.6628486827975368, 'max_depth': 30, 'bootstrap': True, 'auc': 0.7893730886850152, 'f1': 0.48780487804878053, 'sensitivity': 0.4166666666666667, 'specificity': 0.9357798165137615, 'accuracy': 0.8421052631578947}\n",
      "Test Set Accuracy: 0.8421\n"
     ]
    },
    {
     "name": "stderr",
     "output_type": "stream",
     "text": []
    },
    {
     "name": "stdout",
     "output_type": "stream",
     "text": [
      "\n",
      "Outer 0, Inner 3 -> Best Hyperparameters: {'n_estimators': 199, 'min_samples_split': 4, 'min_samples_leaf': 1, 'max_samples': 0.945331914159374, 'max_depth': 24, 'bootstrap': True, 'auc': 0.8042813455657493, 'f1': 0.4615384615384615, 'sensitivity': 0.375, 'specificity': 0.944954128440367, 'accuracy': 0.8421052631578947}\n",
      "Test Set Accuracy: 0.8421\n"
     ]
    },
    {
     "name": "stderr",
     "output_type": "stream",
     "text": []
    },
    {
     "name": "stdout",
     "output_type": "stream",
     "text": [
      "\n",
      "Outer 0, Inner 4 -> Best Hyperparameters: {'n_estimators': 80, 'min_samples_split': 4, 'min_samples_leaf': 2, 'max_samples': 0.9692033936462305, 'max_depth': 8, 'bootstrap': True, 'auc': 0.7924311926605504, 'f1': 0.4390243902439025, 'sensitivity': 0.375, 'specificity': 0.926605504587156, 'accuracy': 0.8270676691729323}\n",
      "Test Set Accuracy: 0.8271\n"
     ]
    },
    {
     "name": "stderr",
     "output_type": "stream",
     "text": [
      "Inner Loop: 100%|██████████| 6/6 [00:30<00:00,  5.06s/it]\n",
      "Outer Loop:   0%|          | 1/200 [00:30<1:40:41, 30.36s/it]"
     ]
    },
    {
     "name": "stdout",
     "output_type": "stream",
     "text": [
      "\n",
      "Outer 0, Inner 5 -> Best Hyperparameters: {'n_estimators': 103, 'min_samples_split': 10, 'min_samples_leaf': 3, 'max_samples': 0.9328660097836862, 'max_depth': 12, 'bootstrap': True, 'auc': 0.845565749235474, 'f1': 0.5909090909090908, 'sensitivity': 0.5416666666666666, 'specificity': 0.9357798165137615, 'accuracy': 0.8646616541353384}\n",
      "Test Set Accuracy: 0.8647\n",
      "\n",
      "Best parameters saved to e:\\OneDrive\\School\\Technical Medicine\\TM Jaar 1\\Machine learning\\TM10007_Machine_Learning_Group_4\\TM\\TM10007_Machine_Learning_Group_4-1\\best_hyperparameters_smote.csv after Outer 0 completion\n"
     ]
    },
    {
     "name": "stderr",
     "output_type": "stream",
     "text": []
    },
    {
     "name": "stdout",
     "output_type": "stream",
     "text": [
      "\n",
      "Outer 1, Inner 0 -> Best Hyperparameters: {'n_estimators': 145, 'min_samples_split': 4, 'min_samples_leaf': 1, 'max_samples': 0.9637711228746109, 'max_depth': 12, 'bootstrap': True, 'auc': 0.8425076452599388, 'f1': 0.5531914893617021, 'sensitivity': 0.5416666666666666, 'specificity': 0.908256880733945, 'accuracy': 0.8421052631578947}\n",
      "Test Set Accuracy: 0.8421\n"
     ]
    },
    {
     "name": "stderr",
     "output_type": "stream",
     "text": []
    },
    {
     "name": "stdout",
     "output_type": "stream",
     "text": [
      "\n",
      "Outer 1, Inner 1 -> Best Hyperparameters: {'n_estimators': 128, 'min_samples_split': 4, 'min_samples_leaf': 3, 'max_samples': 0.8900762609244544, 'max_depth': 14, 'bootstrap': True, 'auc': 0.8100152905198776, 'f1': 0.4761904761904762, 'sensitivity': 0.4166666666666667, 'specificity': 0.926605504587156, 'accuracy': 0.8345864661654135}\n",
      "Test Set Accuracy: 0.8346\n"
     ]
    },
    {
     "name": "stderr",
     "output_type": "stream",
     "text": []
    },
    {
     "name": "stdout",
     "output_type": "stream",
     "text": [
      "\n",
      "Outer 1, Inner 2 -> Best Hyperparameters: {'n_estimators': 121, 'min_samples_split': 2, 'min_samples_leaf': 2, 'max_samples': 0.9677516878366965, 'max_depth': 25, 'bootstrap': True, 'auc': 0.8214831804281346, 'f1': 0.5581395348837209, 'sensitivity': 0.5, 'specificity': 0.9357798165137615, 'accuracy': 0.8571428571428571}\n",
      "Test Set Accuracy: 0.8571\n"
     ]
    },
    {
     "name": "stderr",
     "output_type": "stream",
     "text": []
    },
    {
     "name": "stdout",
     "output_type": "stream",
     "text": [
      "\n",
      "Outer 1, Inner 3 -> Best Hyperparameters: {'n_estimators': 190, 'min_samples_split': 6, 'min_samples_leaf': 2, 'max_samples': 0.9662659239108993, 'max_depth': 20, 'bootstrap': True, 'auc': 0.8734709480122324, 'f1': 0.6046511627906976, 'sensitivity': 0.5416666666666666, 'specificity': 0.944954128440367, 'accuracy': 0.8721804511278195}\n",
      "Test Set Accuracy: 0.8722\n"
     ]
    },
    {
     "name": "stderr",
     "output_type": "stream",
     "text": []
    },
    {
     "name": "stdout",
     "output_type": "stream",
     "text": [
      "\n",
      "Outer 1, Inner 4 -> Best Hyperparameters: {'n_estimators': 50, 'min_samples_split': 2, 'min_samples_leaf': 1, 'max_samples': 0.901516862629661, 'max_depth': 12, 'bootstrap': True, 'auc': 0.7962538226299694, 'f1': 0.4583333333333333, 'sensitivity': 0.4583333333333333, 'specificity': 0.8807339449541285, 'accuracy': 0.8045112781954887}\n",
      "Test Set Accuracy: 0.8045\n"
     ]
    },
    {
     "name": "stderr",
     "output_type": "stream",
     "text": [
      "Inner Loop: 100%|██████████| 6/6 [00:26<00:00,  4.47s/it]\n",
      "Outer Loop:   1%|          | 2/200 [00:57<1:33:20, 28.29s/it]"
     ]
    },
    {
     "name": "stdout",
     "output_type": "stream",
     "text": [
      "\n",
      "Outer 1, Inner 5 -> Best Hyperparameters: {'n_estimators': 116, 'min_samples_split': 3, 'min_samples_leaf': 2, 'max_samples': 0.9117757191711295, 'max_depth': 21, 'bootstrap': True, 'auc': 0.8434633027522935, 'f1': 0.5652173913043478, 'sensitivity': 0.5416666666666666, 'specificity': 0.9174311926605505, 'accuracy': 0.849624060150376}\n",
      "Test Set Accuracy: 0.8496\n",
      "\n",
      "Best parameters saved to e:\\OneDrive\\School\\Technical Medicine\\TM Jaar 1\\Machine learning\\TM10007_Machine_Learning_Group_4\\TM\\TM10007_Machine_Learning_Group_4-1\\best_hyperparameters_smote.csv after Outer 1 completion\n"
     ]
    },
    {
     "name": "stderr",
     "output_type": "stream",
     "text": []
    },
    {
     "name": "stdout",
     "output_type": "stream",
     "text": [
      "\n",
      "Outer 2, Inner 0 -> Best Hyperparameters: {'n_estimators': 98, 'min_samples_split': 5, 'min_samples_leaf': 2, 'max_samples': 0.9117940497061781, 'max_depth': 11, 'bootstrap': True, 'auc': 0.8597094801223242, 'f1': 0.48648648648648646, 'sensitivity': 0.375, 'specificity': 0.963302752293578, 'accuracy': 0.8571428571428571}\n",
      "Test Set Accuracy: 0.8571\n"
     ]
    },
    {
     "name": "stderr",
     "output_type": "stream",
     "text": []
    },
    {
     "name": "stdout",
     "output_type": "stream",
     "text": [
      "\n",
      "Outer 2, Inner 1 -> Best Hyperparameters: {'n_estimators': 134, 'min_samples_split': 6, 'min_samples_leaf': 1, 'max_samples': 0.73859863589683, 'max_depth': 26, 'bootstrap': True, 'auc': 0.8998470948012232, 'f1': 0.5128205128205129, 'sensitivity': 0.4166666666666667, 'specificity': 0.9541284403669725, 'accuracy': 0.8571428571428571}\n",
      "Test Set Accuracy: 0.8571\n"
     ]
    },
    {
     "name": "stderr",
     "output_type": "stream",
     "text": []
    },
    {
     "name": "stdout",
     "output_type": "stream",
     "text": [
      "\n",
      "Outer 2, Inner 2 -> Best Hyperparameters: {'n_estimators': 190, 'min_samples_split': 4, 'min_samples_leaf': 2, 'max_samples': 0.9578248009589523, 'max_depth': 20, 'bootstrap': True, 'auc': 0.9036697247706422, 'f1': 0.4571428571428572, 'sensitivity': 0.3333333333333333, 'specificity': 0.9724770642201835, 'accuracy': 0.8571428571428571}\n",
      "Test Set Accuracy: 0.8571\n"
     ]
    },
    {
     "name": "stderr",
     "output_type": "stream",
     "text": []
    },
    {
     "name": "stdout",
     "output_type": "stream",
     "text": [
      "\n",
      "Outer 2, Inner 3 -> Best Hyperparameters: {'n_estimators': 60, 'min_samples_split': 9, 'min_samples_leaf': 3, 'max_samples': 0.6158100330866696, 'max_depth': 22, 'bootstrap': True, 'auc': 0.9120795107033639, 'f1': 0.64, 'sensitivity': 0.6666666666666666, 'specificity': 0.908256880733945, 'accuracy': 0.8646616541353384}\n",
      "Test Set Accuracy: 0.8647\n"
     ]
    },
    {
     "name": "stderr",
     "output_type": "stream",
     "text": []
    },
    {
     "name": "stdout",
     "output_type": "stream",
     "text": [
      "\n",
      "Outer 2, Inner 4 -> Best Hyperparameters: {'n_estimators': 144, 'min_samples_split': 8, 'min_samples_leaf': 2, 'max_samples': 0.8563493237976907, 'max_depth': 29, 'bootstrap': True, 'auc': 0.8860856269113151, 'f1': 0.4736842105263159, 'sensitivity': 0.375, 'specificity': 0.9541284403669725, 'accuracy': 0.849624060150376}\n",
      "Test Set Accuracy: 0.8496\n"
     ]
    },
    {
     "name": "stderr",
     "output_type": "stream",
     "text": [
      "Inner Loop: 100%|██████████| 6/6 [00:25<00:00,  4.27s/it]\n",
      "Outer Loop:   2%|▏         | 3/200 [01:22<1:28:54, 27.08s/it]"
     ]
    },
    {
     "name": "stdout",
     "output_type": "stream",
     "text": [
      "\n",
      "Outer 2, Inner 5 -> Best Hyperparameters: {'n_estimators': 175, 'min_samples_split': 8, 'min_samples_leaf': 2, 'max_samples': 0.8362636679830582, 'max_depth': 9, 'bootstrap': True, 'auc': 0.8642966360856268, 'f1': 0.45, 'sensitivity': 0.375, 'specificity': 0.9357798165137615, 'accuracy': 0.8345864661654135}\n",
      "Test Set Accuracy: 0.8346\n",
      "\n",
      "Best parameters saved to e:\\OneDrive\\School\\Technical Medicine\\TM Jaar 1\\Machine learning\\TM10007_Machine_Learning_Group_4\\TM\\TM10007_Machine_Learning_Group_4-1\\best_hyperparameters_smote.csv after Outer 2 completion\n"
     ]
    },
    {
     "name": "stderr",
     "output_type": "stream",
     "text": []
    },
    {
     "name": "stdout",
     "output_type": "stream",
     "text": [
      "\n",
      "Outer 3, Inner 0 -> Best Hyperparameters: {'n_estimators': 139, 'min_samples_split': 3, 'min_samples_leaf': 2, 'max_samples': 0.5844084512664334, 'max_depth': 23, 'bootstrap': True, 'auc': 0.7968272171253823, 'f1': 0.4615384615384615, 'sensitivity': 0.375, 'specificity': 0.944954128440367, 'accuracy': 0.8421052631578947}\n",
      "Test Set Accuracy: 0.8421\n"
     ]
    },
    {
     "name": "stderr",
     "output_type": "stream",
     "text": []
    },
    {
     "name": "stdout",
     "output_type": "stream",
     "text": [
      "\n",
      "Outer 3, Inner 1 -> Best Hyperparameters: {'n_estimators': 195, 'min_samples_split': 7, 'min_samples_leaf': 1, 'max_samples': 0.7446549323758034, 'max_depth': 23, 'bootstrap': True, 'auc': 0.790519877675841, 'f1': 0.45, 'sensitivity': 0.375, 'specificity': 0.9357798165137615, 'accuracy': 0.8345864661654135}\n",
      "Test Set Accuracy: 0.8346\n"
     ]
    },
    {
     "name": "stderr",
     "output_type": "stream",
     "text": []
    },
    {
     "name": "stdout",
     "output_type": "stream",
     "text": [
      "\n",
      "Outer 3, Inner 2 -> Best Hyperparameters: {'n_estimators': 189, 'min_samples_split': 5, 'min_samples_leaf': 2, 'max_samples': 0.6878614491099644, 'max_depth': 22, 'bootstrap': True, 'auc': 0.783256880733945, 'f1': 0.48780487804878053, 'sensitivity': 0.4166666666666667, 'specificity': 0.9357798165137615, 'accuracy': 0.8421052631578947}\n",
      "Test Set Accuracy: 0.8421\n"
     ]
    },
    {
     "name": "stderr",
     "output_type": "stream",
     "text": []
    },
    {
     "name": "stdout",
     "output_type": "stream",
     "text": [
      "\n",
      "Outer 3, Inner 3 -> Best Hyperparameters: {'n_estimators': 151, 'min_samples_split': 6, 'min_samples_leaf': 2, 'max_samples': 0.8672534827778686, 'max_depth': 10, 'bootstrap': True, 'auc': 0.7878440366972477, 'f1': 0.4736842105263159, 'sensitivity': 0.375, 'specificity': 0.9541284403669725, 'accuracy': 0.849624060150376}\n",
      "Test Set Accuracy: 0.8496\n"
     ]
    },
    {
     "name": "stderr",
     "output_type": "stream",
     "text": []
    },
    {
     "name": "stdout",
     "output_type": "stream",
     "text": [
      "\n",
      "Outer 3, Inner 4 -> Best Hyperparameters: {'n_estimators': 141, 'min_samples_split': 3, 'min_samples_leaf': 2, 'max_samples': 0.865907435582841, 'max_depth': 8, 'bootstrap': True, 'auc': 0.7996941896024465, 'f1': 0.4761904761904762, 'sensitivity': 0.4166666666666667, 'specificity': 0.926605504587156, 'accuracy': 0.8345864661654135}\n",
      "Test Set Accuracy: 0.8346\n"
     ]
    },
    {
     "name": "stderr",
     "output_type": "stream",
     "text": [
      "Inner Loop: 100%|██████████| 6/6 [00:29<00:00,  4.97s/it]\n",
      "Outer Loop:   2%|▏         | 4/200 [01:52<1:31:58, 28.15s/it]"
     ]
    },
    {
     "name": "stdout",
     "output_type": "stream",
     "text": [
      "\n",
      "Outer 3, Inner 5 -> Best Hyperparameters: {'n_estimators': 82, 'min_samples_split': 2, 'min_samples_leaf': 2, 'max_samples': 0.5328870517607349, 'max_depth': 13, 'bootstrap': True, 'auc': 0.797782874617737, 'f1': 0.45, 'sensitivity': 0.375, 'specificity': 0.9357798165137615, 'accuracy': 0.8345864661654135}\n",
      "Test Set Accuracy: 0.8346\n",
      "\n",
      "Best parameters saved to e:\\OneDrive\\School\\Technical Medicine\\TM Jaar 1\\Machine learning\\TM10007_Machine_Learning_Group_4\\TM\\TM10007_Machine_Learning_Group_4-1\\best_hyperparameters_smote.csv after Outer 3 completion\n"
     ]
    },
    {
     "name": "stderr",
     "output_type": "stream",
     "text": []
    },
    {
     "name": "stdout",
     "output_type": "stream",
     "text": [
      "\n",
      "Outer 4, Inner 0 -> Best Hyperparameters: {'n_estimators': 150, 'min_samples_split': 6, 'min_samples_leaf': 1, 'max_samples': 0.9599387403832994, 'max_depth': 22, 'bootstrap': True, 'auc': 0.742737003058104, 'f1': 0.2285714285714286, 'sensitivity': 0.16666666666666666, 'specificity': 0.9357798165137615, 'accuracy': 0.7969924812030075}\n",
      "Test Set Accuracy: 0.7970\n"
     ]
    },
    {
     "name": "stderr",
     "output_type": "stream",
     "text": []
    },
    {
     "name": "stdout",
     "output_type": "stream",
     "text": [
      "\n",
      "Outer 4, Inner 1 -> Best Hyperparameters: {'n_estimators': 149, 'min_samples_split': 9, 'min_samples_leaf': 2, 'max_samples': 0.8551551998522089, 'max_depth': 22, 'bootstrap': True, 'auc': 0.7920489296636086, 'f1': 0.32558139534883723, 'sensitivity': 0.2916666666666667, 'specificity': 0.8899082568807339, 'accuracy': 0.7819548872180451}\n",
      "Test Set Accuracy: 0.7820\n"
     ]
    },
    {
     "name": "stderr",
     "output_type": "stream",
     "text": []
    },
    {
     "name": "stdout",
     "output_type": "stream",
     "text": [
      "\n",
      "Outer 4, Inner 2 -> Best Hyperparameters: {'n_estimators': 142, 'min_samples_split': 2, 'min_samples_leaf': 4, 'max_samples': 0.8895468827304055, 'max_depth': 15, 'bootstrap': True, 'auc': 0.834480122324159, 'f1': 0.5263157894736842, 'sensitivity': 0.4166666666666667, 'specificity': 0.963302752293578, 'accuracy': 0.8646616541353384}\n",
      "Test Set Accuracy: 0.8647\n"
     ]
    },
    {
     "name": "stderr",
     "output_type": "stream",
     "text": []
    },
    {
     "name": "stdout",
     "output_type": "stream",
     "text": [
      "\n",
      "Outer 4, Inner 3 -> Best Hyperparameters: {'n_estimators': 94, 'min_samples_split': 2, 'min_samples_leaf': 3, 'max_samples': 0.8922716863424709, 'max_depth': 15, 'bootstrap': True, 'auc': 0.7744648318042814, 'f1': 0.380952380952381, 'sensitivity': 0.3333333333333333, 'specificity': 0.908256880733945, 'accuracy': 0.8045112781954887}\n",
      "Test Set Accuracy: 0.8045\n"
     ]
    },
    {
     "name": "stderr",
     "output_type": "stream",
     "text": []
    },
    {
     "name": "stdout",
     "output_type": "stream",
     "text": [
      "\n",
      "Outer 4, Inner 4 -> Best Hyperparameters: {'n_estimators': 137, 'min_samples_split': 5, 'min_samples_leaf': 1, 'max_samples': 0.8663985142718693, 'max_depth': 19, 'bootstrap': True, 'auc': 0.7415902140672782, 'f1': 0.125, 'sensitivity': 0.08333333333333333, 'specificity': 0.944954128440367, 'accuracy': 0.7894736842105263}\n",
      "Test Set Accuracy: 0.7895\n"
     ]
    },
    {
     "name": "stderr",
     "output_type": "stream",
     "text": [
      "Inner Loop: 100%|██████████| 6/6 [00:30<00:00,  5.08s/it]\n",
      "Outer Loop:   2%|▎         | 5/200 [02:23<1:34:13, 28.99s/it]"
     ]
    },
    {
     "name": "stdout",
     "output_type": "stream",
     "text": [
      "\n",
      "Outer 4, Inner 5 -> Best Hyperparameters: {'n_estimators': 126, 'min_samples_split': 5, 'min_samples_leaf': 1, 'max_samples': 0.6158881474127833, 'max_depth': 12, 'bootstrap': True, 'auc': 0.7947247706422018, 'f1': 0.4186046511627907, 'sensitivity': 0.375, 'specificity': 0.908256880733945, 'accuracy': 0.8120300751879699}\n",
      "Test Set Accuracy: 0.8120\n",
      "\n",
      "Best parameters saved to e:\\OneDrive\\School\\Technical Medicine\\TM Jaar 1\\Machine learning\\TM10007_Machine_Learning_Group_4\\TM\\TM10007_Machine_Learning_Group_4-1\\best_hyperparameters_smote.csv after Outer 4 completion\n"
     ]
    },
    {
     "name": "stderr",
     "output_type": "stream",
     "text": []
    },
    {
     "name": "stdout",
     "output_type": "stream",
     "text": [
      "\n",
      "Outer 5, Inner 0 -> Best Hyperparameters: {'n_estimators': 200, 'min_samples_split': 4, 'min_samples_leaf': 4, 'max_samples': 0.9648936703358125, 'max_depth': 11, 'bootstrap': True, 'auc': 0.8115443425076453, 'f1': 0.5217391304347826, 'sensitivity': 0.5, 'specificity': 0.908256880733945, 'accuracy': 0.8345864661654135}\n",
      "Test Set Accuracy: 0.8346\n"
     ]
    },
    {
     "name": "stderr",
     "output_type": "stream",
     "text": []
    },
    {
     "name": "stdout",
     "output_type": "stream",
     "text": [
      "\n",
      "Outer 5, Inner 1 -> Best Hyperparameters: {'n_estimators': 117, 'min_samples_split': 7, 'min_samples_leaf': 2, 'max_samples': 0.555403223415388, 'max_depth': 17, 'bootstrap': True, 'auc': 0.8138379204892966, 'f1': 0.6, 'sensitivity': 0.625, 'specificity': 0.8990825688073395, 'accuracy': 0.849624060150376}\n",
      "Test Set Accuracy: 0.8496\n"
     ]
    },
    {
     "name": "stderr",
     "output_type": "stream",
     "text": []
    },
    {
     "name": "stdout",
     "output_type": "stream",
     "text": [
      "\n",
      "Outer 5, Inner 2 -> Best Hyperparameters: {'n_estimators': 144, 'min_samples_split': 7, 'min_samples_leaf': 1, 'max_samples': 0.8103479311245603, 'max_depth': 27, 'bootstrap': True, 'auc': 0.8016055045871561, 'f1': 0.5, 'sensitivity': 0.4583333333333333, 'specificity': 0.9174311926605505, 'accuracy': 0.8345864661654135}\n",
      "Test Set Accuracy: 0.8346\n"
     ]
    },
    {
     "name": "stderr",
     "output_type": "stream",
     "text": []
    },
    {
     "name": "stdout",
     "output_type": "stream",
     "text": [
      "\n",
      "Outer 5, Inner 3 -> Best Hyperparameters: {'n_estimators': 138, 'min_samples_split': 2, 'min_samples_leaf': 1, 'max_samples': 0.8661747066983236, 'max_depth': 19, 'bootstrap': True, 'auc': 0.8184250764525993, 'f1': 0.4390243902439025, 'sensitivity': 0.375, 'specificity': 0.926605504587156, 'accuracy': 0.8270676691729323}\n",
      "Test Set Accuracy: 0.8271\n"
     ]
    },
    {
     "name": "stderr",
     "output_type": "stream",
     "text": []
    },
    {
     "name": "stdout",
     "output_type": "stream",
     "text": [
      "\n",
      "Outer 5, Inner 4 -> Best Hyperparameters: {'n_estimators': 173, 'min_samples_split': 8, 'min_samples_leaf': 2, 'max_samples': 0.881393141376561, 'max_depth': 11, 'bootstrap': True, 'auc': 0.797400611620795, 'f1': 0.4090909090909091, 'sensitivity': 0.375, 'specificity': 0.8990825688073395, 'accuracy': 0.8045112781954887}\n",
      "Test Set Accuracy: 0.8045\n"
     ]
    },
    {
     "name": "stderr",
     "output_type": "stream",
     "text": [
      "Inner Loop: 100%|██████████| 6/6 [00:32<00:00,  5.49s/it]\n",
      "Outer Loop:   3%|▎         | 6/200 [02:56<1:38:05, 30.34s/it]"
     ]
    },
    {
     "name": "stdout",
     "output_type": "stream",
     "text": [
      "\n",
      "Outer 5, Inner 5 -> Best Hyperparameters: {'n_estimators': 174, 'min_samples_split': 5, 'min_samples_leaf': 4, 'max_samples': 0.9912682206521714, 'max_depth': 20, 'bootstrap': True, 'auc': 0.7866972477064221, 'f1': 0.5217391304347826, 'sensitivity': 0.5, 'specificity': 0.908256880733945, 'accuracy': 0.8345864661654135}\n",
      "Test Set Accuracy: 0.8346\n",
      "\n",
      "Best parameters saved to e:\\OneDrive\\School\\Technical Medicine\\TM Jaar 1\\Machine learning\\TM10007_Machine_Learning_Group_4\\TM\\TM10007_Machine_Learning_Group_4-1\\best_hyperparameters_smote.csv after Outer 5 completion\n"
     ]
    },
    {
     "name": "stderr",
     "output_type": "stream",
     "text": []
    },
    {
     "name": "stdout",
     "output_type": "stream",
     "text": [
      "\n",
      "Outer 6, Inner 0 -> Best Hyperparameters: {'n_estimators': 163, 'min_samples_split': 4, 'min_samples_leaf': 4, 'max_samples': 0.8574468833007362, 'max_depth': 18, 'bootstrap': True, 'auc': 0.7886085626911314, 'f1': 0.4, 'sensitivity': 0.2916666666666667, 'specificity': 0.963302752293578, 'accuracy': 0.8421052631578947}\n",
      "Test Set Accuracy: 0.8421\n"
     ]
    },
    {
     "name": "stderr",
     "output_type": "stream",
     "text": []
    },
    {
     "name": "stdout",
     "output_type": "stream",
     "text": [
      "\n",
      "Outer 6, Inner 1 -> Best Hyperparameters: {'n_estimators': 198, 'min_samples_split': 5, 'min_samples_leaf': 1, 'max_samples': 0.8793245493627475, 'max_depth': 28, 'bootstrap': True, 'auc': 0.8253058103975535, 'f1': 0.3333333333333333, 'sensitivity': 0.25, 'specificity': 0.944954128440367, 'accuracy': 0.8195488721804511}\n",
      "Test Set Accuracy: 0.8195\n"
     ]
    },
    {
     "name": "stderr",
     "output_type": "stream",
     "text": []
    },
    {
     "name": "stdout",
     "output_type": "stream",
     "text": [
      "\n",
      "Outer 6, Inner 2 -> Best Hyperparameters: {'n_estimators': 178, 'min_samples_split': 4, 'min_samples_leaf': 3, 'max_samples': 0.8953656969271215, 'max_depth': 12, 'bootstrap': True, 'auc': 0.8031345565749236, 'f1': 0.4102564102564102, 'sensitivity': 0.3333333333333333, 'specificity': 0.9357798165137615, 'accuracy': 0.8270676691729323}\n",
      "Test Set Accuracy: 0.8271\n"
     ]
    },
    {
     "name": "stderr",
     "output_type": "stream",
     "text": []
    },
    {
     "name": "stdout",
     "output_type": "stream",
     "text": [
      "\n",
      "Outer 6, Inner 3 -> Best Hyperparameters: {'n_estimators': 192, 'min_samples_split': 2, 'min_samples_leaf': 1, 'max_samples': 0.5994341863145302, 'max_depth': 21, 'bootstrap': True, 'auc': 0.8398318042813456, 'f1': 0.4, 'sensitivity': 0.2916666666666667, 'specificity': 0.963302752293578, 'accuracy': 0.8421052631578947}\n",
      "Test Set Accuracy: 0.8421\n"
     ]
    },
    {
     "name": "stderr",
     "output_type": "stream",
     "text": []
    },
    {
     "name": "stdout",
     "output_type": "stream",
     "text": [
      "\n",
      "Outer 6, Inner 4 -> Best Hyperparameters: {'n_estimators': 94, 'min_samples_split': 2, 'min_samples_leaf': 1, 'max_samples': 0.6334326091656438, 'max_depth': 27, 'bootstrap': True, 'auc': 0.8279816513761468, 'f1': 0.4571428571428572, 'sensitivity': 0.3333333333333333, 'specificity': 0.9724770642201835, 'accuracy': 0.8571428571428571}\n",
      "Test Set Accuracy: 0.8571\n"
     ]
    },
    {
     "name": "stderr",
     "output_type": "stream",
     "text": [
      "Inner Loop: 100%|██████████| 6/6 [00:36<00:00,  6.15s/it]\n",
      "Outer Loop:   4%|▎         | 7/200 [03:32<1:44:28, 32.48s/it]"
     ]
    },
    {
     "name": "stdout",
     "output_type": "stream",
     "text": [
      "\n",
      "Outer 6, Inner 5 -> Best Hyperparameters: {'n_estimators': 198, 'min_samples_split': 3, 'min_samples_leaf': 3, 'max_samples': 0.6953961944769302, 'max_depth': 15, 'bootstrap': True, 'auc': 0.7939602446483179, 'f1': 0.4615384615384615, 'sensitivity': 0.375, 'specificity': 0.944954128440367, 'accuracy': 0.8421052631578947}\n",
      "Test Set Accuracy: 0.8421\n",
      "\n",
      "Best parameters saved to e:\\OneDrive\\School\\Technical Medicine\\TM Jaar 1\\Machine learning\\TM10007_Machine_Learning_Group_4\\TM\\TM10007_Machine_Learning_Group_4-1\\best_hyperparameters_smote.csv after Outer 6 completion\n"
     ]
    },
    {
     "name": "stderr",
     "output_type": "stream",
     "text": []
    },
    {
     "name": "stdout",
     "output_type": "stream",
     "text": [
      "\n",
      "Outer 7, Inner 0 -> Best Hyperparameters: {'n_estimators': 125, 'min_samples_split': 9, 'min_samples_leaf': 2, 'max_samples': 0.9396843266393764, 'max_depth': 19, 'bootstrap': True, 'auc': 0.8390672782874617, 'f1': 0.35897435897435903, 'sensitivity': 0.2916666666666667, 'specificity': 0.926605504587156, 'accuracy': 0.8120300751879699}\n",
      "Test Set Accuracy: 0.8120\n"
     ]
    },
    {
     "name": "stderr",
     "output_type": "stream",
     "text": []
    },
    {
     "name": "stdout",
     "output_type": "stream",
     "text": [
      "\n",
      "Outer 7, Inner 1 -> Best Hyperparameters: {'n_estimators': 170, 'min_samples_split': 4, 'min_samples_leaf': 1, 'max_samples': 0.6390112286103722, 'max_depth': 21, 'bootstrap': True, 'auc': 0.8331422018348624, 'f1': 0.38888888888888895, 'sensitivity': 0.2916666666666667, 'specificity': 0.9541284403669725, 'accuracy': 0.8345864661654135}\n",
      "Test Set Accuracy: 0.8346\n"
     ]
    },
    {
     "name": "stderr",
     "output_type": "stream",
     "text": []
    },
    {
     "name": "stdout",
     "output_type": "stream",
     "text": [
      "\n",
      "Outer 7, Inner 2 -> Best Hyperparameters: {'n_estimators': 196, 'min_samples_split': 8, 'min_samples_leaf': 4, 'max_samples': 0.941404865570048, 'max_depth': 22, 'bootstrap': True, 'auc': 0.8134556574923547, 'f1': 0.17142857142857143, 'sensitivity': 0.125, 'specificity': 0.926605504587156, 'accuracy': 0.7819548872180451}\n",
      "Test Set Accuracy: 0.7820\n"
     ]
    },
    {
     "name": "stderr",
     "output_type": "stream",
     "text": []
    },
    {
     "name": "stdout",
     "output_type": "stream",
     "text": [
      "\n",
      "Outer 7, Inner 3 -> Best Hyperparameters: {'n_estimators': 97, 'min_samples_split': 8, 'min_samples_leaf': 2, 'max_samples': 0.9113560034457007, 'max_depth': 9, 'bootstrap': True, 'auc': 0.8501529051987767, 'f1': 0.5641025641025641, 'sensitivity': 0.4583333333333333, 'specificity': 0.963302752293578, 'accuracy': 0.8721804511278195}\n",
      "Test Set Accuracy: 0.8722\n"
     ]
    },
    {
     "name": "stderr",
     "output_type": "stream",
     "text": []
    },
    {
     "name": "stdout",
     "output_type": "stream",
     "text": [
      "\n",
      "Outer 7, Inner 4 -> Best Hyperparameters: {'n_estimators': 97, 'min_samples_split': 2, 'min_samples_leaf': 3, 'max_samples': 0.5697206003197255, 'max_depth': 9, 'bootstrap': True, 'auc': 0.8772935779816514, 'f1': 0.5128205128205129, 'sensitivity': 0.4166666666666667, 'specificity': 0.9541284403669725, 'accuracy': 0.8571428571428571}\n",
      "Test Set Accuracy: 0.8571\n"
     ]
    },
    {
     "name": "stderr",
     "output_type": "stream",
     "text": [
      "Inner Loop: 100%|██████████| 6/6 [00:33<00:00,  5.61s/it]\n",
      "Outer Loop:   4%|▍         | 8/200 [04:06<1:45:07, 32.85s/it]"
     ]
    },
    {
     "name": "stdout",
     "output_type": "stream",
     "text": [
      "\n",
      "Outer 7, Inner 5 -> Best Hyperparameters: {'n_estimators': 145, 'min_samples_split': 2, 'min_samples_leaf': 2, 'max_samples': 0.7321008382256177, 'max_depth': 12, 'bootstrap': True, 'auc': 0.8761467889908258, 'f1': 0.5128205128205129, 'sensitivity': 0.4166666666666667, 'specificity': 0.9541284403669725, 'accuracy': 0.8571428571428571}\n",
      "Test Set Accuracy: 0.8571\n",
      "\n",
      "Best parameters saved to e:\\OneDrive\\School\\Technical Medicine\\TM Jaar 1\\Machine learning\\TM10007_Machine_Learning_Group_4\\TM\\TM10007_Machine_Learning_Group_4-1\\best_hyperparameters_smote.csv after Outer 7 completion\n"
     ]
    },
    {
     "name": "stderr",
     "output_type": "stream",
     "text": []
    },
    {
     "name": "stdout",
     "output_type": "stream",
     "text": [
      "\n",
      "Outer 8, Inner 0 -> Best Hyperparameters: {'n_estimators': 184, 'min_samples_split': 7, 'min_samples_leaf': 3, 'max_samples': 0.5274555536217334, 'max_depth': 11, 'bootstrap': True, 'auc': 0.7801987767584099, 'f1': 0.5, 'sensitivity': 0.5, 'specificity': 0.8899082568807339, 'accuracy': 0.8195488721804511}\n",
      "Test Set Accuracy: 0.8195\n"
     ]
    },
    {
     "name": "stderr",
     "output_type": "stream",
     "text": []
    },
    {
     "name": "stdout",
     "output_type": "stream",
     "text": [
      "\n",
      "Outer 8, Inner 1 -> Best Hyperparameters: {'n_estimators': 114, 'min_samples_split': 4, 'min_samples_leaf': 1, 'max_samples': 0.9457300762932561, 'max_depth': 27, 'bootstrap': True, 'auc': 0.8012232415902141, 'f1': 0.3783783783783784, 'sensitivity': 0.2916666666666667, 'specificity': 0.944954128440367, 'accuracy': 0.8270676691729323}\n",
      "Test Set Accuracy: 0.8271\n"
     ]
    },
    {
     "name": "stderr",
     "output_type": "stream",
     "text": [
      "Inner Loop:  33%|███▎      | 2/6 [00:12<00:25,  6.27s/it]\n",
      "Outer Loop:   4%|▍         | 8/200 [04:19<1:43:39, 32.39s/it]\n"
     ]
    },
    {
     "ename": "KeyboardInterrupt",
     "evalue": "",
     "output_type": "error",
     "traceback": [
      "\u001b[1;31m---------------------------------------------------------------------------\u001b[0m",
      "\u001b[1;31mKeyboardInterrupt\u001b[0m                         Traceback (most recent call last)",
      "Cell \u001b[1;32mIn[4], line 72\u001b[0m\n\u001b[0;32m     62\u001b[0m random_search \u001b[38;5;241m=\u001b[39m RandomizedSearchCV(\n\u001b[0;32m     63\u001b[0m     estimator\u001b[38;5;241m=\u001b[39mrf_model,\n\u001b[0;32m     64\u001b[0m     param_distributions\u001b[38;5;241m=\u001b[39mparam_grid_rf,\n\u001b[1;32m   (...)\u001b[0m\n\u001b[0;32m     68\u001b[0m     n_jobs\u001b[38;5;241m=\u001b[39m\u001b[38;5;241m-\u001b[39m\u001b[38;5;241m1\u001b[39m\n\u001b[0;32m     69\u001b[0m )\n\u001b[0;32m     71\u001b[0m \u001b[38;5;66;03m# Use SMOTE-resampled training data\u001b[39;00m\n\u001b[1;32m---> 72\u001b[0m random_search\u001b[38;5;241m.\u001b[39mfit(X_train_train_res, y_train_train_res)\n\u001b[0;32m     74\u001b[0m best_params \u001b[38;5;241m=\u001b[39m random_search\u001b[38;5;241m.\u001b[39mbest_params_\n\u001b[0;32m     75\u001b[0m best_params_list[\u001b[38;5;124mf\u001b[39m\u001b[38;5;124m\"\u001b[39m\u001b[38;5;124mOuter \u001b[39m\u001b[38;5;132;01m{\u001b[39;00mouter_rand\u001b[38;5;132;01m}\u001b[39;00m\u001b[38;5;124m - Inner \u001b[39m\u001b[38;5;132;01m{\u001b[39;00minner_rand\u001b[38;5;132;01m}\u001b[39;00m\u001b[38;5;124m\"\u001b[39m] \u001b[38;5;241m=\u001b[39m best_params\n",
      "File \u001b[1;32mc:\\Users\\mdcal\\anaconda3\\Lib\\site-packages\\sklearn\\model_selection\\_search.py:874\u001b[0m, in \u001b[0;36mBaseSearchCV.fit\u001b[1;34m(self, X, y, groups, **fit_params)\u001b[0m\n\u001b[0;32m    868\u001b[0m     results \u001b[38;5;241m=\u001b[39m \u001b[38;5;28mself\u001b[39m\u001b[38;5;241m.\u001b[39m_format_results(\n\u001b[0;32m    869\u001b[0m         all_candidate_params, n_splits, all_out, all_more_results\n\u001b[0;32m    870\u001b[0m     )\n\u001b[0;32m    872\u001b[0m     \u001b[38;5;28;01mreturn\u001b[39;00m results\n\u001b[1;32m--> 874\u001b[0m \u001b[38;5;28mself\u001b[39m\u001b[38;5;241m.\u001b[39m_run_search(evaluate_candidates)\n\u001b[0;32m    876\u001b[0m \u001b[38;5;66;03m# multimetric is determined here because in the case of a callable\u001b[39;00m\n\u001b[0;32m    877\u001b[0m \u001b[38;5;66;03m# self.scoring the return type is only known after calling\u001b[39;00m\n\u001b[0;32m    878\u001b[0m first_test_score \u001b[38;5;241m=\u001b[39m all_out[\u001b[38;5;241m0\u001b[39m][\u001b[38;5;124m\"\u001b[39m\u001b[38;5;124mtest_scores\u001b[39m\u001b[38;5;124m\"\u001b[39m]\n",
      "File \u001b[1;32mc:\\Users\\mdcal\\anaconda3\\Lib\\site-packages\\sklearn\\model_selection\\_search.py:1768\u001b[0m, in \u001b[0;36mRandomizedSearchCV._run_search\u001b[1;34m(self, evaluate_candidates)\u001b[0m\n\u001b[0;32m   1766\u001b[0m \u001b[38;5;28;01mdef\u001b[39;00m \u001b[38;5;21m_run_search\u001b[39m(\u001b[38;5;28mself\u001b[39m, evaluate_candidates):\n\u001b[0;32m   1767\u001b[0m \u001b[38;5;250m    \u001b[39m\u001b[38;5;124;03m\"\"\"Search n_iter candidates from param_distributions\"\"\"\u001b[39;00m\n\u001b[1;32m-> 1768\u001b[0m     evaluate_candidates(\n\u001b[0;32m   1769\u001b[0m         ParameterSampler(\n\u001b[0;32m   1770\u001b[0m             \u001b[38;5;28mself\u001b[39m\u001b[38;5;241m.\u001b[39mparam_distributions, \u001b[38;5;28mself\u001b[39m\u001b[38;5;241m.\u001b[39mn_iter, random_state\u001b[38;5;241m=\u001b[39m\u001b[38;5;28mself\u001b[39m\u001b[38;5;241m.\u001b[39mrandom_state\n\u001b[0;32m   1771\u001b[0m         )\n\u001b[0;32m   1772\u001b[0m     )\n",
      "File \u001b[1;32mc:\\Users\\mdcal\\anaconda3\\Lib\\site-packages\\sklearn\\model_selection\\_search.py:821\u001b[0m, in \u001b[0;36mBaseSearchCV.fit.<locals>.evaluate_candidates\u001b[1;34m(candidate_params, cv, more_results)\u001b[0m\n\u001b[0;32m    813\u001b[0m \u001b[38;5;28;01mif\u001b[39;00m \u001b[38;5;28mself\u001b[39m\u001b[38;5;241m.\u001b[39mverbose \u001b[38;5;241m>\u001b[39m \u001b[38;5;241m0\u001b[39m:\n\u001b[0;32m    814\u001b[0m     \u001b[38;5;28mprint\u001b[39m(\n\u001b[0;32m    815\u001b[0m         \u001b[38;5;124m\"\u001b[39m\u001b[38;5;124mFitting \u001b[39m\u001b[38;5;132;01m{0}\u001b[39;00m\u001b[38;5;124m folds for each of \u001b[39m\u001b[38;5;132;01m{1}\u001b[39;00m\u001b[38;5;124m candidates,\u001b[39m\u001b[38;5;124m\"\u001b[39m\n\u001b[0;32m    816\u001b[0m         \u001b[38;5;124m\"\u001b[39m\u001b[38;5;124m totalling \u001b[39m\u001b[38;5;132;01m{2}\u001b[39;00m\u001b[38;5;124m fits\u001b[39m\u001b[38;5;124m\"\u001b[39m\u001b[38;5;241m.\u001b[39mformat(\n\u001b[0;32m    817\u001b[0m             n_splits, n_candidates, n_candidates \u001b[38;5;241m*\u001b[39m n_splits\n\u001b[0;32m    818\u001b[0m         )\n\u001b[0;32m    819\u001b[0m     )\n\u001b[1;32m--> 821\u001b[0m out \u001b[38;5;241m=\u001b[39m parallel(\n\u001b[0;32m    822\u001b[0m     delayed(_fit_and_score)(\n\u001b[0;32m    823\u001b[0m         clone(base_estimator),\n\u001b[0;32m    824\u001b[0m         X,\n\u001b[0;32m    825\u001b[0m         y,\n\u001b[0;32m    826\u001b[0m         train\u001b[38;5;241m=\u001b[39mtrain,\n\u001b[0;32m    827\u001b[0m         test\u001b[38;5;241m=\u001b[39mtest,\n\u001b[0;32m    828\u001b[0m         parameters\u001b[38;5;241m=\u001b[39mparameters,\n\u001b[0;32m    829\u001b[0m         split_progress\u001b[38;5;241m=\u001b[39m(split_idx, n_splits),\n\u001b[0;32m    830\u001b[0m         candidate_progress\u001b[38;5;241m=\u001b[39m(cand_idx, n_candidates),\n\u001b[0;32m    831\u001b[0m         \u001b[38;5;241m*\u001b[39m\u001b[38;5;241m*\u001b[39mfit_and_score_kwargs,\n\u001b[0;32m    832\u001b[0m     )\n\u001b[0;32m    833\u001b[0m     \u001b[38;5;28;01mfor\u001b[39;00m (cand_idx, parameters), (split_idx, (train, test)) \u001b[38;5;129;01min\u001b[39;00m product(\n\u001b[0;32m    834\u001b[0m         \u001b[38;5;28menumerate\u001b[39m(candidate_params), \u001b[38;5;28menumerate\u001b[39m(cv\u001b[38;5;241m.\u001b[39msplit(X, y, groups))\n\u001b[0;32m    835\u001b[0m     )\n\u001b[0;32m    836\u001b[0m )\n\u001b[0;32m    838\u001b[0m \u001b[38;5;28;01mif\u001b[39;00m \u001b[38;5;28mlen\u001b[39m(out) \u001b[38;5;241m<\u001b[39m \u001b[38;5;241m1\u001b[39m:\n\u001b[0;32m    839\u001b[0m     \u001b[38;5;28;01mraise\u001b[39;00m \u001b[38;5;167;01mValueError\u001b[39;00m(\n\u001b[0;32m    840\u001b[0m         \u001b[38;5;124m\"\u001b[39m\u001b[38;5;124mNo fits were performed. \u001b[39m\u001b[38;5;124m\"\u001b[39m\n\u001b[0;32m    841\u001b[0m         \u001b[38;5;124m\"\u001b[39m\u001b[38;5;124mWas the CV iterator empty? \u001b[39m\u001b[38;5;124m\"\u001b[39m\n\u001b[0;32m    842\u001b[0m         \u001b[38;5;124m\"\u001b[39m\u001b[38;5;124mWere there no candidates?\u001b[39m\u001b[38;5;124m\"\u001b[39m\n\u001b[0;32m    843\u001b[0m     )\n",
      "File \u001b[1;32mc:\\Users\\mdcal\\anaconda3\\Lib\\site-packages\\sklearn\\utils\\parallel.py:63\u001b[0m, in \u001b[0;36mParallel.__call__\u001b[1;34m(self, iterable)\u001b[0m\n\u001b[0;32m     58\u001b[0m config \u001b[38;5;241m=\u001b[39m get_config()\n\u001b[0;32m     59\u001b[0m iterable_with_config \u001b[38;5;241m=\u001b[39m (\n\u001b[0;32m     60\u001b[0m     (_with_config(delayed_func, config), args, kwargs)\n\u001b[0;32m     61\u001b[0m     \u001b[38;5;28;01mfor\u001b[39;00m delayed_func, args, kwargs \u001b[38;5;129;01min\u001b[39;00m iterable\n\u001b[0;32m     62\u001b[0m )\n\u001b[1;32m---> 63\u001b[0m \u001b[38;5;28;01mreturn\u001b[39;00m \u001b[38;5;28msuper\u001b[39m()\u001b[38;5;241m.\u001b[39m\u001b[38;5;21m__call__\u001b[39m(iterable_with_config)\n",
      "File \u001b[1;32mc:\\Users\\mdcal\\anaconda3\\Lib\\site-packages\\joblib\\parallel.py:1098\u001b[0m, in \u001b[0;36mParallel.__call__\u001b[1;34m(self, iterable)\u001b[0m\n\u001b[0;32m   1095\u001b[0m     \u001b[38;5;28mself\u001b[39m\u001b[38;5;241m.\u001b[39m_iterating \u001b[38;5;241m=\u001b[39m \u001b[38;5;28;01mFalse\u001b[39;00m\n\u001b[0;32m   1097\u001b[0m \u001b[38;5;28;01mwith\u001b[39;00m \u001b[38;5;28mself\u001b[39m\u001b[38;5;241m.\u001b[39m_backend\u001b[38;5;241m.\u001b[39mretrieval_context():\n\u001b[1;32m-> 1098\u001b[0m     \u001b[38;5;28mself\u001b[39m\u001b[38;5;241m.\u001b[39mretrieve()\n\u001b[0;32m   1099\u001b[0m \u001b[38;5;66;03m# Make sure that we get a last message telling us we are done\u001b[39;00m\n\u001b[0;32m   1100\u001b[0m elapsed_time \u001b[38;5;241m=\u001b[39m time\u001b[38;5;241m.\u001b[39mtime() \u001b[38;5;241m-\u001b[39m \u001b[38;5;28mself\u001b[39m\u001b[38;5;241m.\u001b[39m_start_time\n",
      "File \u001b[1;32mc:\\Users\\mdcal\\anaconda3\\Lib\\site-packages\\joblib\\parallel.py:975\u001b[0m, in \u001b[0;36mParallel.retrieve\u001b[1;34m(self)\u001b[0m\n\u001b[0;32m    973\u001b[0m \u001b[38;5;28;01mtry\u001b[39;00m:\n\u001b[0;32m    974\u001b[0m     \u001b[38;5;28;01mif\u001b[39;00m \u001b[38;5;28mgetattr\u001b[39m(\u001b[38;5;28mself\u001b[39m\u001b[38;5;241m.\u001b[39m_backend, \u001b[38;5;124m'\u001b[39m\u001b[38;5;124msupports_timeout\u001b[39m\u001b[38;5;124m'\u001b[39m, \u001b[38;5;28;01mFalse\u001b[39;00m):\n\u001b[1;32m--> 975\u001b[0m         \u001b[38;5;28mself\u001b[39m\u001b[38;5;241m.\u001b[39m_output\u001b[38;5;241m.\u001b[39mextend(job\u001b[38;5;241m.\u001b[39mget(timeout\u001b[38;5;241m=\u001b[39m\u001b[38;5;28mself\u001b[39m\u001b[38;5;241m.\u001b[39mtimeout))\n\u001b[0;32m    976\u001b[0m     \u001b[38;5;28;01melse\u001b[39;00m:\n\u001b[0;32m    977\u001b[0m         \u001b[38;5;28mself\u001b[39m\u001b[38;5;241m.\u001b[39m_output\u001b[38;5;241m.\u001b[39mextend(job\u001b[38;5;241m.\u001b[39mget())\n",
      "File \u001b[1;32mc:\\Users\\mdcal\\anaconda3\\Lib\\site-packages\\joblib\\_parallel_backends.py:567\u001b[0m, in \u001b[0;36mLokyBackend.wrap_future_result\u001b[1;34m(future, timeout)\u001b[0m\n\u001b[0;32m    564\u001b[0m \u001b[38;5;250m\u001b[39m\u001b[38;5;124;03m\"\"\"Wrapper for Future.result to implement the same behaviour as\u001b[39;00m\n\u001b[0;32m    565\u001b[0m \u001b[38;5;124;03mAsyncResults.get from multiprocessing.\"\"\"\u001b[39;00m\n\u001b[0;32m    566\u001b[0m \u001b[38;5;28;01mtry\u001b[39;00m:\n\u001b[1;32m--> 567\u001b[0m     \u001b[38;5;28;01mreturn\u001b[39;00m future\u001b[38;5;241m.\u001b[39mresult(timeout\u001b[38;5;241m=\u001b[39mtimeout)\n\u001b[0;32m    568\u001b[0m \u001b[38;5;28;01mexcept\u001b[39;00m CfTimeoutError \u001b[38;5;28;01mas\u001b[39;00m e:\n\u001b[0;32m    569\u001b[0m     \u001b[38;5;28;01mraise\u001b[39;00m \u001b[38;5;167;01mTimeoutError\u001b[39;00m \u001b[38;5;28;01mfrom\u001b[39;00m \u001b[38;5;21;01me\u001b[39;00m\n",
      "File \u001b[1;32mc:\\Users\\mdcal\\anaconda3\\Lib\\concurrent\\futures\\_base.py:451\u001b[0m, in \u001b[0;36mFuture.result\u001b[1;34m(self, timeout)\u001b[0m\n\u001b[0;32m    448\u001b[0m \u001b[38;5;28;01melif\u001b[39;00m \u001b[38;5;28mself\u001b[39m\u001b[38;5;241m.\u001b[39m_state \u001b[38;5;241m==\u001b[39m FINISHED:\n\u001b[0;32m    449\u001b[0m     \u001b[38;5;28;01mreturn\u001b[39;00m \u001b[38;5;28mself\u001b[39m\u001b[38;5;241m.\u001b[39m__get_result()\n\u001b[1;32m--> 451\u001b[0m \u001b[38;5;28mself\u001b[39m\u001b[38;5;241m.\u001b[39m_condition\u001b[38;5;241m.\u001b[39mwait(timeout)\n\u001b[0;32m    453\u001b[0m \u001b[38;5;28;01mif\u001b[39;00m \u001b[38;5;28mself\u001b[39m\u001b[38;5;241m.\u001b[39m_state \u001b[38;5;129;01min\u001b[39;00m [CANCELLED, CANCELLED_AND_NOTIFIED]:\n\u001b[0;32m    454\u001b[0m     \u001b[38;5;28;01mraise\u001b[39;00m CancelledError()\n",
      "File \u001b[1;32mc:\\Users\\mdcal\\anaconda3\\Lib\\threading.py:327\u001b[0m, in \u001b[0;36mCondition.wait\u001b[1;34m(self, timeout)\u001b[0m\n\u001b[0;32m    325\u001b[0m \u001b[38;5;28;01mtry\u001b[39;00m:    \u001b[38;5;66;03m# restore state no matter what (e.g., KeyboardInterrupt)\u001b[39;00m\n\u001b[0;32m    326\u001b[0m     \u001b[38;5;28;01mif\u001b[39;00m timeout \u001b[38;5;129;01mis\u001b[39;00m \u001b[38;5;28;01mNone\u001b[39;00m:\n\u001b[1;32m--> 327\u001b[0m         waiter\u001b[38;5;241m.\u001b[39macquire()\n\u001b[0;32m    328\u001b[0m         gotit \u001b[38;5;241m=\u001b[39m \u001b[38;5;28;01mTrue\u001b[39;00m\n\u001b[0;32m    329\u001b[0m     \u001b[38;5;28;01melse\u001b[39;00m:\n",
      "\u001b[1;31mKeyboardInterrupt\u001b[0m: "
     ]
    }
   ],
   "source": [
    "import os\n",
    "import random\n",
    "\n",
    "import numpy as np\n",
    "import pandas as pd\n",
    "from tqdm import tqdm\n",
    "\n",
    "from sklearn.model_selection import train_test_split, RandomizedSearchCV\n",
    "from sklearn.ensemble import RandomForestClassifier\n",
    "from sklearn.metrics import confusion_matrix, roc_auc_score, accuracy_score, f1_score\n",
    "from imblearn.over_sampling import SMOTE\n",
    "from sklearn.decomposition import PCA\n",
    "\n",
    "# Load data\n",
    "data_path = r'E:\\OneDrive\\School\\Technical Medicine\\TM Jaar 1\\Machine learning\\TM10007_Machine_Learning_Group_4\\TM\\ecg_data.csv'\n",
    "data = pd.read_csv(data_path, index_col=0)\n",
    "\n",
    "# Splitting features and labels\n",
    "x = data.iloc[:, :-1].values\n",
    "y = data.iloc[:, -1].values\n",
    "\n",
    "outer = range(0, 200)\n",
    "inner = range(0, 6)\n",
    "\n",
    "best_params_list = {}\n",
    "\n",
    "#prior split\n",
    "X_train_main, X_test_main, y_train_main, y_test_main = train_test_split(\n",
    "        x, y, test_size=0.2, stratify=y, shuffle=True, random_state=7)\n",
    "\n",
    "# Apply PCA to reduce dimensionality\n",
    "pca = PCA(n_components=0.99, random_state=7)  # Retain 95% of variance\n",
    "X_train_main = pca.fit_transform(X_train_main)\n",
    "X_test_main = pca.transform(X_test_main)\n",
    "\n",
    "for outer_rand in tqdm(outer, desc='Outer Loop'):\n",
    "    # Outer split\n",
    "    X_train, X_test, y_train, y_test = train_test_split(\n",
    "        X_train_main, y_train_main, test_size=0.2, stratify=y_train_main, shuffle=True, random_state=outer_rand)  # random_state added for reproducibility\n",
    "\n",
    "    for inner_rand in tqdm(inner, desc='Inner Loop'):\n",
    "        # Inner split\n",
    "        X_train_train, X_train_val, y_train_train, y_train_val = train_test_split(\n",
    "            X_train, y_train, test_size=0.15, stratify=y_train, shuffle=True, random_state=inner_rand)\n",
    "\n",
    "\n",
    "        # APPLY SMOTE HERE (only to inner train set)\n",
    "        smote = SMOTE(random_state=42)\n",
    "        X_train_train_res, y_train_train_res = smote.fit_resample(X_train_train, y_train_train)\n",
    "\n",
    "        # Hyperparameter grid\n",
    "        param_grid_rf = {\n",
    "            'n_estimators': [random.randint(50, 200) for _ in range(3)],\n",
    "            'max_depth': [random.randint(5, 30) for _ in range(3)],\n",
    "            'min_samples_split': [random.randint(2, 10) for _ in range(3)],\n",
    "            'min_samples_leaf': [random.randint(1, 4) for _ in range(3)],\n",
    "            'max_samples': [random.uniform(0.5, 1) for _ in range(3)],\n",
    "            'bootstrap': [True]\n",
    "        }\n",
    "\n",
    "        rf_model = RandomForestClassifier()\n",
    "        random_search = RandomizedSearchCV(\n",
    "            estimator=rf_model,\n",
    "            param_distributions=param_grid_rf,\n",
    "            scoring='recall',\n",
    "            cv=5,\n",
    "            n_iter=10,\n",
    "            n_jobs=-1\n",
    "        )\n",
    "\n",
    "        # Use SMOTE-resampled training data\n",
    "        random_search.fit(X_train_train_res, y_train_train_res)\n",
    "\n",
    "        best_params = random_search.best_params_\n",
    "        best_params_list[f\"Outer {outer_rand} - Inner {inner_rand}\"] = best_params\n",
    "\n",
    "        best_model = random_search.best_estimator_\n",
    "        y_pred = best_model.predict(X_test)\n",
    "        tn, fp, fn, tp = confusion_matrix(y_test, y_pred).ravel()\n",
    "\n",
    "        sensitivity = tp / (tp + fn) if (tp + fn) > 0 else 0\n",
    "        specificity = tn / (tn + fp) if (tn + fp) > 0 else 0\n",
    "        y_pred_proba = best_model.predict_proba(X_test)[:, 1]\n",
    "        auc_score = roc_auc_score(y_test, y_pred_proba)\n",
    "        f1 = f1_score(y_test, y_pred)\n",
    "        accuracy = accuracy_score(y_test, y_pred)\n",
    "\n",
    "        best_params_list[f\"Outer {outer_rand} - Inner {inner_rand}\"]['auc'] = auc_score\n",
    "        best_params_list[f\"Outer {outer_rand} - Inner {inner_rand}\"]['f1'] = f1\n",
    "        best_params_list[f\"Outer {outer_rand} - Inner {inner_rand}\"]['sensitivity'] = sensitivity\n",
    "        best_params_list[f\"Outer {outer_rand} - Inner {inner_rand}\"]['specificity'] = specificity\n",
    "        best_params_list[f\"Outer {outer_rand} - Inner {inner_rand}\"]['accuracy'] = accuracy\n",
    "\n",
    "        print(f\"\\nOuter {outer_rand}, Inner {inner_rand} -> Best Hyperparameters: {best_params}\")\n",
    "        print(f\"Test Set Accuracy: {accuracy:.4f}\")\n",
    "\n",
    "    # Save results\n",
    "    results_df = pd.DataFrame.from_dict(best_params_list, orient='index')\n",
    "    results_csv_path = os.path.join(os.getcwd(), 'best_hyperparameters_smote.csv')\n",
    "    results_df.to_csv(results_csv_path)\n",
    "    print(f\"\\nBest parameters saved to {results_csv_path} after Outer {outer_rand} completion\")\n",
    "\n",
    "# Summary\n",
    "print(\"\\nBest Parameters Summary:\")\n",
    "for key, val in best_params_list.items():\n",
    "    print(f\"{key}: {val}\")\n",
    "\n"
   ]
  },
  {
   "cell_type": "code",
   "execution_count": 1,
   "metadata": {},
   "outputs": [
    {
     "name": "stdout",
     "output_type": "stream",
     "text": [
      "sklearn version: 1.5.1\n"
     ]
    }
   ],
   "source": [
    "# %pip install scikit-learn==1.5.1\n",
    "import sklearn\n",
    "print(f\"sklearn version: {sklearn.__version__}\")"
   ]
  },
  {
   "cell_type": "code",
   "execution_count": null,
   "metadata": {},
   "outputs": [],
   "source": []
  }
 ],
 "metadata": {
  "kernelspec": {
   "display_name": "base",
   "language": "python",
   "name": "python3"
  },
  "language_info": {
   "codemirror_mode": {
    "name": "ipython",
    "version": 3
   },
   "file_extension": ".py",
   "mimetype": "text/x-python",
   "name": "python",
   "nbconvert_exporter": "python",
   "pygments_lexer": "ipython3",
   "version": "3.11.7"
  }
 },
 "nbformat": 4,
 "nbformat_minor": 2
}
