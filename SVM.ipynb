{
 "cells": [
  {
   "cell_type": "code",
   "execution_count": null,
   "id": "1d3544e0",
   "metadata": {},
   "outputs": [
    {
     "name": "stdout",
     "output_type": "stream",
     "text": [
      "The number of samples: 827\n",
      "The number of features: 9000\n"
     ]
    },
    {
     "name": "stderr",
     "output_type": "stream",
     "text": [
      "Outer Loop:   0%|          | 0/5 [00:00<?, ?it/s]"
     ]
    },
    {
     "name": "stdout",
     "output_type": "stream",
     "text": [
      "Explained Variance by PCA Components: 0.990035920418206\n",
      "Resampled training set size: 1088\n"
     ]
    },
    {
     "name": "stderr",
     "output_type": "stream",
     "text": []
    },
    {
     "name": "stdout",
     "output_type": "stream",
     "text": [
      "\n",
      "Outer 0, Inner 0 -> Hyperparameters: {'C': 130.33286049397753, 'gamma': 2.1512378105086873, 'class_weight': 'balanced', 'shrinking': True, 'tol': 0.0045153744222632694}\n",
      "Test Set Accuracy: 0.8253\n",
      "Sensitivity: 0.0000\n",
      "Specificity: 1.0000\n",
      "AUC: 0.5000\n",
      "F1 Score: 0.0000\n",
      "Time taken: 0.36 seconds\n"
     ]
    },
    {
     "name": "stderr",
     "output_type": "stream",
     "text": []
    },
    {
     "name": "stdout",
     "output_type": "stream",
     "text": [
      "\n",
      "Outer 0, Inner 1 -> Hyperparameters: {'C': 0.10436307798221316, 'gamma': 0.24181651889150765, 'class_weight': None, 'shrinking': False, 'tol': 0.007729466138921315}\n",
      "Test Set Accuracy: 0.8253\n",
      "Sensitivity: 0.0000\n",
      "Specificity: 1.0000\n",
      "AUC: 0.5000\n",
      "F1 Score: 0.0000\n",
      "Time taken: 0.31 seconds\n"
     ]
    },
    {
     "name": "stderr",
     "output_type": "stream",
     "text": []
    },
    {
     "name": "stdout",
     "output_type": "stream",
     "text": [
      "\n",
      "Outer 0, Inner 2 -> Hyperparameters: {'C': 8.68114273345255, 'gamma': 10.690264830559991, 'class_weight': 'balanced', 'shrinking': True, 'tol': 0.005428279137370243}\n",
      "Test Set Accuracy: 0.8253\n",
      "Sensitivity: 0.0000\n",
      "Specificity: 1.0000\n",
      "AUC: 0.5000\n",
      "F1 Score: 0.0000\n",
      "Time taken: 0.33 seconds\n"
     ]
    },
    {
     "name": "stderr",
     "output_type": "stream",
     "text": []
    },
    {
     "name": "stdout",
     "output_type": "stream",
     "text": [
      "\n",
      "Outer 0, Inner 3 -> Hyperparameters: {'C': 0.08291621105059642, 'gamma': 0.0009743902777561898, 'class_weight': None, 'shrinking': True, 'tol': 0.0022184671351886155}\n",
      "Test Set Accuracy: 0.8193\n",
      "Sensitivity: 0.1379\n",
      "Specificity: 0.9635\n",
      "AUC: 0.5849\n",
      "F1 Score: 0.2105\n",
      "Time taken: 0.26 seconds\n"
     ]
    },
    {
     "name": "stderr",
     "output_type": "stream",
     "text": []
    },
    {
     "name": "stdout",
     "output_type": "stream",
     "text": [
      "\n",
      "Outer 0, Inner 4 -> Hyperparameters: {'C': 0.0668714963880377, 'gamma': 0.04608610673194628, 'class_weight': 'balanced', 'shrinking': False, 'tol': 0.008909766357646417}\n",
      "Test Set Accuracy: 0.8253\n",
      "Sensitivity: 0.0000\n",
      "Specificity: 1.0000\n",
      "AUC: 0.5000\n",
      "F1 Score: 0.0000\n",
      "Time taken: 0.29 seconds\n"
     ]
    },
    {
     "name": "stderr",
     "output_type": "stream",
     "text": []
    },
    {
     "name": "stdout",
     "output_type": "stream",
     "text": [
      "\n",
      "Outer 0, Inner 5 -> Hyperparameters: {'C': 0.4480526434612778, 'gamma': 0.0015942760195659658, 'class_weight': 'balanced', 'shrinking': False, 'tol': 0.009140911911706236}\n",
      "Test Set Accuracy: 0.8313\n",
      "Sensitivity: 0.0690\n",
      "Specificity: 0.9927\n",
      "AUC: 0.6710\n",
      "F1 Score: 0.1250\n",
      "Time taken: 0.29 seconds\n"
     ]
    },
    {
     "name": "stderr",
     "output_type": "stream",
     "text": []
    },
    {
     "name": "stdout",
     "output_type": "stream",
     "text": [
      "\n",
      "Outer 0, Inner 6 -> Hyperparameters: {'C': 0.14658386758848999, 'gamma': 0.5680743380225827, 'class_weight': None, 'shrinking': True, 'tol': 0.005750473780560726}\n",
      "Test Set Accuracy: 0.8253\n",
      "Sensitivity: 0.0000\n",
      "Specificity: 1.0000\n",
      "AUC: 0.5000\n",
      "F1 Score: 0.0000\n",
      "Time taken: 0.29 seconds\n"
     ]
    },
    {
     "name": "stderr",
     "output_type": "stream",
     "text": []
    },
    {
     "name": "stdout",
     "output_type": "stream",
     "text": [
      "\n",
      "Outer 0, Inner 7 -> Hyperparameters: {'C': 0.07027322427683022, 'gamma': 0.00026403018549550817, 'class_weight': 'balanced', 'shrinking': False, 'tol': 0.0075674562038352084}\n",
      "Test Set Accuracy: 0.6687\n",
      "Sensitivity: 0.4483\n",
      "Specificity: 0.7153\n",
      "AUC: 0.6947\n",
      "F1 Score: 0.3210\n",
      "Time taken: 0.26 seconds\n"
     ]
    },
    {
     "name": "stderr",
     "output_type": "stream",
     "text": []
    },
    {
     "name": "stdout",
     "output_type": "stream",
     "text": [
      "\n",
      "Outer 0, Inner 8 -> Hyperparameters: {'C': 169.51153730016173, 'gamma': 0.0002617036271360483, 'class_weight': 'balanced', 'shrinking': True, 'tol': 0.00015518031650574527}\n",
      "Test Set Accuracy: 0.7711\n",
      "Sensitivity: 0.3103\n",
      "Specificity: 0.8686\n",
      "AUC: 0.6967\n",
      "F1 Score: 0.3214\n",
      "Time taken: 0.26 seconds\n"
     ]
    },
    {
     "name": "stderr",
     "output_type": "stream",
     "text": [
      "Inner Loop: 10it [00:03,  3.02it/s]\n",
      "Outer Loop:  20%|██        | 1/5 [00:05<00:20,  5.06s/it]"
     ]
    },
    {
     "name": "stdout",
     "output_type": "stream",
     "text": [
      "\n",
      "Outer 0, Inner 9 -> Hyperparameters: {'C': 20.54149569775089, 'gamma': 0.9477374054189408, 'class_weight': None, 'shrinking': False, 'tol': 0.001020271544622967}\n",
      "Test Set Accuracy: 0.8253\n",
      "Sensitivity: 0.0000\n",
      "Specificity: 1.0000\n",
      "AUC: 0.5000\n",
      "F1 Score: 0.0000\n",
      "Time taken: 0.31 seconds\n",
      "Explained Variance by PCA Components: 0.9900447217389527\n",
      "Resampled training set size: 1088\n"
     ]
    },
    {
     "name": "stderr",
     "output_type": "stream",
     "text": []
    },
    {
     "name": "stdout",
     "output_type": "stream",
     "text": [
      "\n",
      "Outer 1, Inner 0 -> Hyperparameters: {'C': 130.33286049397753, 'gamma': 2.1512378105086873, 'class_weight': 'balanced', 'shrinking': True, 'tol': 0.0045153744222632694}\n",
      "Test Set Accuracy: 0.8253\n",
      "Sensitivity: 0.0000\n",
      "Specificity: 1.0000\n",
      "AUC: 0.5000\n",
      "F1 Score: 0.0000\n",
      "Time taken: 0.37 seconds\n"
     ]
    },
    {
     "name": "stderr",
     "output_type": "stream",
     "text": []
    },
    {
     "name": "stdout",
     "output_type": "stream",
     "text": [
      "\n",
      "Outer 1, Inner 1 -> Hyperparameters: {'C': 0.10436307798221316, 'gamma': 0.24181651889150765, 'class_weight': None, 'shrinking': False, 'tol': 0.007729466138921315}\n",
      "Test Set Accuracy: 0.8253\n",
      "Sensitivity: 0.0000\n",
      "Specificity: 1.0000\n",
      "AUC: 0.5000\n",
      "F1 Score: 0.0000\n",
      "Time taken: 0.33 seconds\n"
     ]
    },
    {
     "name": "stderr",
     "output_type": "stream",
     "text": []
    },
    {
     "name": "stdout",
     "output_type": "stream",
     "text": [
      "\n",
      "Outer 1, Inner 2 -> Hyperparameters: {'C': 8.68114273345255, 'gamma': 10.690264830559991, 'class_weight': 'balanced', 'shrinking': True, 'tol': 0.005428279137370243}\n",
      "Test Set Accuracy: 0.8253\n",
      "Sensitivity: 0.0000\n",
      "Specificity: 1.0000\n",
      "AUC: 0.5000\n",
      "F1 Score: 0.0000\n",
      "Time taken: 0.33 seconds\n"
     ]
    },
    {
     "name": "stderr",
     "output_type": "stream",
     "text": []
    },
    {
     "name": "stdout",
     "output_type": "stream",
     "text": [
      "\n",
      "Outer 1, Inner 3 -> Hyperparameters: {'C': 0.08291621105059642, 'gamma': 0.0009743902777561898, 'class_weight': None, 'shrinking': True, 'tol': 0.0022184671351886155}\n",
      "Test Set Accuracy: 0.7711\n",
      "Sensitivity: 0.1034\n",
      "Specificity: 0.9124\n",
      "AUC: 0.5401\n",
      "F1 Score: 0.1364\n",
      "Time taken: 0.30 seconds\n"
     ]
    },
    {
     "name": "stderr",
     "output_type": "stream",
     "text": []
    },
    {
     "name": "stdout",
     "output_type": "stream",
     "text": [
      "\n",
      "Outer 1, Inner 4 -> Hyperparameters: {'C': 0.0668714963880377, 'gamma': 0.04608610673194628, 'class_weight': 'balanced', 'shrinking': False, 'tol': 0.008909766357646417}\n",
      "Test Set Accuracy: 0.8253\n",
      "Sensitivity: 0.0000\n",
      "Specificity: 1.0000\n",
      "AUC: 0.5000\n",
      "F1 Score: 0.0000\n",
      "Time taken: 0.31 seconds\n"
     ]
    },
    {
     "name": "stderr",
     "output_type": "stream",
     "text": []
    },
    {
     "name": "stdout",
     "output_type": "stream",
     "text": [
      "\n",
      "Outer 1, Inner 5 -> Hyperparameters: {'C': 0.4480526434612778, 'gamma': 0.0015942760195659658, 'class_weight': 'balanced', 'shrinking': False, 'tol': 0.009140911911706236}\n",
      "Test Set Accuracy: 0.8253\n",
      "Sensitivity: 0.0690\n",
      "Specificity: 0.9854\n",
      "AUC: 0.5779\n",
      "F1 Score: 0.1212\n",
      "Time taken: 0.31 seconds\n"
     ]
    },
    {
     "name": "stderr",
     "output_type": "stream",
     "text": []
    },
    {
     "name": "stdout",
     "output_type": "stream",
     "text": [
      "\n",
      "Outer 1, Inner 6 -> Hyperparameters: {'C': 0.14658386758848999, 'gamma': 0.5680743380225827, 'class_weight': None, 'shrinking': True, 'tol': 0.005750473780560726}\n",
      "Test Set Accuracy: 0.8253\n",
      "Sensitivity: 0.0000\n",
      "Specificity: 1.0000\n",
      "AUC: 0.5000\n",
      "F1 Score: 0.0000\n",
      "Time taken: 0.31 seconds\n"
     ]
    },
    {
     "name": "stderr",
     "output_type": "stream",
     "text": []
    },
    {
     "name": "stdout",
     "output_type": "stream",
     "text": [
      "\n",
      "Outer 1, Inner 7 -> Hyperparameters: {'C': 0.07027322427683022, 'gamma': 0.00026403018549550817, 'class_weight': 'balanced', 'shrinking': False, 'tol': 0.0075674562038352084}\n",
      "Test Set Accuracy: 0.7048\n",
      "Sensitivity: 0.3103\n",
      "Specificity: 0.7883\n",
      "AUC: 0.5935\n",
      "F1 Score: 0.2687\n",
      "Time taken: 0.29 seconds\n"
     ]
    },
    {
     "name": "stderr",
     "output_type": "stream",
     "text": []
    },
    {
     "name": "stdout",
     "output_type": "stream",
     "text": [
      "\n",
      "Outer 1, Inner 8 -> Hyperparameters: {'C': 169.51153730016173, 'gamma': 0.0002617036271360483, 'class_weight': 'balanced', 'shrinking': True, 'tol': 0.00015518031650574527}\n",
      "Test Set Accuracy: 0.7892\n",
      "Sensitivity: 0.3103\n",
      "Specificity: 0.8905\n",
      "AUC: 0.7025\n",
      "F1 Score: 0.3396\n",
      "Time taken: 0.30 seconds\n"
     ]
    },
    {
     "name": "stderr",
     "output_type": "stream",
     "text": [
      "Inner Loop: 10it [00:03,  2.79it/s]\n",
      "Outer Loop:  40%|████      | 2/5 [00:10<00:15,  5.27s/it]"
     ]
    },
    {
     "name": "stdout",
     "output_type": "stream",
     "text": [
      "\n",
      "Outer 1, Inner 9 -> Hyperparameters: {'C': 20.54149569775089, 'gamma': 0.9477374054189408, 'class_weight': None, 'shrinking': False, 'tol': 0.001020271544622967}\n",
      "Test Set Accuracy: 0.8253\n",
      "Sensitivity: 0.0000\n",
      "Specificity: 1.0000\n",
      "AUC: 0.5000\n",
      "F1 Score: 0.0000\n",
      "Time taken: 0.35 seconds\n",
      "Explained Variance by PCA Components: 0.9900440033613593\n",
      "Resampled training set size: 1088\n"
     ]
    },
    {
     "name": "stderr",
     "output_type": "stream",
     "text": []
    },
    {
     "name": "stdout",
     "output_type": "stream",
     "text": [
      "\n",
      "Outer 2, Inner 0 -> Hyperparameters: {'C': 130.33286049397753, 'gamma': 2.1512378105086873, 'class_weight': 'balanced', 'shrinking': True, 'tol': 0.0045153744222632694}\n",
      "Test Set Accuracy: 0.8253\n",
      "Sensitivity: 0.0000\n",
      "Specificity: 1.0000\n",
      "AUC: 0.5000\n",
      "F1 Score: 0.0000\n",
      "Time taken: 0.40 seconds\n"
     ]
    },
    {
     "name": "stderr",
     "output_type": "stream",
     "text": []
    },
    {
     "name": "stdout",
     "output_type": "stream",
     "text": [
      "\n",
      "Outer 2, Inner 1 -> Hyperparameters: {'C': 0.10436307798221316, 'gamma': 0.24181651889150765, 'class_weight': None, 'shrinking': False, 'tol': 0.007729466138921315}\n",
      "Test Set Accuracy: 0.8253\n",
      "Sensitivity: 0.0000\n",
      "Specificity: 1.0000\n",
      "AUC: 0.5000\n",
      "F1 Score: 0.0000\n",
      "Time taken: 0.35 seconds\n"
     ]
    },
    {
     "name": "stderr",
     "output_type": "stream",
     "text": []
    },
    {
     "name": "stdout",
     "output_type": "stream",
     "text": [
      "\n",
      "Outer 2, Inner 2 -> Hyperparameters: {'C': 8.68114273345255, 'gamma': 10.690264830559991, 'class_weight': 'balanced', 'shrinking': True, 'tol': 0.005428279137370243}\n",
      "Test Set Accuracy: 0.8253\n",
      "Sensitivity: 0.0000\n",
      "Specificity: 1.0000\n",
      "AUC: 0.5000\n",
      "F1 Score: 0.0000\n",
      "Time taken: 0.37 seconds\n"
     ]
    },
    {
     "name": "stderr",
     "output_type": "stream",
     "text": []
    },
    {
     "name": "stdout",
     "output_type": "stream",
     "text": [
      "\n",
      "Outer 2, Inner 3 -> Hyperparameters: {'C': 0.08291621105059642, 'gamma': 0.0009743902777561898, 'class_weight': None, 'shrinking': True, 'tol': 0.0022184671351886155}\n",
      "Test Set Accuracy: 0.8133\n",
      "Sensitivity: 0.0690\n",
      "Specificity: 0.9708\n",
      "AUC: 0.6554\n",
      "F1 Score: 0.1143\n",
      "Time taken: 0.28 seconds\n"
     ]
    },
    {
     "name": "stderr",
     "output_type": "stream",
     "text": []
    },
    {
     "name": "stdout",
     "output_type": "stream",
     "text": [
      "\n",
      "Outer 2, Inner 4 -> Hyperparameters: {'C': 0.0668714963880377, 'gamma': 0.04608610673194628, 'class_weight': 'balanced', 'shrinking': False, 'tol': 0.008909766357646417}\n",
      "Test Set Accuracy: 0.8253\n",
      "Sensitivity: 0.0000\n",
      "Specificity: 1.0000\n",
      "AUC: 0.5000\n",
      "F1 Score: 0.0000\n",
      "Time taken: 0.37 seconds\n"
     ]
    },
    {
     "name": "stderr",
     "output_type": "stream",
     "text": []
    },
    {
     "name": "stdout",
     "output_type": "stream",
     "text": [
      "\n",
      "Outer 2, Inner 5 -> Hyperparameters: {'C': 0.4480526434612778, 'gamma': 0.0015942760195659658, 'class_weight': 'balanced', 'shrinking': False, 'tol': 0.009140911911706236}\n",
      "Test Set Accuracy: 0.8313\n",
      "Sensitivity: 0.0345\n",
      "Specificity: 1.0000\n",
      "AUC: 0.6696\n",
      "F1 Score: 0.0667\n",
      "Time taken: 0.28 seconds\n"
     ]
    },
    {
     "name": "stderr",
     "output_type": "stream",
     "text": []
    },
    {
     "name": "stdout",
     "output_type": "stream",
     "text": [
      "\n",
      "Outer 2, Inner 6 -> Hyperparameters: {'C': 0.14658386758848999, 'gamma': 0.5680743380225827, 'class_weight': None, 'shrinking': True, 'tol': 0.005750473780560726}\n",
      "Test Set Accuracy: 0.8253\n",
      "Sensitivity: 0.0000\n",
      "Specificity: 1.0000\n",
      "AUC: 0.5000\n",
      "F1 Score: 0.0000\n",
      "Time taken: 0.31 seconds\n"
     ]
    },
    {
     "name": "stderr",
     "output_type": "stream",
     "text": []
    },
    {
     "name": "stdout",
     "output_type": "stream",
     "text": [
      "\n",
      "Outer 2, Inner 7 -> Hyperparameters: {'C': 0.07027322427683022, 'gamma': 0.00026403018549550817, 'class_weight': 'balanced', 'shrinking': False, 'tol': 0.0075674562038352084}\n",
      "Test Set Accuracy: 0.6084\n",
      "Sensitivity: 0.4483\n",
      "Specificity: 0.6423\n",
      "AUC: 0.6058\n",
      "F1 Score: 0.2857\n",
      "Time taken: 0.29 seconds\n"
     ]
    },
    {
     "name": "stderr",
     "output_type": "stream",
     "text": []
    },
    {
     "name": "stdout",
     "output_type": "stream",
     "text": [
      "\n",
      "Outer 2, Inner 8 -> Hyperparameters: {'C': 169.51153730016173, 'gamma': 0.0002617036271360483, 'class_weight': 'balanced', 'shrinking': True, 'tol': 0.00015518031650574527}\n",
      "Test Set Accuracy: 0.8253\n",
      "Sensitivity: 0.2069\n",
      "Specificity: 0.9562\n",
      "AUC: 0.6469\n",
      "F1 Score: 0.2927\n",
      "Time taken: 0.33 seconds\n"
     ]
    },
    {
     "name": "stderr",
     "output_type": "stream",
     "text": [
      "Inner Loop: 10it [00:03,  2.71it/s]\n",
      "Outer Loop:  60%|██████    | 3/5 [00:16<00:10,  5.41s/it]"
     ]
    },
    {
     "name": "stdout",
     "output_type": "stream",
     "text": [
      "\n",
      "Outer 2, Inner 9 -> Hyperparameters: {'C': 20.54149569775089, 'gamma': 0.9477374054189408, 'class_weight': None, 'shrinking': False, 'tol': 0.001020271544622967}\n",
      "Test Set Accuracy: 0.8253\n",
      "Sensitivity: 0.0000\n",
      "Specificity: 1.0000\n",
      "AUC: 0.5000\n",
      "F1 Score: 0.0000\n",
      "Time taken: 0.35 seconds\n",
      "Explained Variance by PCA Components: 0.9900352610238946\n",
      "Resampled training set size: 1088\n"
     ]
    },
    {
     "name": "stderr",
     "output_type": "stream",
     "text": []
    },
    {
     "name": "stdout",
     "output_type": "stream",
     "text": [
      "\n",
      "Outer 3, Inner 0 -> Hyperparameters: {'C': 130.33286049397753, 'gamma': 2.1512378105086873, 'class_weight': 'balanced', 'shrinking': True, 'tol': 0.0045153744222632694}\n",
      "Test Set Accuracy: 0.8253\n",
      "Sensitivity: 0.0000\n",
      "Specificity: 1.0000\n",
      "AUC: 0.5000\n",
      "F1 Score: 0.0000\n",
      "Time taken: 0.50 seconds\n"
     ]
    },
    {
     "name": "stderr",
     "output_type": "stream",
     "text": []
    },
    {
     "name": "stdout",
     "output_type": "stream",
     "text": [
      "\n",
      "Outer 3, Inner 1 -> Hyperparameters: {'C': 0.10436307798221316, 'gamma': 0.24181651889150765, 'class_weight': None, 'shrinking': False, 'tol': 0.007729466138921315}\n",
      "Test Set Accuracy: 0.8253\n",
      "Sensitivity: 0.0000\n",
      "Specificity: 1.0000\n",
      "AUC: 0.5000\n",
      "F1 Score: 0.0000\n",
      "Time taken: 0.42 seconds\n"
     ]
    },
    {
     "name": "stderr",
     "output_type": "stream",
     "text": []
    },
    {
     "name": "stdout",
     "output_type": "stream",
     "text": [
      "\n",
      "Outer 3, Inner 2 -> Hyperparameters: {'C': 8.68114273345255, 'gamma': 10.690264830559991, 'class_weight': 'balanced', 'shrinking': True, 'tol': 0.005428279137370243}\n",
      "Test Set Accuracy: 0.8253\n",
      "Sensitivity: 0.0000\n",
      "Specificity: 1.0000\n",
      "AUC: 0.5000\n",
      "F1 Score: 0.0000\n",
      "Time taken: 0.41 seconds\n"
     ]
    },
    {
     "name": "stderr",
     "output_type": "stream",
     "text": []
    },
    {
     "name": "stdout",
     "output_type": "stream",
     "text": [
      "\n",
      "Outer 3, Inner 3 -> Hyperparameters: {'C': 0.08291621105059642, 'gamma': 0.0009743902777561898, 'class_weight': None, 'shrinking': True, 'tol': 0.0022184671351886155}\n",
      "Test Set Accuracy: 0.8012\n",
      "Sensitivity: 0.0000\n",
      "Specificity: 0.9708\n",
      "AUC: 0.5389\n",
      "F1 Score: 0.0000\n",
      "Time taken: 0.42 seconds\n"
     ]
    },
    {
     "name": "stderr",
     "output_type": "stream",
     "text": []
    },
    {
     "name": "stdout",
     "output_type": "stream",
     "text": [
      "\n",
      "Outer 3, Inner 4 -> Hyperparameters: {'C': 0.0668714963880377, 'gamma': 0.04608610673194628, 'class_weight': 'balanced', 'shrinking': False, 'tol': 0.008909766357646417}\n",
      "Test Set Accuracy: 0.8253\n",
      "Sensitivity: 0.0000\n",
      "Specificity: 1.0000\n",
      "AUC: 0.4974\n",
      "F1 Score: 0.0000\n",
      "Time taken: 0.47 seconds\n"
     ]
    },
    {
     "name": "stderr",
     "output_type": "stream",
     "text": []
    },
    {
     "name": "stdout",
     "output_type": "stream",
     "text": [
      "\n",
      "Outer 3, Inner 5 -> Hyperparameters: {'C': 0.4480526434612778, 'gamma': 0.0015942760195659658, 'class_weight': 'balanced', 'shrinking': False, 'tol': 0.009140911911706236}\n",
      "Test Set Accuracy: 0.8133\n",
      "Sensitivity: 0.0000\n",
      "Specificity: 0.9854\n",
      "AUC: 0.5151\n",
      "F1 Score: 0.0000\n",
      "Time taken: 0.38 seconds\n"
     ]
    },
    {
     "name": "stderr",
     "output_type": "stream",
     "text": []
    },
    {
     "name": "stdout",
     "output_type": "stream",
     "text": [
      "\n",
      "Outer 3, Inner 6 -> Hyperparameters: {'C': 0.14658386758848999, 'gamma': 0.5680743380225827, 'class_weight': None, 'shrinking': True, 'tol': 0.005750473780560726}\n",
      "Test Set Accuracy: 0.8253\n",
      "Sensitivity: 0.0000\n",
      "Specificity: 1.0000\n",
      "AUC: 0.5000\n",
      "F1 Score: 0.0000\n",
      "Time taken: 0.41 seconds\n"
     ]
    },
    {
     "name": "stderr",
     "output_type": "stream",
     "text": []
    },
    {
     "name": "stdout",
     "output_type": "stream",
     "text": [
      "\n",
      "Outer 3, Inner 7 -> Hyperparameters: {'C': 0.07027322427683022, 'gamma': 0.00026403018549550817, 'class_weight': 'balanced', 'shrinking': False, 'tol': 0.0075674562038352084}\n",
      "Test Set Accuracy: 0.6928\n",
      "Sensitivity: 0.2414\n",
      "Specificity: 0.7883\n",
      "AUC: 0.6172\n",
      "F1 Score: 0.2154\n",
      "Time taken: 0.36 seconds\n"
     ]
    },
    {
     "name": "stderr",
     "output_type": "stream",
     "text": []
    },
    {
     "name": "stdout",
     "output_type": "stream",
     "text": [
      "\n",
      "Outer 3, Inner 8 -> Hyperparameters: {'C': 169.51153730016173, 'gamma': 0.0002617036271360483, 'class_weight': 'balanced', 'shrinking': True, 'tol': 0.00015518031650574527}\n",
      "Test Set Accuracy: 0.7952\n",
      "Sensitivity: 0.1034\n",
      "Specificity: 0.9416\n",
      "AUC: 0.6645\n",
      "F1 Score: 0.1500\n",
      "Time taken: 0.39 seconds\n"
     ]
    },
    {
     "name": "stderr",
     "output_type": "stream",
     "text": [
      "Inner Loop: 10it [00:04,  2.17it/s]\n",
      "Outer Loop:  80%|████████  | 4/5 [00:22<00:05,  5.92s/it]"
     ]
    },
    {
     "name": "stdout",
     "output_type": "stream",
     "text": [
      "\n",
      "Outer 3, Inner 9 -> Hyperparameters: {'C': 20.54149569775089, 'gamma': 0.9477374054189408, 'class_weight': None, 'shrinking': False, 'tol': 0.001020271544622967}\n",
      "Test Set Accuracy: 0.8253\n",
      "Sensitivity: 0.0000\n",
      "Specificity: 1.0000\n",
      "AUC: 0.5000\n",
      "F1 Score: 0.0000\n",
      "Time taken: 0.43 seconds\n",
      "Explained Variance by PCA Components: 0.9900412095439791\n",
      "Resampled training set size: 1088\n"
     ]
    },
    {
     "name": "stderr",
     "output_type": "stream",
     "text": []
    },
    {
     "name": "stdout",
     "output_type": "stream",
     "text": [
      "\n",
      "Outer 4, Inner 0 -> Hyperparameters: {'C': 130.33286049397753, 'gamma': 2.1512378105086873, 'class_weight': 'balanced', 'shrinking': True, 'tol': 0.0045153744222632694}\n",
      "Test Set Accuracy: 0.8253\n",
      "Sensitivity: 0.0000\n",
      "Specificity: 1.0000\n",
      "AUC: 0.5000\n",
      "F1 Score: 0.0000\n",
      "Time taken: 0.36 seconds\n"
     ]
    },
    {
     "name": "stderr",
     "output_type": "stream",
     "text": []
    },
    {
     "name": "stdout",
     "output_type": "stream",
     "text": [
      "\n",
      "Outer 4, Inner 1 -> Hyperparameters: {'C': 0.10436307798221316, 'gamma': 0.24181651889150765, 'class_weight': None, 'shrinking': False, 'tol': 0.007729466138921315}\n",
      "Test Set Accuracy: 0.8253\n",
      "Sensitivity: 0.0000\n",
      "Specificity: 1.0000\n",
      "AUC: 0.5000\n",
      "F1 Score: 0.0000\n",
      "Time taken: 0.30 seconds\n"
     ]
    },
    {
     "name": "stderr",
     "output_type": "stream",
     "text": []
    },
    {
     "name": "stdout",
     "output_type": "stream",
     "text": [
      "\n",
      "Outer 4, Inner 2 -> Hyperparameters: {'C': 8.68114273345255, 'gamma': 10.690264830559991, 'class_weight': 'balanced', 'shrinking': True, 'tol': 0.005428279137370243}\n",
      "Test Set Accuracy: 0.8253\n",
      "Sensitivity: 0.0000\n",
      "Specificity: 1.0000\n",
      "AUC: 0.5000\n",
      "F1 Score: 0.0000\n",
      "Time taken: 0.30 seconds\n"
     ]
    },
    {
     "name": "stderr",
     "output_type": "stream",
     "text": []
    },
    {
     "name": "stdout",
     "output_type": "stream",
     "text": [
      "\n",
      "Outer 4, Inner 3 -> Hyperparameters: {'C': 0.08291621105059642, 'gamma': 0.0009743902777561898, 'class_weight': None, 'shrinking': True, 'tol': 0.0022184671351886155}\n",
      "Test Set Accuracy: 0.7410\n",
      "Sensitivity: 0.0690\n",
      "Specificity: 0.8832\n",
      "AUC: 0.5281\n",
      "F1 Score: 0.0851\n",
      "Time taken: 0.26 seconds\n"
     ]
    },
    {
     "name": "stderr",
     "output_type": "stream",
     "text": []
    },
    {
     "name": "stdout",
     "output_type": "stream",
     "text": [
      "\n",
      "Outer 4, Inner 4 -> Hyperparameters: {'C': 0.0668714963880377, 'gamma': 0.04608610673194628, 'class_weight': 'balanced', 'shrinking': False, 'tol': 0.008909766357646417}\n",
      "Test Set Accuracy: 0.8253\n",
      "Sensitivity: 0.0000\n",
      "Specificity: 1.0000\n",
      "AUC: 0.4689\n",
      "F1 Score: 0.0000\n",
      "Time taken: 0.29 seconds\n"
     ]
    },
    {
     "name": "stderr",
     "output_type": "stream",
     "text": []
    },
    {
     "name": "stdout",
     "output_type": "stream",
     "text": [
      "\n",
      "Outer 4, Inner 5 -> Hyperparameters: {'C': 0.4480526434612778, 'gamma': 0.0015942760195659658, 'class_weight': 'balanced', 'shrinking': False, 'tol': 0.009140911911706236}\n",
      "Test Set Accuracy: 0.7952\n",
      "Sensitivity: 0.0345\n",
      "Specificity: 0.9562\n",
      "AUC: 0.5824\n",
      "F1 Score: 0.0556\n",
      "Time taken: 0.28 seconds\n"
     ]
    },
    {
     "name": "stderr",
     "output_type": "stream",
     "text": []
    },
    {
     "name": "stdout",
     "output_type": "stream",
     "text": [
      "\n",
      "Outer 4, Inner 6 -> Hyperparameters: {'C': 0.14658386758848999, 'gamma': 0.5680743380225827, 'class_weight': None, 'shrinking': True, 'tol': 0.005750473780560726}\n",
      "Test Set Accuracy: 0.8253\n",
      "Sensitivity: 0.0000\n",
      "Specificity: 1.0000\n",
      "AUC: 0.5000\n",
      "F1 Score: 0.0000\n",
      "Time taken: 0.30 seconds\n"
     ]
    },
    {
     "name": "stderr",
     "output_type": "stream",
     "text": []
    },
    {
     "name": "stdout",
     "output_type": "stream",
     "text": [
      "\n",
      "Outer 4, Inner 7 -> Hyperparameters: {'C': 0.07027322427683022, 'gamma': 0.00026403018549550817, 'class_weight': 'balanced', 'shrinking': False, 'tol': 0.0075674562038352084}\n",
      "Test Set Accuracy: 0.6265\n",
      "Sensitivity: 0.4483\n",
      "Specificity: 0.6642\n",
      "AUC: 0.6396\n",
      "F1 Score: 0.2955\n",
      "Time taken: 0.26 seconds\n"
     ]
    },
    {
     "name": "stderr",
     "output_type": "stream",
     "text": []
    },
    {
     "name": "stdout",
     "output_type": "stream",
     "text": [
      "\n",
      "Outer 4, Inner 8 -> Hyperparameters: {'C': 169.51153730016173, 'gamma': 0.0002617036271360483, 'class_weight': 'balanced', 'shrinking': True, 'tol': 0.00015518031650574527}\n",
      "Test Set Accuracy: 0.7771\n",
      "Sensitivity: 0.2414\n",
      "Specificity: 0.8905\n",
      "AUC: 0.6796\n",
      "F1 Score: 0.2745\n",
      "Time taken: 0.28 seconds\n"
     ]
    },
    {
     "name": "stderr",
     "output_type": "stream",
     "text": [
      "Inner Loop: 10it [00:03,  3.02it/s]\n",
      "Outer Loop: 100%|██████████| 5/5 [00:27<00:00,  5.54s/it]"
     ]
    },
    {
     "name": "stdout",
     "output_type": "stream",
     "text": [
      "\n",
      "Outer 4, Inner 9 -> Hyperparameters: {'C': 20.54149569775089, 'gamma': 0.9477374054189408, 'class_weight': None, 'shrinking': False, 'tol': 0.001020271544622967}\n",
      "Test Set Accuracy: 0.8253\n",
      "Sensitivity: 0.0000\n",
      "Specificity: 1.0000\n",
      "AUC: 0.5000\n",
      "F1 Score: 0.0000\n",
      "Time taken: 0.33 seconds\n",
      "\n",
      "🏆 Best Classifier Based on F1 Score: Outer 1 - Inner 8\n",
      "F1 Score: 0.3396\n",
      "\n",
      "Detailed Metrics of the Best Classifier:\n",
      "Accuracy: 0.7892\n",
      "Sensitivity: 0.3103\n",
      "Specificity: 0.8905\n",
      "AUC: 0.7025\n",
      "F1 Score: 0.3396\n"
     ]
    },
    {
     "name": "stderr",
     "output_type": "stream",
     "text": [
      "\n"
     ]
    }
   ],
   "source": [
    "import os\n",
    "import time\n",
    "import random\n",
    "import numpy as np\n",
    "import pandas as pd\n",
    "from tqdm import tqdm\n",
    "from sklearn.svm import SVC\n",
    "from sklearn.preprocessing import RobustScaler\n",
    "from sklearn.decomposition import PCA\n",
    "from sklearn.model_selection import train_test_split\n",
    "from sklearn.metrics import accuracy_score, confusion_matrix, roc_auc_score, f1_score\n",
    "from scipy.stats import uniform, loguniform\n",
    "from imblearn.over_sampling import SMOTE  # Import SMOTE\n",
    "\n",
    "# Load dataset\n",
    "data_path = r'E:\\OneDrive\\School\\Technical Medicine\\TM Jaar 1\\Machine learning\\TM10007_Machine_Learning_Group_4\\TM\\ecg_data.csv'\n",
    "data = pd.read_csv(data_path, index_col=0)\n",
    "\n",
    "print(f'The number of samples: {len(data.index)}')\n",
    "print(f'The number of features: {len(data.columns) - 1}')  # Excluding label column\n",
    "\n",
    "# Extract features and labels\n",
    "X = data.iloc[:, :-1].values  # All columns except the last one\n",
    "y = data.iloc[:, -1].values   # Last column as labels\n",
    "\n",
    "# Scale the features\n",
    "scaler = RobustScaler(quantile_range=(25, 75))\n",
    "X_scaled = scaler.fit_transform(X)\n",
    "\n",
    "# Define outer and inner loop random seeds\n",
    "outer = range(0, 5)  # Outer loop (train-test variations)\n",
    "inner = range(0, 5)  # Inner loop (hyperparameter tuning)\n",
    "\n",
    "best_params_list = {}  # Stores best params per (outer, inner) iteration\n",
    "hyperparam_accuracies = {}  # Stores accuracies per hyperparameter set\n",
    "\n",
    "# Generate a fixed set of random hyperparameter sets (same for all outer loops)\n",
    "fixed_hyperparam_sets = []\n",
    "for _ in range(10):  # Generate 10 random hyperparameter sets\n",
    "    param_set = {\n",
    "        'C': loguniform(0.01, 1000).rvs(),\n",
    "        'gamma': loguniform(0.0001, 100).rvs(),\n",
    "        'class_weight': random.choice(['balanced', None]),\n",
    "        'shrinking': random.choice([True, False]),\n",
    "        'tol': uniform(1e-5, 1e-2).rvs()\n",
    "    }\n",
    "    fixed_hyperparam_sets.append(param_set)\n",
    "    hyperparam_accuracies[str(param_set)] = []  # Initialize list for accuracy tracking\n",
    "\n",
    "# Outer loop for train-test split variations\n",
    "for outer_rand in tqdm(outer, desc='Outer Loop'):\n",
    "    X_train, X_test, y_train, y_test = train_test_split(\n",
    "        X_scaled, y, test_size=0.2, random_state=outer_rand, stratify=y  # Maintain class proportions\n",
    "    )\n",
    "\n",
    "    # Apply PCA to reduce dimensionality (fit only on training data)\n",
    "    pca = PCA(n_components=0.99)\n",
    "    X_train_pca = pca.fit_transform(X_train)\n",
    "    X_test_pca = pca.transform(X_test)\n",
    "\n",
    "    # Apply SMOTE to balance the training set\n",
    "    smote = SMOTE(random_state=42)  # Initialize SMOTE\n",
    "    X_train_resampled, y_train_resampled = smote.fit_resample(X_train_pca, y_train)  # Apply SMOTE only to training data\n",
    "\n",
    "    print(f\"Explained Variance by PCA Components: {pca.explained_variance_ratio_.sum()}\")\n",
    "    print(f\"Resampled training set size: {len(y_train_resampled)}\")\n",
    "\n",
    "    # Inner loop for hyperparameter tuning\n",
    "    for inner_rand, param_set in tqdm(enumerate(fixed_hyperparam_sets), desc='Inner Loop', leave=True):\n",
    "        X_train_train, X_train_val, y_train_train, y_train_val = train_test_split(\n",
    "            X_train_resampled, y_train_resampled, test_size=0.15, random_state=inner_rand, stratify=y_train_resampled  # Maintain class proportions\n",
    "        )\n",
    "\n",
    "        # Initialize SVM model with RBF kernel\n",
    "        svm = SVC(kernel='rbf', **param_set, probability=True)  # Enable probability for AUC calculation\n",
    "\n",
    "        # Train and evaluate model\n",
    "        start_time = time.time()\n",
    "        svm.fit(X_train_train, y_train_train)\n",
    "        elapsed_time = time.time() - start_time  # Calculate elapsed time\n",
    "\n",
    "        # Best model evaluation\n",
    "        y_pred = svm.predict(X_test_pca)  # Evaluate on the untouched test set\n",
    "        accuracy = accuracy_score(y_test, y_pred)\n",
    "        f1 = f1_score(y_test, y_pred)\n",
    "\n",
    "        # Compute confusion matrix for sensitivity and specificity\n",
    "        cm = confusion_matrix(y_test, y_pred)\n",
    "        tn, fp, fn, tp = cm.ravel()  # True negatives, False positives, False negatives, True positives\n",
    "        sensitivity = tp / (tp + fn)\n",
    "        specificity = tn / (tn + fp)\n",
    "\n",
    "        # Compute AUC\n",
    "        auc = roc_auc_score(y_test, svm.predict_proba(X_test_pca)[:, 1])\n",
    "\n",
    "        # Store results\n",
    "        param_key = str(param_set)  # Convert to string for dict key\n",
    "        hyperparam_accuracies[param_key].append(accuracy)  # Store accuracy\n",
    "\n",
    "        best_params_list[f\"Outer {outer_rand} - Inner {inner_rand}\"] = param_set.copy()\n",
    "        best_params_list[f\"Outer {outer_rand} - Inner {inner_rand}\"]['accuracy'] = accuracy\n",
    "        best_params_list[f\"Outer {outer_rand} - Inner {inner_rand}\"]['sensitivity'] = sensitivity\n",
    "        best_params_list[f\"Outer {outer_rand} - Inner {inner_rand}\"]['specificity'] = specificity\n",
    "        best_params_list[f\"Outer {outer_rand} - Inner {inner_rand}\"]['auc'] = auc\n",
    "        best_params_list[f\"Outer {outer_rand} - Inner {inner_rand}\"]['f1-score'] = f1\n",
    "\n",
    "        print(f\"\\nOuter {outer_rand}, Inner {inner_rand} -> Hyperparameters: {param_set}\")\n",
    "        print(f\"Test Set Accuracy: {accuracy:.4f}\")\n",
    "        print(f\"Sensitivity: {sensitivity:.4f}\")\n",
    "        print(f\"Specificity: {specificity:.4f}\")\n",
    "        print(f\"AUC: {auc:.4f}\")\n",
    "        print(f\"F1 Score: {f1:.4f}\")\n",
    "        print(f\"Time taken: {elapsed_time:.2f} seconds\")\n",
    "\n",
    "        \n",
    "\n",
    "# Select the best classifier based on the F1 score\n",
    "best_f1_score = -1\n",
    "best_classifier = None\n",
    "best_metrics = {}\n",
    "\n",
    "for key, val in best_params_list.items():\n",
    "    f1 = val['f1-score']\n",
    "    \n",
    "    # Update if current F1 score is higher\n",
    "    if f1 > best_f1_score:\n",
    "        best_f1_score = f1\n",
    "        best_classifier = key\n",
    "        best_metrics = val  # Store the metrics of the best classifier\n",
    "\n",
    "# Print the best classifier based on F1 score\n",
    "print(f\"\\n🏆 Best Classifier Based on F1 Score: {best_classifier}\")\n",
    "print(f\"F1 Score: {best_f1_score:.4f}\")\n",
    "\n",
    "# Print the detailed metrics of the best classifier\n",
    "print(f\"\\nDetailed Metrics of the Best Classifier:\")\n",
    "print(f\"Accuracy: {best_metrics['accuracy']:.4f}\")\n",
    "print(f\"Sensitivity: {best_metrics['sensitivity']:.4f}\")\n",
    "print(f\"Specificity: {best_metrics['specificity']:.4f}\")\n",
    "print(f\"AUC: {best_metrics['auc']:.4f}\")\n",
    "print(f\"F1 Score: {best_metrics['f1-score']:.4f}\")\n"
   ]
  }
 ],
 "metadata": {
  "kernelspec": {
   "display_name": "base",
   "language": "python",
   "name": "python3"
  },
  "language_info": {
   "codemirror_mode": {
    "name": "ipython",
    "version": 3
   },
   "file_extension": ".py",
   "mimetype": "text/x-python",
   "name": "python",
   "nbconvert_exporter": "python",
   "pygments_lexer": "ipython3",
   "version": "3.11.7"
  }
 },
 "nbformat": 4,
 "nbformat_minor": 5
}
