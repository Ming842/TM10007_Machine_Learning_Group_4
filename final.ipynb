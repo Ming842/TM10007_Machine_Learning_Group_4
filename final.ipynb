{
  "cells": [
    {
      "cell_type": "markdown",
      "source": [
        "# Data loading\n",
        "**Importing modules**\n",
        "\n",
        "---\n",
        "\n"
      ],
      "metadata": {
        "id": "20bjYbSe5GNt"
      }
    },
    {
      "cell_type": "code",
      "source": [
        "# Modules to import the data set from Github\n",
        "import zipfile\n",
        "import os\n",
        "import pandas as pd\n",
        "\n",
        "# Modules for linear classifier\n",
        "from sklearn.linear_model import LogisticRegression\n",
        "from sklearn.model_selection import train_test_split\n",
        "from sklearn.metrics import accuracy_score\n",
        "import pandas as pd\n",
        "from sklearn.metrics import f1_score, roc_auc_score, confusion_matrix\n",
        "\n",
        "# Modules for plotting\n",
        "import matplotlib.pyplot as plt\n",
        "import seaborn as sns\n",
        "\n",
        "# Scaling\n",
        "from sklearn.preprocessing import RobustScaler\n",
        "from sklearn.decomposition import PCA"
      ],
      "metadata": {
        "id": "98b4qA3a5Fhy"
      },
      "execution_count": 30,
      "outputs": []
    },
    {
      "cell_type": "markdown",
      "source": [
        "**Data Loading**\n",
        "\n",
        "\n",
        "---\n",
        "\n",
        "\n",
        "Below are functions to load the ECG dataset that contains frequency features of both normal and abnormal ECG's."
      ],
      "metadata": {
        "id": "DpluJ8TQ3vAU"
      }
    },
    {
      "cell_type": "code",
      "execution_count": 31,
      "metadata": {
        "id": "AG4FZYYS22hd",
        "outputId": "217cb9b9-7ac0-4862-f45d-4baa0d8d65ba",
        "colab": {
          "base_uri": "https://localhost:8080/"
        }
      },
      "outputs": [
        {
          "output_type": "stream",
          "name": "stdout",
          "text": [
            "fatal: destination path 'tm10007_ml' already exists and is not an empty directory.\n"
          ]
        }
      ],
      "source": [
        "# Run this to use from colab environment\n",
        "!git clone https://github.com/jveenland/tm10007_ml.git\n",
        "\n",
        "with zipfile.ZipFile('/content/tm10007_ml/ecg/ecg_data.zip', 'r') as zip_ref:\n",
        "    zip_ref.extractall('/content/tm10007_ml/ecg')\n",
        "\n",
        "data = pd.read_csv('/content/tm10007_ml/ecg/ecg_data.csv', index_col=0)"
      ]
    },
    {
      "cell_type": "markdown",
      "source": [
        "**Describtion of the dataset**\n",
        "\n",
        "\n",
        "---\n",
        "\n",
        "Before we can train classifiers, it is important to understand the data we will be working with. Therefore we give a short description of our dataset.\n",
        "\n",
        "From this, we learn that:\n",
        "\n",
        "\n",
        "*   The number of features in the dataset is a lot larger that the number of samples (curse of dimensionality).\n",
        "*   There are no further actions required regarding missing values.\n",
        "*   The number of normal ECGs in the dataset is a lot larger than the number of abnormal ECGs (imbalanced dataset).\n",
        "*   The dataset contains many outliers, so scaling is required.\n",
        "\n"
      ],
      "metadata": {
        "id": "zvcwXqaH4qY4"
      }
    },
    {
      "cell_type": "code",
      "source": [
        "# Samples and features\n",
        "print(f'The dataset contains {len(data.index)} samples and {len(data.columns)-1} features.')\n",
        "\n",
        "# Check for missing features\n",
        "missing_total = data.isnull().sum().sum()\n",
        "print (f'The dataset contains {(missing_total)} missing values.')\n",
        "\n",
        "# Check imbalance of the dataset\n",
        "print(\"The dataset contains\",(data.iloc[:, -1] == 0).sum(), \"normal ECGs, and \", (data.iloc[:, -1] == 1).sum(), \"abnormal ECGs.\")\n",
        "\n",
        "# Selecteren features\n",
        "features = data.columns[:-1][:3]\n",
        "\n",
        "# Plot boxplots van de features\n",
        "plt.figure(figsize=(6, 3))\n",
        "sns.boxplot(data=data[features])\n",
        "plt.title(\"Boxplots van eerste 3 features\")\n",
        "plt.xticks(rotation=45)\n",
        "plt.show()"
      ],
      "metadata": {
        "id": "M4harpWX3tiy",
        "outputId": "179e22b1-2870-4645-d48a-32ebb08857c4",
        "colab": {
          "base_uri": "https://localhost:8080/",
          "height": 381
        }
      },
      "execution_count": 32,
      "outputs": [
        {
          "output_type": "stream",
          "name": "stdout",
          "text": [
            "The dataset contains 827 samples and 9000 features.\n",
            "The dataset contains 0 missing values.\n",
            "The dataset contains 681 normal ECGs, and  146 abnormal ECGs.\n"
          ]
        },
        {
          "output_type": "display_data",
          "data": {
            "text/plain": [
              "<Figure size 600x300 with 1 Axes>"
            ],
            "image/png": "[encoded data removed]"
          },
          "metadata": {}
        }
      ]
    },
    {
      "cell_type": "markdown",
      "source": [
        "# Preprocessing the data\n",
        "\n",
        "**Creating a split in the data**\n",
        "\n",
        "\n",
        "\n",
        "---\n",
        "\n",
        "Before we take any other steps, it is important to split the data in a traning and test set. The training set will be used to train and validate the different classifiers, while the test set remains untouched until it is used to testing an already trained classifier.\n",
        "\n",
        "We use *stratify* so the proportions of  normal and abnormal ECGs remains consistent across the training and test set, so that the model is evaluated on a representative sample of the data. Furthermore, a *random state* 7 was used to ensure the reproducibility of the plots presented in our report."
      ],
      "metadata": {
        "id": "MvF1eOP-8Fgm"
      }
    },
    {
      "cell_type": "code",
      "execution_count": 33,
      "metadata": {
        "id": "76A1KGN822hf"
      },
      "outputs": [],
      "source": [
        "# Splitting features and labels\n",
        "x = data.iloc[:, :-1].values\n",
        "y = data.iloc[:, -1].values\n",
        "\n",
        "# Splitting the data into training and testing sets\n",
        "x_train, x_test, y_train, y_test = train_test_split(x, y, test_size=0.2, random_state=7)"
      ]
    },
    {
      "cell_type": "markdown",
      "source": [
        "**Scaling the data**\n",
        "\n",
        "\n",
        "---\n",
        "As vizualized above, the dataset contains outliers. We apply *Robust Scaling*, as this scaling method is best for handling outliers. We choose to scale the data so that it will fall between the 25th and 75th percentiles.\n"
      ],
      "metadata": {
        "id": "6ocIIIkVB1Gv"
      }
    },
    {
      "cell_type": "code",
      "source": [
        "# Scale the features\n",
        "scaler = RobustScaler(quantile_range=(25, 75))\n",
        "x_scaled = scaler.fit_transform(x_train)"
      ],
      "metadata": {
        "id": "5uE6HYD0C-9O"
      },
      "execution_count": 34,
      "outputs": []
    },
    {
      "cell_type": "markdown",
      "source": [
        "**Feature transformation - PCA**\n",
        "\n",
        "\n",
        "---\n",
        "\n",
        "As mentioned earlier, the dataset contains far more features than samples, which increases the change of overfitting and makes computation more challenging. To solve this, we use for *Principal Component Analysis* (PCA) for dimensionality reduction. We choose the PCA so that 99% of the variance in the set is preserved."
      ],
      "metadata": {
        "id": "lV6Mo21SIPUg"
      }
    },
    {
      "cell_type": "code",
      "source": [
        "# Apply PCA to reduce dimensionality\n",
        "pca = PCA(n_components=0.99)\n",
        "x_train_pca = pca.fit_transform(x_train)\n",
        "\n",
        "# Print the number of features left\n",
        "print(f\"Dimensionality was reduced from {len(data.columns)-1} features to {x_train_pca.shape[1]} features after PCA.\")"
      ],
      "metadata": {
        "id": "42_503V4LjuK",
        "outputId": "3d57a189-7b3d-4471-ccc8-82b146ae2d76",
        "colab": {
          "base_uri": "https://localhost:8080/"
        }
      },
      "execution_count": 41,
      "outputs": [
        {
          "output_type": "stream",
          "name": "stdout",
          "text": [
            "Dimensionality was reduced from 9000 features to 66 features after PCA \n"
          ]
        }
      ]
    },
    {
      "cell_type": "markdown",
      "source": [
        "# Classifiers\n",
        "**Linear classifier**\n",
        "\n",
        "\n",
        "---\n",
        "We expect the linear classifier to perform poorly, as the data is expected to be non-linearly and not normally distributed. Nevertheless, we still train the linear classifier to confirm this expextation and demonstrate that accuracy alone is not a valid performance metric."
      ],
      "metadata": {
        "id": "zHYLhxjILPLr"
      }
    },
    {
      "cell_type": "code",
      "execution_count": null,
      "metadata": {
        "id": "5u1Hnanz22hf"
      },
      "outputs": [],
      "source": [
        "# Code toevoegen hier"
      ]
    }
  ],
  "metadata": {
    "kernelspec": {
      "display_name": "base",
      "language": "python",
      "name": "python3"
    },
    "language_info": {
      "codemirror_mode": {
        "name": "ipython",
        "version": 3
      },
      "file_extension": ".py",
      "mimetype": "text/x-python",
      "name": "python",
      "nbconvert_exporter": "python",
      "pygments_lexer": "ipython3",
      "version": "3.12.2"
    },
    "colab": {
      "provenance": []
    }
  },
  "nbformat": 4,
  "nbformat_minor": 0
}