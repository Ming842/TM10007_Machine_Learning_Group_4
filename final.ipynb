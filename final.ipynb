{
  "cells": [
    {
      "cell_type": "markdown",
      "source": [
        "# Data loading\n",
        "**Importing modules**\n",
        "\n",
        "---\n",
        "\n"
      ],
      "metadata": {
        "id": "20bjYbSe5GNt"
      }
    },
    {
      "cell_type": "code",
      "source": [
        "# Modules to import the data set from Github\n",
        "import zipfile\n",
        "import os\n",
        "import pandas as pd\n",
        "\n",
        "# Modules for linear classifier\n",
        "from sklearn.linear_model import LogisticRegression\n",
        "from sklearn.model_selection import train_test_split\n",
        "from sklearn.metrics import accuracy_score\n",
        "import pandas as pd\n",
        "from sklearn.metrics import f1_score, roc_auc_score, confusion_matrix\n",
        "\n",
        "# Modules for plotting\n",
        "import matplotlib.pyplot as plt\n",
        "import seaborn as sns\n",
        "import scipy.stats as stats\n",
        "\n",
        "# Scaling\n",
        "from sklearn.preprocessing import RobustScaler\n",
        "from sklearn.decomposition import PCA"
      ],
      "metadata": {
        "id": "98b4qA3a5Fhy"
      },
      "execution_count": 15,
      "outputs": []
    },
    {
      "cell_type": "markdown",
      "source": [
        "**Data Loading**\n",
        "\n",
        "\n",
        "---\n",
        "\n",
        "\n",
        "Below are functions to load the ECG dataset that contains frequency features of both normal and abnormal ECG's."
      ],
      "metadata": {
        "id": "DpluJ8TQ3vAU"
      }
    },
    {
      "cell_type": "code",
      "execution_count": 16,
      "metadata": {
        "id": "AG4FZYYS22hd",
        "outputId": "98d7a2f9-d434-40d5-b6c8-c8db263154c5",
        "colab": {
          "base_uri": "https://localhost:8080/"
        }
      },
      "outputs": [
        {
          "output_type": "stream",
          "name": "stdout",
          "text": [
            "fatal: destination path 'tm10007_ml' already exists and is not an empty directory.\n"
          ]
        }
      ],
      "source": [
        "# Run this to use from colab environment\n",
        "!git clone https://github.com/jveenland/tm10007_ml.git\n",
        "\n",
        "with zipfile.ZipFile('/content/tm10007_ml/ecg/ecg_data.zip', 'r') as zip_ref:\n",
        "    zip_ref.extractall('/content/tm10007_ml/ecg')\n",
        "\n",
        "data = pd.read_csv('/content/tm10007_ml/ecg/ecg_data.csv', index_col=0)"
      ]
    },
    {
      "cell_type": "markdown",
      "source": [
        "**Describtion of the dataset**\n",
        "\n",
        "\n",
        "---\n",
        "\n",
        "Before we can train classifiers, it is important to understand the data we will be working with. Therefore we give a short description of our dataset. The data is split in features and labels and evaluated.\n",
        "\n",
        "From this, we learn that:\n",
        "\n",
        "\n",
        "*   The number of features in the dataset is a lot larger that the number of samples (curse of dimensionality).\n",
        "*   There are no further actions required regarding missing values.\n",
        "*   The number of normal ECGs in the dataset is a lot larger than the number of abnormal ECGs (imbalanced dataset).\n",
        "*   The dataset contains many outliers, so scaling is required.\n",
        "*   The features do not all follow a normal distribution.\n",
        "\n"
      ],
      "metadata": {
        "id": "zvcwXqaH4qY4"
      }
    },
    {
      "cell_type": "code",
      "source": [
        "# Samples and features\n",
        "print(f'The dataset contains {len(data.index)} samples and {len(data.columns)-1} features.')\n",
        "\n",
        "# Check for missing features\n",
        "missing_total = data.isnull().sum().sum() #sum of NaNs\n",
        "print (f'The dataset contains {(missing_total)} missing values.')\n",
        "\n",
        "# Splitting features and labels\n",
        "x = data.iloc[:, :-1].values\n",
        "y = data.iloc[:, -1].values\n",
        "\n",
        "# Check imbalance of the dataset\n",
        "normal_count = (y == 0).sum()\n",
        "abnormal_count = (y == 1).sum()\n",
        "print(\"The dataset contains\",normal_count, \"normal ECGs, and \", abnormal_count, \"abnormal ECGs.\")\n",
        "total_class = normal_count + abnormal_count\n",
        "normal_ratio = normal_count / total_class\n",
        "abnormal_ratio = abnormal_count / total_class\n",
        "\n",
        "# Plot imbalance of the dataset\n",
        "plt.bar(['Normal', 'Abnormal'], [normal_count, abnormal_count], color=['skyblue', 'salmon'])\n",
        "plt.ylabel('Number of samples')\n",
        "plt.title(f'Distribution of normal ({normal_ratio:.2f}) and abnormal ECGs ({abnormal_ratio:.2f})')\n",
        "plt.grid(axis='y', linestyle='--', alpha=0.7)\n",
        "plt.tight_layout()\n",
        "plt.show()\n",
        "\n",
        "# Plot boxplots of the features\n",
        "features = data.columns[:-1][:3]\n",
        "plt.figure(figsize=(6, 3))\n",
        "sns.boxplot(data=data[features])\n",
        "plt.title(\"Boxplots of 3 first features\")\n",
        "plt.show()\n",
        "\n",
        "# Q-Q plot for one feature\n",
        "feature = data.columns[0]\n",
        "plt.figure(figsize=(6, 3))\n",
        "stats.probplot(data[feature], dist=\"norm\", plot=plt)\n",
        "plt.title(f\"Q-Q plot of {feature}\")\n",
        "plt.show()"
      ],
      "metadata": {
        "id": "M4harpWX3tiy",
        "outputId": "e4fe161d-fa22-43c4-f104-e2b882d50a83",
        "colab": {
          "base_uri": "https://localhost:8080/",
          "height": 1000
        }
      },
      "execution_count": 22,
      "outputs": [
        {
          "output_type": "stream",
          "name": "stdout",
          "text": [
            "The dataset contains 827 samples and 9000 features.\n",
            "The dataset contains 0 missing values.\n",
            "The dataset contains 681 normal ECGs, and  146 abnormal ECGs.\n"
          ]
        },
        {
          "output_type": "display_data",
          "data": {
            "text/plain": [
              "<Figure size 640x480 with 1 Axes>"
            ],
            "image/png": "[encoded data removed]"
          },
          "metadata": {}
        },
        {
          "output_type": "display_data",
          "data": {
            "text/plain": [
              "<Figure size 600x300 with 1 Axes>"
            ],
            "image/png": "[encoded data removed]"
          },
          "metadata": {}
        },
        {
          "output_type": "display_data",
          "data": {
            "text/plain": [
              "<Figure size 600x300 with 1 Axes>"
            ],
            "image/png": "[encoded data removed]"
          },
          "metadata": {}
        }
      ]
    },
    {
      "cell_type": "markdown",
      "source": [
        "# Preprocessing the data\n",
        "\n",
        "**Creating a split in the data**\n",
        "\n",
        "\n",
        "\n",
        "---\n",
        "\n",
        "Before we take any other steps, it is important to split the data in a traning and test set. The training set will be used to train and validate the different classifiers, while the test set remains untouched until it is used to testing an already trained classifier.\n",
        "\n",
        "We use *stratify* so the proportions of  normal and abnormal ECGs remains consistent across the training and test set, so that the model is evaluated on a representative sample of the data. Furthermore, a *random state* 7 was used to ensure the reproducibility of the plots presented in our report."
      ],
      "metadata": {
        "id": "MvF1eOP-8Fgm"
      }
    },
    {
      "cell_type": "code",
      "execution_count": null,
      "metadata": {
        "id": "76A1KGN822hf"
      },
      "outputs": [],
      "source": []
    },
    {
      "cell_type": "markdown",
      "source": [
        "**Scaling the data**\n",
        "\n",
        "\n",
        "---\n",
        "As vizualized above, the dataset contains outliers. We apply *Robust Scaling*, as this scaling method is best for handling outliers. We choose to scale the data so that it will fall between the 25th and 75th percentiles.\n"
      ],
      "metadata": {
        "id": "6ocIIIkVB1Gv"
      }
    },
    {
      "cell_type": "code",
      "source": [
        "# Scale the features\n",
        "scaler = RobustScaler(quantile_range=(25, 75))\n",
        "x_scaled = scaler.fit_transform(x_train)"
      ],
      "metadata": {
        "id": "5uE6HYD0C-9O"
      },
      "execution_count": null,
      "outputs": []
    },
    {
      "cell_type": "markdown",
      "source": [
        "**Feature transformation - PCA**\n",
        "\n",
        "\n",
        "---\n",
        "\n",
        "As mentioned earlier, the dataset contains far more features than samples, which increases the change of overfitting and makes computation more challenging. To solve this, we use for *Principal Component Analysis* (PCA) for dimensionality reduction. We choose the PCA so that 99% of the variance in the set is preserved."
      ],
      "metadata": {
        "id": "lV6Mo21SIPUg"
      }
    },
    {
      "cell_type": "code",
      "source": [
        "# Apply PCA to reduce dimensionality\n",
        "pca = PCA(n_components=0.99)\n",
        "x_train_pca = pca.fit_transform(x_train)\n",
        "\n",
        "# Print the number of features left\n",
        "print(f\"Dimensionality was reduced from {len(data.columns)-1} features to {x_train_pca.shape[1]} features after PCA.\")"
      ],
      "metadata": {
        "id": "42_503V4LjuK",
        "outputId": "3d57a189-7b3d-4471-ccc8-82b146ae2d76",
        "colab": {
          "base_uri": "https://localhost:8080/"
        }
      },
      "execution_count": null,
      "outputs": [
        {
          "output_type": "stream",
          "name": "stdout",
          "text": [
            "Dimensionality was reduced from 9000 features to 66 features after PCA \n"
          ]
        }
      ]
    },
    {
      "cell_type": "markdown",
      "source": [
        "# Classifiers\n",
        "**Linear classifier**\n",
        "\n",
        "\n",
        "---\n",
        "We expect the linear classifier to perform poorly, as the data is expected to be non-linearly and not normally distributed. Nevertheless, we still train the linear classifier to confirm this expextation and demonstrate that accuracy alone is not a valid performance metric."
      ],
      "metadata": {
        "id": "zHYLhxjILPLr"
      }
    },
    {
      "cell_type": "code",
      "execution_count": null,
      "metadata": {
        "id": "5u1Hnanz22hf"
      },
      "outputs": [],
      "source": [
        "# Code toevoegen hier"
      ]
    },
    {
      "cell_type": "markdown",
      "source": [
        "**Support Vector Machine**\n",
        "\n",
        "\n",
        "---\n"
      ],
      "metadata": {
        "id": "jD-CwqRf7zzt"
      }
    },
    {
      "cell_type": "code",
      "source": [
        "import os\n",
        "import random\n",
        "import pickle\n",
        "import numpy as np\n",
        "import pandas as pd\n",
        "import matplotlib.pyplot as plt\n",
        "from tqdm import tqdm\n",
        "\n",
        "from sklearn.pipeline import Pipeline\n",
        "from sklearn.svm import SVC\n",
        "from sklearn.decomposition import PCA\n",
        "from sklearn.preprocessing import RobustScaler\n",
        "from sklearn.model_selection import train_test_split, StratifiedKFold, RandomizedSearchCV\n",
        "from sklearn.metrics import (\n",
        "    confusion_matrix, roc_auc_score, accuracy_score,\n",
        "    f1_score, precision_recall_curve, auc as pr_auc\n",
        ")\n",
        "from scipy.stats import loguniform, uniform\n",
        "\n",
        "# Load data\n",
        "data_path = os.path.join(os.getcwd(), 'ecg_data.csv')\n",
        "data = pd.read_csv(data_path, index_col=0)\n",
        "\n",
        "x = data.iloc[:, :-1].values\n",
        "y = data.iloc[:, -1].values\n",
        "\n",
        "outer = range(10)\n",
        "best_params_dict = {}\n",
        "best_model_dict = {}\n",
        "precision_list = []\n",
        "recall_list = []\n",
        "auc_list = []\n",
        "\n",
        "for outer_rand in tqdm(outer, desc='Outer Loop'):\n",
        "    X_train_outer, X_test_outer, y_train_outer, y_test_outer = train_test_split(\n",
        "        x, y, test_size=0.2, stratify=y, shuffle=True, random_state=outer_rand\n",
        "    )\n",
        "\n",
        "    # Define pipeline\n",
        "    pipeline = Pipeline([\n",
        "        ('scaler', RobustScaler(quantile_range=(25, 75))),\n",
        "        ('pca', PCA(n_components=0.99, random_state=42)),\n",
        "        ('svc', SVC(kernel='rbf', probability=True))\n",
        "    ])\n",
        "\n",
        "    # Hyperparameter space for RandomizedSearchCV\n",
        "    param_grid_svc = {\n",
        "        'svc__C': loguniform(0.01, 1000),\n",
        "        'svc__gamma': loguniform(0.0001, 100),\n",
        "        'svc__class_weight': ['balanced', None],\n",
        "        'svc__shrinking': [True, False],\n",
        "        'svc__tol': uniform(1e-5, 1e-2)\n",
        "    }\n",
        "\n",
        "    cv_inner = StratifiedKFold(n_splits=7, shuffle=True, random_state=42)\n",
        "\n",
        "    random_search = RandomizedSearchCV(\n",
        "        estimator=pipeline,\n",
        "        param_distributions=param_grid_svc,\n",
        "        scoring='roc_auc',\n",
        "        cv=cv_inner,\n",
        "        n_iter=10,\n",
        "        n_jobs=-1,\n",
        "        random_state=42\n",
        "    )\n",
        "\n",
        "    random_search.fit(X_train_outer, y_train_outer)\n",
        "\n",
        "    best_model = random_search.best_estimator_\n",
        "    best_params = random_search.best_params_\n",
        "\n",
        "    y_pred = best_model.predict(X_test_outer)\n",
        "    y_pred_proba = best_model.predict_proba(X_test_outer)[:, 1]\n",
        "\n",
        "    tn, fp, fn, tp = confusion_matrix(y_test_outer, y_pred).ravel()\n",
        "    sensitivity = tp / (tp + fn) if (tp + fn) > 0 else 0\n",
        "    specificity = tn / (tn + fp) if (tn + fp) > 0 else 0\n",
        "    auc_score = roc_auc_score(y_test_outer, y_pred_proba)\n",
        "    f1 = f1_score(y_test_outer, y_pred)\n",
        "    accuracy = accuracy_score(y_test_outer, y_pred)\n",
        "\n",
        "    precision, recall, _ = precision_recall_curve(y_test_outer, y_pred_proba)\n",
        "    pr_score = pr_auc(recall, precision)\n",
        "\n",
        "    best_params_dict[f\"Outer {outer_rand}\"] = {\n",
        "        **best_params,\n",
        "        'auc': auc_score,\n",
        "        'f1': f1,\n",
        "        'sensitivity': sensitivity,\n",
        "        'specificity': specificity,\n",
        "        'accuracy': accuracy,\n",
        "        'pr_auc': pr_score\n",
        "    }\n",
        "    best_model_dict[f\"Outer {outer_rand}\"] = best_model\n",
        "\n",
        "    precision_list.append(precision)\n",
        "    recall_list.append(recall)\n",
        "    auc_list.append(pr_score)\n",
        "\n",
        "    # Save best parameters\n",
        "    results_df = pd.DataFrame.from_dict(best_params_dict, orient='index')\n",
        "    results_csv_path = os.path.join(os.getcwd(), 'svm_best_hyperparameters_randomsearch.csv')\n",
        "    results_df.to_csv(results_csv_path)\n",
        "\n",
        "    # Save PR curve data\n",
        "    pr_data = {\n",
        "        \"precision_list\": precision_list,\n",
        "        \"recall_list\": recall_list,\n",
        "        \"auc_list\": auc_list\n",
        "    }\n",
        "    pr_data_path = os.path.join(os.getcwd(), 'svm_precision_recall_data_randomsearch.pkl')\n",
        "    with open(pr_data_path, 'wb') as f:\n",
        "        pickle.dump(pr_data, f)\n",
        "\n",
        "# Load PR curve data\n",
        "with open(pr_data_path, 'rb') as f:\n",
        "    pr_data = pickle.load(f)\n",
        "\n",
        "precision_list = pr_data[\"precision_list\"]\n",
        "recall_list = pr_data[\"recall_list\"]\n",
        "auc_list = pr_data[\"auc_list\"]\n",
        "\n",
        "mean_recall = np.linspace(0, 1, 100)\n",
        "interp_precisions = []\n",
        "\n",
        "for precision, recall in zip(precision_list, recall_list):\n",
        "    order = np.argsort(recall)\n",
        "    recall_sorted = recall[order]\n",
        "    precision_sorted = precision[order]\n",
        "    interp = np.interp(mean_recall, recall_sorted, precision_sorted, left=1.0, right=0.0)\n",
        "    interp_precisions.append(interp)\n",
        "\n",
        "mean_precision = np.mean(interp_precisions, axis=0)\n",
        "std_precision = np.std(interp_precisions, axis=0)\n",
        "\n",
        "plt.figure(figsize=(8, 6))\n",
        "plt.plot(mean_recall, mean_precision, label=f\"Mean PR Curve (AUC = {np.mean(auc_list):.2f})\", color='purple')\n",
        "plt.fill_between(mean_recall, mean_precision - std_precision, mean_precision + std_precision,\n",
        "                 alpha=0.2, color='violet', label=\"±1 Std. Dev.\")\n",
        "plt.xlabel(\"Recall\")\n",
        "plt.ylabel(\"Precision\")\n",
        "plt.title(\"SVM Precision-Recall Curve (Mean ± Std) - RandomSearchCV\")\n",
        "plt.legend(loc=\"lower left\")\n",
        "plt.grid()\n",
        "plt.tight_layout()\n",
        "\n",
        "plot_path = os.path.join(os.getcwd(), 'svm_pr_curve_randomsearch.png')\n",
        "plt.savefig(plot_path)\n",
        "plt.show()\n",
        "\n",
        "\n",
        "print(f\"Saved PR curve plot to {plot_path}\")\n"
      ],
      "metadata": {
        "id": "3-NETGaW7zht"
      },
      "execution_count": null,
      "outputs": []
    }
  ],
  "metadata": {
    "kernelspec": {
      "display_name": "base",
      "language": "python",
      "name": "python3"
    },
    "language_info": {
      "codemirror_mode": {
        "name": "ipython",
        "version": 3
      },
      "file_extension": ".py",
      "mimetype": "text/x-python",
      "name": "python",
      "nbconvert_exporter": "python",
      "pygments_lexer": "ipython3",
      "version": "3.12.2"
    },
    "colab": {
      "provenance": []
    }
  },
  "nbformat": 4,
  "nbformat_minor": 0
}