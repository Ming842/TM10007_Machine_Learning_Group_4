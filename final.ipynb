{
  "cells": [
    {
      "cell_type": "markdown",
      "source": [
        "# Data loading\n",
        "**Importing modules**\n",
        "\n",
        "---\n",
        "\n"
      ],
      "metadata": {
        "id": "20bjYbSe5GNt"
      }
    },
    {
      "cell_type": "code",
      "source": [
        "# Modules to import the data set from Github\n",
        "import os\n",
        "import zipfile\n",
        "import random\n",
        "import pickle\n",
        "\n",
        "import pandas as pd\n",
        "import numpy as np\n",
        "from tqdm import tqdm\n",
        "\n",
        "# Modules for plotting\n",
        "import matplotlib.pyplot as plt\n",
        "import seaborn as sns\n",
        "import scipy.stats as stats\n",
        "\n",
        "# Modules for performance metrics\n",
        "from sklearn.metrics import (\n",
        "    f1_score, roc_auc_score, confusion_matrix, accuracy_score,\n",
        "    precision_recall_curve, auc, make_scorer\n",
        ")\n",
        "\n",
        "# Modules for feature transformation, scaling, and splitting data\n",
        "from sklearn.decomposition import PCA\n",
        "from sklearn.model_selection import (\n",
        "    train_test_split, StratifiedKFold, GridSearchCV, RandomizedSearchCV\n",
        ")\n",
        "from sklearn.preprocessing import MinMaxScaler\n",
        "\n",
        "# Modules for classifiers\n",
        "from sklearn.pipeline import Pipeline\n",
        "\n",
        "from sklearn.linear_model import LogisticRegression\n",
        "from sklearn.ensemble import RandomForestClassifier\n",
        "from sklearn.neighbors import KNeighborsClassifier\n",
        "from sklearn.svm import SVC\n",
        "\n",
        "from scipy.stats import loguniform, uniform\n",
        "\n",
        "# Supress warnings\n",
        "from warnings import filterwarnings\n",
        "filterwarnings('ignore', category=UserWarning)\n"
      ],
      "metadata": {
        "id": "98b4qA3a5Fhy"
      },
      "execution_count": 14,
      "outputs": []
    },
    {
      "cell_type": "markdown",
      "source": [
        "**Initializing Functions**\n",
        "\n",
        "\n",
        "---\n",
        "\n",
        "\n",
        "Below, functions are defined that will be used further down in the code"
      ],
      "metadata": {
        "id": "U_133102AGwr"
      }
    },
    {
      "cell_type": "code",
      "source": [
        "def pr_auc_score(y_true, y_pred_proba):\n",
        "    \"\"\"\n",
        "    Calculate AUC of precision recall curve from classifier prediction\n",
        "    \"\"\"\n",
        "    precision, recall, _ = precision_recall_curve(y_true, y_pred_proba)\n",
        "    return auc(recall, precision)"
      ],
      "metadata": {
        "id": "q2OtYLm2AE6D"
      },
      "execution_count": 10,
      "outputs": []
    },
    {
      "cell_type": "markdown",
      "source": [
        "**Data Loading**\n",
        "\n",
        "\n",
        "---\n",
        "\n",
        "\n",
        "Below are functions to load the ECG dataset that contains frequency features of both normal and abnormal ECG's."
      ],
      "metadata": {
        "id": "DpluJ8TQ3vAU"
      }
    },
    {
      "cell_type": "code",
      "execution_count": 11,
      "metadata": {
        "id": "AG4FZYYS22hd",
        "outputId": "a40288fe-d5e1-4d3a-b563-270ca2492fbe",
        "colab": {
          "base_uri": "https://localhost:8080/"
        }
      },
      "outputs": [
        {
          "output_type": "stream",
          "name": "stdout",
          "text": [
            "fatal: destination path 'tm10007_ml' already exists and is not an empty directory.\n"
          ]
        }
      ],
      "source": [
        "# Run this to use from colab environment\n",
        "!git clone https://github.com/jveenland/tm10007_ml.git\n",
        "\n",
        "with zipfile.ZipFile('/content/tm10007_ml/ecg/ecg_data.zip', 'r') as zip_ref:\n",
        "    zip_ref.extractall('/content/tm10007_ml/ecg')\n",
        "\n",
        "data = pd.read_csv('/content/tm10007_ml/ecg/ecg_data.csv', index_col=0)"
      ]
    },
    {
      "cell_type": "markdown",
      "source": [
        "**Describtion of the dataset**\n",
        "\n",
        "\n",
        "---\n",
        "\n",
        "Before we can train classifiers, it is important to understand the data we will be working with. Therefore we give a short description of our dataset.\n",
        "\n",
        "From this, we learn that:\n",
        "\n",
        "\n",
        "*   The number of features in the dataset is a lot larger that the number of samples (curse of dimensionality).\n",
        "*   There are no further actions required regarding missing values.\n",
        "*   The number of normal ECGs in the dataset is a lot larger than the number of abnormal ECGs (imbalanced dataset).\n",
        "*   The dataset contains many outliers, so scaling is required.\n",
        "*   The features do not all follow a normal distribution.\n",
        "\n"
      ],
      "metadata": {
        "id": "zvcwXqaH4qY4"
      }
    },
    {
      "cell_type": "code",
      "source": [
        "# Samples and features\n",
        "print(f'The dataset contains {len(data.index)} samples and {len(data.columns)-1} features.')\n",
        "\n",
        "# Check for missing features\n",
        "missing_total = data.isnull().sum().sum() #sum of NaNs\n",
        "print (f'The dataset contains {(missing_total)} missing values.')\n",
        "\n",
        "# Splitting features and labels\n",
        "x = data.iloc[:, :-1].values\n",
        "y = data.iloc[:, -1].values\n",
        "\n",
        "# Check imbalance of the dataset\n",
        "normal_count = (y == 0).sum()\n",
        "abnormal_count = (y == 1).sum()\n",
        "print(\"The dataset contains\",normal_count, \"normal ECGs, and \", abnormal_count, \"abnormal ECGs.\")\n",
        "\n",
        "total_class = normal_count + abnormal_count\n",
        "normal_ratio = normal_count / total_class\n",
        "abnormal_ratio = abnormal_count / total_class\n",
        "\n",
        "# Plot with correct title formatting\n",
        "plt.bar(['Normal', 'Abnormal'], [normal_count, abnormal_count], color=['skyblue', 'salmon'])\n",
        "plt.xlabel('ECG Class')\n",
        "plt.ylabel('Number of samples')\n",
        "plt.title(f'Distribution of normal ({normal_ratio:.2f}) and abnormal ECGs ({abnormal_ratio:.2f})')\n",
        "plt.grid(axis='y', linestyle='--', alpha=0.7)\n",
        "plt.tight_layout()\n",
        "plt.show()\n",
        "\n",
        "# Plot boxplots van de features\n",
        "features = data.columns[:-1][:3]\n",
        "plt.figure(figsize=(6, 3))\n",
        "sns.boxplot(data=data[features])\n",
        "plt.title(\"Boxplots van eerste 3 features\")\n",
        "plt.xticks(rotation=45)\n",
        "plt.show()\n",
        "\n",
        "# Q-Q plot for one feature\n",
        "feature = data.columns[0]\n",
        "plt.figure(figsize=(6, 3))\n",
        "stats.probplot(data[feature], dist=\"norm\", plot=plt)\n",
        "plt.title(f\"Q-Q plot of {feature}\")\n",
        "plt.show()"
      ],
      "metadata": {
        "id": "M4harpWX3tiy",
        "outputId": "7678a921-40da-4408-d015-78df2e99795d",
        "colab": {
          "base_uri": "https://localhost:8080/",
          "height": 1000
        }
      },
      "execution_count": 7,
      "outputs": [
        {
          "output_type": "stream",
          "name": "stdout",
          "text": [
            "The dataset contains 827 samples and 9000 features.\n",
            "The dataset contains 0 missing values.\n",
            "The dataset contains 681 normal ECGs, and  146 abnormal ECGs.\n"
          ]
        },
        {
          "output_type": "display_data",
          "data": {
            "text/plain": [
              "<Figure size 640x480 with 1 Axes>"
            ],
            "image/png": "[encoded data removed]"
          },
          "metadata": {}
        },
        {
          "output_type": "display_data",
          "data": {
            "text/plain": [
              "<Figure size 600x300 with 1 Axes>"
            ],
            "image/png": "[encoded data removed]"
          },
          "metadata": {}
        },
        {
          "output_type": "display_data",
          "data": {
            "text/plain": [
              "<Figure size 600x300 with 1 Axes>"
            ],
            "image/png": "[encoded data removed]"
          },
          "metadata": {}
        }
      ]
    },
    {
      "cell_type": "markdown",
      "source": [
        "# Initializing variables\n",
        "\n",
        "Here all variables to save the data are initialized\n",
        "\n",
        "***Note that:***\n",
        "\n",
        "\n",
        "```\n",
        "outer = range(2) # Usually set to a much higher value so that the code runs overnight\n",
        "```\n",
        "\n",
        "*Due to the way the code is set up to save the test results per outerloop, the code can be stopped at any time. Thus range is usually set to >500 to exceed a runtime of 8 hours. The code is started before going to bed and stopped once we wake up. To make the code runnable in a reasonable timespan for demonstration purposes, the outer range is set way lower than usual.*\n",
        "\n",
        "***Further note that:***\n",
        "\n",
        "```\n",
        "n_RF = 5 # Usually set at 100\n",
        "```\n",
        "\n",
        "*n_randomsearchcv is the amount of times the RandomizedSearchCV model runs per outer iteration. To make the code runnable in a reasonable timespan for demonstration purposes, n_RF is set way lower than usual.*"
      ],
      "metadata": {
        "id": "yaRoQDNBIB8d"
      }
    },
    {
      "cell_type": "code",
      "source": [
        "# outer loop range\n",
        "outer = range(2) # Usually set to a much higher value so that the code runs overnight\n",
        "n_randomsearchcv = 5 # Usually set at 100\n",
        "\n",
        "# Initializes parameter and model dicts\n",
        "best_params_dict_KNN = {}\n",
        "best_model_dict_KNN = {}\n",
        "\n",
        "best_params_dict_RF = {}\n",
        "best_model_dict_RF = {}\n",
        "\n",
        "best_params_dict_SVM = {}\n",
        "best_model_dict_SVM = {}\n",
        "\n",
        "# Initialize variables to store precision-recall data\n",
        "precision_list_KNN = []\n",
        "recall_list_KNN = []\n",
        "auc_list_KNN = []\n",
        "\n",
        "precision_list_RF = []\n",
        "recall_list_RF = []\n",
        "auc_list_RF = []\n",
        "\n",
        "precision_list_SVM = []\n",
        "recall_list_SVM = []\n",
        "auc_list_SVM = []\n"
      ],
      "metadata": {
        "id": "OEeQL0JSH-Qf"
      },
      "execution_count": 17,
      "outputs": []
    },
    {
      "cell_type": "markdown",
      "source": [
        "# k-Nearest Neighbor classifier - Training\n",
        "\n",
        "---\n",
        "***We use the same pipeline for three different classifiers that we built. As a result, we will explain the first classifier (the kNN classifier) in detail, and the other follow the same structure.\n",
        "\n",
        "---\n",
        "\n",
        "**Nested structure**\n",
        "\n",
        "A nested structure will be used for hyperparameter tuning. With outer and inner loops. The outer folds we're determined by the outer loop (the tdqm progressbar library is used to track the progress of this loop). The inner loop is determined by the cross validation structure in either the RandomSearchCV or in the K-NN's case in the GridSearchCV.\n",
        "\n",
        "**Creating a split in the data**\n",
        "\n",
        "The dataset was split into a **training** and a **test** set to evaluate model performance reliably.\n",
        "\n",
        "**Outerfold - Initial Split:**\n",
        "\n",
        "First, 80% of the data was allocated to training and 20% to testing using *train_test_split()*. The number of the outerfold was also the random state, to ensure a different but reproducible split for each fold.\n",
        "\n",
        "**Innerfold -Secondary Split:**\n",
        "\n",
        "The training set was further split with a crossvalidation structure, using a StratifiedKfold with 7 folds, i.e. a train:test ratio of 85,7%:14.3% to create validation data. This helped reduce bias and improved the generalizability of the models.\n",
        "\n",
        "These steps allowed for thorough model evaluation, while keeping the test set untouched until the final stage, ensuring an unbiased assessment.\n",
        "\n",
        "\n",
        "\n",
        "*We use **stratified** splits so the proportions of normal and abnormal ECGs remains consistent across the training and test set, so that the model is evaluated on a representative sample of the data. Furthermore, aside from the the outerfold *train_test_split()*, a **random state** 7 was used to ensure the reproducibility of the plots presented in our report.*\n",
        "\n",
        "---\n",
        "\n",
        "**Defining parameters**\n",
        "\n",
        "A parameter grid was predetermined for the K-NN classifier. For the CVM and RF the grid was randomized between realistic parameter bounds.\n",
        "\n",
        "---\n",
        "\n",
        "**Pipeline**\n",
        "\n",
        "A pipeline is used to ensure all preprocessing steps are done in order. Preprocessing is done after the train-test split, to ensure the test data is left untouched. Ideally, this would also done after the training data is devided between train and validation, but due to a lack of computational power (since this would take much longer) this compromise was taken.\n",
        "\n",
        "**Scaling**\n",
        "\n",
        "As vizualized above, the data contain outliers which could affect the way your model is trained. However, through trial and error, we found that these outliers improve the way the model makes predicitions. Therefore, **MinMax** scaling is applied, as this enhanced the outliers in the data.\n",
        "\n",
        "**Feature transformation**\n",
        "\n",
        "The dataset contains far more features than samples, which increases the risks over overfitting your model and makes computation more complex. Therefore **Principal Component Anlysis** (PCA) is applied on the data to reduce the dimensions.\n",
        "\n",
        "\n",
        "**StratifiedKFold**\n",
        "\n",
        "As previously mentioned, the StratifiedKFold was used to split the data in 7 folds and served as the inner cross validation folds.\n",
        "\n",
        "---\n",
        "\n",
        "**Auc score function**\n",
        "\n",
        "To properly asses search, we use a function to calculate the PR AUC as scorring metric. This function is initialized right after the imports in the code:\n",
        "\n",
        "```\n",
        "def pr_auc_score(y_true, y_pred_proba):\n",
        "      precision, recall, _ = precision_recall_curve(y_true, y_pred_proba)\n",
        "      return auc(recall, precision)\n",
        "```\n",
        "\n",
        "---\n",
        "\n",
        "**Training**\n",
        "\n",
        "Here the K-NN model is trained with hyperparameter optimalization using GridSearchCV. With the pr_auc as scoring metric. The best model is saved in a dicitonary. Also the parameters are saved in a dict.\n",
        "\n",
        "---\n",
        "\n",
        "**Compute Scores**\n",
        "\n",
        "We compute all the following scores for each model:\n",
        "- ROC AUC\n",
        "- F1\n",
        "- Sensitivity\n",
        "- Specificity\n",
        "- Accuracy\n",
        "- Precision recall curve\n",
        "- PR AUC\n",
        "\n",
        "---\n",
        "\n",
        "**Saving the hyperparameter training data**\n",
        "\n",
        "We save the first five scores as a .csv file, including the hyperparameters of the model. The precision recall curve and PR AUC are saved as a pickle file.\n",
        "\n",
        "This saving occurs each outerloop. This ensures that the script can be closed at any time without the loss of data.\n",
        "\n",
        "---\n"
      ],
      "metadata": {
        "id": "zHYLhxjILPLr"
      }
    },
    {
      "cell_type": "code",
      "source": [
        "for outer_rand in tqdm(outer, desc='Outer Loop'):\n",
        "    # Split data into outer folds\n",
        "    X_train_outer, X_test_outer, y_train_outer, y_test_outer = train_test_split(\n",
        "            x, y, test_size=0.2, stratify=y, shuffle=True, random_state=outer_rand)\n",
        "\n",
        "    # Scale features using MinMaxScaler\n",
        "    scaler = MinMaxScaler(feature_range=(0, 1))\n",
        "    X_train_outer = scaler.fit_transform(X_train_outer)\n",
        "    X_test_outer = scaler.transform(X_test_outer)\n",
        "\n",
        "    # Apply PCA\n",
        "    pca = PCA(n_components=0.95)  # Keep 95% variance\n",
        "    X_train_outer = pca.fit_transform(X_train_outer)\n",
        "    X_test_outer = pca.transform(X_test_outer)\n",
        "\n",
        "    # Create a pipeline with scaling, PCA, and KNeighborsClassifier\n",
        "    param_grid_knn = {\n",
        "        'knn__n_neighbors': list(range(3, 25)),  # Iterate over k from 3 to 24\n",
        "        'knn__weights': ['uniform', 'distance'],\n",
        "        'knn__metric': ['euclidean', 'manhattan'],\n",
        "        'knn__algorithm': ['auto', 'ball_tree', 'kd_tree', 'brute'],\n",
        "    }\n",
        "\n",
        "    pipeline = Pipeline([\n",
        "        ('knn', KNeighborsClassifier())\n",
        "    ])\n",
        "\n",
        "    # For classification problems to maintain class distribution\n",
        "    cv_inner = StratifiedKFold(n_splits=7, shuffle=True, random_state=42)\n",
        "\n",
        "    pr_auc_scorer = make_scorer(pr_auc_score, y_score = True)\n",
        "\n",
        "    random_search = GridSearchCV(\n",
        "        estimator=pipeline,\n",
        "        param_grid=param_grid_knn,\n",
        "        scoring=pr_auc_scorer,\n",
        "        cv=cv_inner,\n",
        "        n_jobs=-1\n",
        "    )\n",
        "\n",
        "    random_search.fit(X_train_outer, y_train_outer)\n",
        "\n",
        "    best_params = random_search.best_params_\n",
        "    best_params_dict_KNN[f\"Outer {outer_rand}\"] = best_params\n",
        "    best_model_dict_KNN[f\"Outer {outer_rand}\"] = random_search.best_estimator_\n",
        "\n",
        "\n",
        "    y_pred = best_model_dict_KNN[f\"Outer {outer_rand}\"].predict(X_test_outer)\n",
        "    tn, fp, fn, tp = confusion_matrix(y_test_outer, y_pred).ravel()\n",
        "\n",
        "    # Calculate metrics\n",
        "    sensitivity = tp / (tp + fn) if (tp + fn) > 0 else 0\n",
        "    specificity = tn / (tn + fp) if (tn + fp) > 0 else 0\n",
        "    y_pred_proba = best_model_dict_KNN[f\"Outer {outer_rand}\"].predict_proba(X_test_outer)[:, 1]\n",
        "    auc_score = roc_auc_score(y_test_outer, y_pred_proba)\n",
        "    f1 = f1_score(y_test_outer, y_pred)\n",
        "    accuracy = accuracy_score(y_test_outer, y_pred)\n",
        "\n",
        "    # precision recall curve\n",
        "    precision, recall, _ = precision_recall_curve(y_test_outer, y_pred_proba)\n",
        "    precision_list_KNN.append(precision)\n",
        "    recall_list_KNN.append(recall)\n",
        "    auc_list_KNN.append(auc(recall, precision))\n",
        "\n",
        "    best_params_dict_KNN[f\"Outer {outer_rand}\"]['auc'] = auc_score\n",
        "    best_params_dict_KNN[f\"Outer {outer_rand}\"]['f1'] = f1\n",
        "    best_params_dict_KNN[f\"Outer {outer_rand}\"]['sensitivity'] = sensitivity\n",
        "    best_params_dict_KNN[f\"Outer {outer_rand}\"]['specificity'] = specificity\n",
        "    best_params_dict_KNN[f\"Outer {outer_rand}\"]['accuracy'] = accuracy\n",
        "\n",
        "\n",
        "    print(f\"\\nOuter {outer_rand} -> Best Hyperparameters: {best_params}\")\n",
        "\n",
        "    # Save results\n",
        "    results_df = pd.DataFrame.from_dict(best_params_dict_KNN, orient='index')\n",
        "    results_csv_path = os.path.join(os.getcwd(), 'KNN_best_hyperparameters.csv')\n",
        "    results_df.to_csv(results_csv_path)\n",
        "    print(f\"\\nBest parameters saved to {results_csv_path} after Outer {outer_rand} completion\")\n",
        "\n",
        "    # Save precision-recall data\n",
        "    pr_data = {\n",
        "        \"precision_list\": precision_list_KNN,\n",
        "        \"recall_list\": recall_list_KNN,\n",
        "        \"auc_list\": auc_list_KNN\n",
        "    }\n",
        "    pr_data_path = os.path.join(os.getcwd(), 'KNN_precision_recall_data.pkl')\n",
        "    with open(pr_data_path, 'wb') as f:\n",
        "        pickle.dump(pr_data, f)\n",
        "    print(f\"\\nPrecision-recall data saved to {pr_data_path} after Outer {outer_rand} completion\")\n"
      ],
      "metadata": {
        "id": "OA6RKBXQVrL8",
        "colab": {
          "base_uri": "https://localhost:8080/"
        },
        "outputId": "aaae1437-b30c-4c5c-aeea-77afcc065095"
      },
      "execution_count": 12,
      "outputs": [
        {
          "output_type": "stream",
          "name": "stderr",
          "text": [
            "Outer Loop:  50%|█████     | 1/2 [00:51<00:51, 51.90s/it]"
          ]
        },
        {
          "output_type": "stream",
          "name": "stdout",
          "text": [
            "\n",
            "Outer 0 -> Best Hyperparameters: {'knn__algorithm': 'auto', 'knn__metric': 'euclidean', 'knn__n_neighbors': 3, 'knn__weights': 'uniform', 'auc': 0.61213189025925, 'f1': 0.16216216216216217, 'sensitivity': 0.10344827586206896, 'specificity': 0.9635036496350365, 'accuracy': 0.8132530120481928}\n",
            "\n",
            "Best parameters saved to /content/best_hyperparameters_short.csv after Outer 0 completion\n",
            "\n",
            "Precision-recall data saved to /content/precision_recall_data.pkl after Outer 0 completion\n"
          ]
        },
        {
          "output_type": "stream",
          "name": "stderr",
          "text": [
            "Outer Loop: 100%|██████████| 2/2 [01:59<00:00, 59.63s/it]"
          ]
        },
        {
          "output_type": "stream",
          "name": "stdout",
          "text": [
            "\n",
            "Outer 1 -> Best Hyperparameters: {'knn__algorithm': 'auto', 'knn__metric': 'euclidean', 'knn__n_neighbors': 3, 'knn__weights': 'uniform', 'auc': 0.6706519003272086, 'f1': 0.17647058823529413, 'sensitivity': 0.10344827586206896, 'specificity': 0.9854014598540146, 'accuracy': 0.8313253012048193}\n",
            "\n",
            "Best parameters saved to /content/best_hyperparameters_short.csv after Outer 1 completion\n",
            "\n",
            "Precision-recall data saved to /content/precision_recall_data.pkl after Outer 1 completion\n"
          ]
        },
        {
          "output_type": "stream",
          "name": "stderr",
          "text": [
            "\n"
          ]
        }
      ]
    },
    {
      "cell_type": "markdown",
      "source": [
        "# Random Forest Classifier - Training\n",
        "\n",
        "The difference from the k-NN classifier is only the hyperparameters that are evaluated and the usage of RandomizedSearchCV instead of GridSearchCV\n",
        "\n",
        "---"
      ],
      "metadata": {
        "id": "DUSVQCh12fbe"
      }
    },
    {
      "cell_type": "code",
      "source": [
        "for outer_rand in tqdm(outer, desc='Outer Loop'):\n",
        "    # Split data into outer folds\n",
        "    X_train_outer, X_test_outer, y_train_outer, y_test_outer = train_test_split(\n",
        "            x, y, test_size=0.2, stratify=y, shuffle=True, random_state=outer_rand)\n",
        "\n",
        "    # Apply MinMaxScaler and PCA to the data before passing it to the pipeline\n",
        "    scaler = MinMaxScaler(feature_range=(0, 1))\n",
        "    X_train_outer = scaler.fit_transform(X_train_outer)\n",
        "    X_test_outer = scaler.transform(X_test_outer)\n",
        "\n",
        "    pca = PCA(n_components=0.99)  # Retain 99% of variance\n",
        "    x_train_outer = pca.fit_transform(X_train_outer)\n",
        "    x_test_outer = pca.transform(X_test_outer)\n",
        "\n",
        "    # Hyperparameter grid\n",
        "    param_grid_rf = {\n",
        "        'n_estimators': [random.randint(5, 75) for _ in range(50)],\n",
        "        'max_depth': [random.randint(1, 10) for _ in range(50)],\n",
        "        'min_samples_split': [random.randint(2, 5) for _ in range(50)],\n",
        "        'min_samples_leaf': [random.randint(1, 4) for _ in range(50)],\n",
        "        'max_samples': [random.uniform(0.5, 1) for _ in range(50)],\n",
        "        'bootstrap': [True]\n",
        "    }\n",
        "    # Create a pipeline with scaling, PCA, and RandomForestClassifier\n",
        "    rf = RandomForestClassifier(random_state=7, n_jobs=-1)\n",
        "\n",
        "    # For classification problems to maintain class distribution for 14.3% splits\n",
        "    cv_inner = StratifiedKFold(n_splits=7, shuffle=True, random_state=7)\n",
        "\n",
        "    random_search = RandomizedSearchCV(\n",
        "        estimator=rf,\n",
        "        param_distributions=param_grid_rf,\n",
        "        scoring='roc_auc',\n",
        "        cv=cv_inner,\n",
        "        n_iter=n_randomsearchcv,\n",
        "        n_jobs=-1,\n",
        "        random_state=7\n",
        "    )\n",
        "\n",
        "    random_search.fit(X_train_outer, y_train_outer)\n",
        "\n",
        "    best_params = random_search.best_params_\n",
        "    best_params_dict_RF[f\"Outer {outer_rand}\"] = best_params\n",
        "    best_model_dict_RF[f\"Outer {outer_rand}\"] = random_search.best_estimator_\n",
        "    y_pred = best_model_dict_RF[f\"Outer {outer_rand}\"].predict(X_test_outer)\n",
        "    tn, fp, fn, tp = confusion_matrix(y_test_outer, y_pred).ravel()\n",
        "\n",
        "    # Calculate metrics\n",
        "    sensitivity = tp / (tp + fn) if (tp + fn) > 0 else 0\n",
        "    specificity = tn / (tn + fp) if (tn + fp) > 0 else 0\n",
        "    y_pred_proba = best_model_dict_RF[f\"Outer {outer_rand}\"].predict_proba(X_test_outer)[:, 1]\n",
        "    auc_score = roc_auc_score(y_test_outer, y_pred_proba)\n",
        "    f1 = f1_score(y_test_outer, y_pred)\n",
        "    accuracy = accuracy_score(y_test_outer, y_pred)\n",
        "\n",
        "    # precision recall curve\n",
        "    precision, recall, _ = precision_recall_curve(y_test_outer, y_pred_proba)\n",
        "    precision_list_RF.append(precision)\n",
        "    recall_list_RF.append(recall)\n",
        "    auc_list_RF.append(auc(recall, precision))\n",
        "\n",
        "    best_params_dict_RF[f\"Outer {outer_rand}\"]['auc'] = auc_score\n",
        "    best_params_dict_RF[f\"Outer {outer_rand}\"]['f1'] = f1\n",
        "    best_params_dict_RF[f\"Outer {outer_rand}\"]['sensitivity'] = sensitivity\n",
        "    best_params_dict_RF[f\"Outer {outer_rand}\"]['specificity'] = specificity\n",
        "    best_params_dict_RF[f\"Outer {outer_rand}\"]['accuracy'] = accuracy\n",
        "\n",
        "\n",
        "    print(f\"\\nOuter {outer_rand} -> Best Hyperparameters: {best_params}\")\n",
        "\n",
        "    # Save results\n",
        "    results_df = pd.DataFrame.from_dict(best_params_dict_RF, orient='index')\n",
        "    results_csv_path = os.path.join(os.getcwd(), 'RF_best_hyperparameters.csv')\n",
        "    results_df.to_csv(results_csv_path)\n",
        "    print(f\"\\nBest parameters saved to {results_csv_path} after Outer {outer_rand} completion\")\n",
        "\n",
        "    # Save precision-recall data\n",
        "    pr_data = {\n",
        "        \"precision_list\": precision_list_RF,\n",
        "        \"recall_list\": recall_list_RF,\n",
        "        \"auc_list\": auc_list_RF\n",
        "    }\n",
        "    pr_data_path = os.path.join(os.getcwd(), 'RF_precision_recall_data.pkl')\n",
        "    with open(pr_data_path, 'wb') as f:\n",
        "        pickle.dump(pr_data, f)\n",
        "    print(f\"\\nPrecision-recall data saved to {pr_data_path} after Outer {outer_rand} completion\")\n",
        "\n"
      ],
      "metadata": {
        "id": "cfxJ3JeC2k-Q",
        "outputId": "f5062d7a-9d37-44c4-8634-67edacaf627b",
        "colab": {
          "base_uri": "https://localhost:8080/"
        }
      },
      "execution_count": 16,
      "outputs": [
        {
          "output_type": "stream",
          "name": "stderr",
          "text": [
            "Outer Loop:  50%|█████     | 1/2 [01:29<01:29, 89.15s/it]"
          ]
        },
        {
          "output_type": "stream",
          "name": "stdout",
          "text": [
            "\n",
            "Outer 0 -> Best Hyperparameters: {'n_estimators': 95, 'min_samples_split': 2, 'min_samples_leaf': 1, 'max_samples': 0.6905638763418286, 'max_depth': 28, 'bootstrap': True, 'auc': 0.6877674301535364, 'f1': 0.17647058823529413, 'sensitivity': 0.10344827586206896, 'specificity': 0.9854014598540146, 'accuracy': 0.8313253012048193}\n",
            "\n",
            "Best parameters saved to /content/RF_best_hyperparameters.csv after Outer 0 completion\n",
            "\n",
            "Precision-recall data saved to /content/RF_precision_recall_data.pkl after Outer 0 completion\n"
          ]
        },
        {
          "output_type": "stream",
          "name": "stderr",
          "text": [
            "Outer Loop: 100%|██████████| 2/2 [02:45<00:00, 82.81s/it]"
          ]
        },
        {
          "output_type": "stream",
          "name": "stdout",
          "text": [
            "\n",
            "Outer 1 -> Best Hyperparameters: {'n_estimators': 153, 'min_samples_split': 2, 'min_samples_leaf': 4, 'max_samples': 0.7006280379556052, 'max_depth': 16, 'bootstrap': True, 'auc': 0.8024163100931286, 'f1': 0.06666666666666667, 'sensitivity': 0.034482758620689655, 'specificity': 1.0, 'accuracy': 0.8313253012048193}\n",
            "\n",
            "Best parameters saved to /content/RF_best_hyperparameters.csv after Outer 1 completion\n",
            "\n",
            "Precision-recall data saved to /content/RF_precision_recall_data.pkl after Outer 1 completion\n"
          ]
        },
        {
          "output_type": "stream",
          "name": "stderr",
          "text": [
            "\n"
          ]
        }
      ]
    },
    {
      "cell_type": "markdown",
      "source": [
        "# Support Vector Machine - Training\n",
        "\n",
        "The difference from the k-NN classifier is only the hyperparameters that are evaluated and the usage of RandomizedSearchCV instead of GridSearchCV\n",
        "\n",
        "---\n"
      ],
      "metadata": {
        "id": "jD-CwqRf7zzt"
      }
    },
    {
      "cell_type": "code",
      "source": [
        "for outer_rand in tqdm(outer, desc='Outer Loop'):\n",
        "    X_train_outer, X_test_outer, y_train_outer, y_test_outer = train_test_split(\n",
        "        x, y, test_size=0.2, stratify=y, shuffle=True, random_state=outer_rand\n",
        "    )\n",
        "\n",
        "    # Apply MinMaxScaler and PCA separately to the data\n",
        "    scaler = MinMaxScaler(feature_range=(0, 1))\n",
        "    X_train_outer = scaler.fit_transform(X_train_outer)\n",
        "    X_test_outer = scaler.transform(X_test_outer)\n",
        "\n",
        "    pca = PCA(n_components=0.99, random_state=7)\n",
        "    X_train_outer = pca.fit_transform(X_train_outer)\n",
        "    X_test_outer = pca.transform(X_test_outer)\n",
        "\n",
        "    # Define pipeline\n",
        "    pipeline = Pipeline([\n",
        "        ('svc', SVC(kernel='rbf', probability=True))\n",
        "    ])\n",
        "\n",
        "    # Hyperparameter space for RandomizedSearchCV\n",
        "    param_grid_svc = {\n",
        "        'svc__C': loguniform(0.01, 1000),\n",
        "        'svc__gamma': loguniform(0.0001, 100),\n",
        "        'svc__class_weight': ['balanced', None],\n",
        "        'svc__shrinking': [True, False],\n",
        "        'svc__tol': uniform(1e-5, 1e-2)\n",
        "    }\n",
        "\n",
        "    cv_inner = StratifiedKFold(n_splits=7, shuffle=True, random_state=7)\n",
        "\n",
        "    pr_auc_scorer = make_scorer(pr_auc_score, needs_proba=True)\n",
        "\n",
        "    random_search = RandomizedSearchCV(\n",
        "        estimator=pipeline,\n",
        "        param_distributions=param_grid_svc,\n",
        "        scoring=pr_auc_scorer,\n",
        "        cv=cv_inner,\n",
        "        n_iter=n_randomsearchcv,\n",
        "        n_jobs=-1,\n",
        "        random_state=7\n",
        "    )\n",
        "\n",
        "    random_search.fit(X_train_outer, y_train_outer)\n",
        "\n",
        "    best_model = random_search.best_estimator_\n",
        "    best_params = random_search.best_params_\n",
        "\n",
        "    y_pred = best_model.predict(X_test_outer)\n",
        "    y_pred_proba = best_model.predict_proba(X_test_outer)[:, 1]\n",
        "\n",
        "    tn, fp, fn, tp = confusion_matrix(y_test_outer, y_pred).ravel()\n",
        "    sensitivity = tp / (tp + fn) if (tp + fn) > 0 else 0\n",
        "    specificity = tn / (tn + fp) if (tn + fp) > 0 else 0\n",
        "    auc_score = roc_auc_score(y_test_outer, y_pred_proba)\n",
        "    f1 = f1_score(y_test_outer, y_pred)\n",
        "    accuracy = accuracy_score(y_test_outer, y_pred)\n",
        "\n",
        "    precision, recall, _ = precision_recall_curve(y_test_outer, y_pred_proba)\n",
        "    pr_score = auc(recall, precision)\n",
        "\n",
        "    best_params_dict_SVM[f\"Outer {outer_rand}\"] = {\n",
        "        **best_params,\n",
        "        'auc': auc_score,\n",
        "        'f1': f1,\n",
        "        'sensitivity': sensitivity,\n",
        "        'specificity': specificity,\n",
        "        'accuracy': accuracy,\n",
        "        'pr_auc': pr_score\n",
        "    }\n",
        "    best_model_dict_SVM[f\"Outer {outer_rand}\"] = best_model\n",
        "\n",
        "    precision_list_SVM.append(precision)\n",
        "    recall_list_SVM.append(recall)\n",
        "    auc_list_SVM.append(pr_score)\n",
        "\n",
        "    # Save best parameters\n",
        "    results_df = pd.DataFrame.from_dict(best_params_dict, orient='index')\n",
        "    results_csv_path = os.path.join(os.getcwd(), 'SVM_best_hyperparameters.csv')\n",
        "    results_df.to_csv(results_csv_path)\n",
        "\n",
        "    # Save PR curve data\n",
        "    pr_data = {\n",
        "        \"precision_list\": precision_list_SVM,\n",
        "        \"recall_list\": recall_list_SVM,\n",
        "        \"auc_list\": auc_list_SVM\n",
        "    }\n",
        "    pr_data_path = os.path.join(os.getcwd(), 'SVM_precision_recall_data.pkl')\n",
        "    with open(pr_data_path, 'wb') as f:\n",
        "        pickle.dump(pr_data, f)"
      ],
      "metadata": {
        "id": "lv7kP62j1vWo"
      },
      "execution_count": null,
      "outputs": []
    },
    {
      "cell_type": "markdown",
      "source": [
        "# Linear Classifier - Training\n",
        "\n",
        "We expect the linear classifier to perform poorly, as the data is expected to be non-linearly and not normally distributed. Nevertheless, we still train the linear classifier to confirm this expextation and demonstrate that accuracy alone is not a valid performance metric.\n",
        "\n",
        "---\n",
        "\n",
        "\n",
        "\n"
      ],
      "metadata": {
        "id": "Znh2Axr3ZRvv"
      }
    },
    {
      "cell_type": "code",
      "execution_count": null,
      "metadata": {
        "id": "5u1Hnanz22hf"
      },
      "outputs": [],
      "source": [
        "# Splitting the data into training and testing sets\n",
        "x_train, x_test, y_train, y_test = train_test_split(x, y, test_size=0.2, random_state=42)\n",
        "# Scaling the features\n",
        "scaler = MinMaxScaler(feature_range=(0, 1))\n",
        "x_train = scaler.fit_transform(x_train)\n",
        "x_test = scaler.transform(x_test)\n",
        "# Applying PCA\n",
        "pca = PCA(n_components=0.99)\n",
        "x_train = pca.fit_transform(x_train)\n",
        "x_test = pca.transform(x_test)\n",
        "# Creating and training the linear classifier\n",
        "classifier = LogisticRegression()\n",
        "classifier.fit(x_train, y_train)\n",
        "\n",
        "# Making predictions\n",
        "y_pred = classifier.predict(x_test)\n",
        "\n",
        "# Evaluating the classifier\n",
        "accuracy = accuracy_score(y_test, y_pred)\n",
        "# Calculate F1 score\n",
        "f1 = f1_score(y_test, y_pred)\n",
        "\n",
        "# Calculate sensitivity and specificity\n",
        "tn, fp, fn, tp = confusion_matrix(y_test, y_pred).ravel()\n",
        "sensitivity = tp / (tp + fn)\n",
        "specificity = tn / (tn + fp)\n",
        "\n",
        "# Calculate AUC\n",
        "auc = roc_auc_score(y_test, classifier.predict_proba(x_test)[:, 1])\n",
        "\n",
        "# Print the metrics\n",
        "print(f\"Accuracy: {accuracy}\")\n",
        "print(f\"F1 Score: {f1}\")\n",
        "print(f\"Sensitivity: {sensitivity}\")\n",
        "print(f\"Specificity: {specificity}\")\n",
        "print(f\"AUC: {auc}\")"
      ]
    },
    {
      "cell_type": "markdown",
      "source": [
        "# k-Nearest Neighbor Classifier - Model\n",
        "\n",
        "\n",
        "---\n",
        "\n"
      ],
      "metadata": {
        "id": "eC_s6rw-OBFb"
      }
    },
    {
      "cell_type": "code",
      "source": [
        "#prior split\n",
        "X_train, X_test, y_train, y_test = train_test_split(\n",
        "        x, y, test_size=0.2, stratify=y, shuffle=True, random_state=7)\n",
        "\n",
        "parameters = {\n",
        "    'algorithm': 'auto',\n",
        "    'metric': 'euclidean',\n",
        "    'n_neighbors': 24,\n",
        "    'weights': 'uniform',\n",
        "}\n",
        "\n",
        "pipeline = Pipeline([\n",
        "    ('minmaxscaler', MinMaxScaler(feature_range=(0, 1))),\n",
        "    ('pca', PCA(n_components=0.99)),\n",
        "    ('rfc', KNeighborsClassifier(**parameters, n_jobs=-1))\n",
        "])\n",
        "\n",
        "pipeline.fit(X_test, y_test)\n",
        "\n",
        "# Generate learning curve data\n",
        "train_sizes, train_scores, test_scores = learning_curve(\n",
        "    pipeline, X_train, y_train, cv=StratifiedKFold(n_splits=7), scoring='roc_auc', n_jobs=-1)\n",
        "\n",
        "# Calculate mean and standard deviation for training and test scores\n",
        "train_scores_mean = np.mean(train_scores, axis=1)\n",
        "train_scores_std = np.std(train_scores, axis=1)\n",
        "test_scores_mean = np.mean(test_scores, axis=1)\n",
        "test_scores_std = np.std(test_scores, axis=1)\n",
        "\n",
        "# Plot the learning curve\n",
        "plt.figure()\n",
        "plt.title(\"Learning Curve\")\n",
        "plt.xlabel(\"Training examples\")\n",
        "plt.ylabel(\"Score\")\n",
        "plt.grid()\n",
        "\n",
        "# Plot the mean and standard deviation for training and test scores\n",
        "plt.fill_between(train_sizes, train_scores_mean - train_scores_std,\n",
        "                 train_scores_mean + train_scores_std, alpha=0.1, color=\"r\")\n",
        "plt.fill_between(train_sizes, test_scores_mean - test_scores_std,\n",
        "                 test_scores_mean + test_scores_std, alpha=0.1, color=\"g\")\n",
        "plt.plot(train_sizes, train_scores_mean, 'o-', color=\"r\", label=\"Training score\")\n",
        "plt.plot(train_sizes, test_scores_mean, 'o-', color=\"g\", label=\"Cross-validation score\")\n",
        "plt.ylim(0.3, 1.05)\n",
        "plt.legend(loc=\"best\")\n",
        "plt.show()"
      ],
      "metadata": {
        "id": "3bbqP7TNOFh1"
      },
      "execution_count": null,
      "outputs": []
    },
    {
      "cell_type": "markdown",
      "source": [
        "# Random Forest Classifier - Model\n",
        "\n",
        "\n",
        "---\n",
        "\n"
      ],
      "metadata": {
        "id": "Rcjhka5jNwkR"
      }
    },
    {
      "cell_type": "code",
      "source": [
        "#prior split\n",
        "X_train, X_test, y_train, y_test = train_test_split(\n",
        "        x, y, test_size=0.2, stratify=y, shuffle=True, random_state=7)\n",
        "\n",
        "parameters = {\n",
        "    'n_estimators': 69,\n",
        "    'min_samples_split': 3,\n",
        "    'min_samples_leaf': 1,\n",
        "    'max_samples': 0.500144539240563,\n",
        "    'max_depth': 16,\n",
        "    'bootstrap': True\n",
        "}\n",
        "\n",
        "pipeline = Pipeline([\n",
        "    ('minmaxscaler', MinMaxScaler(feature_range=(0, 1))),\n",
        "    ('pca', PCA(n_components=0.99)),\n",
        "    ('rfc', RandomForestClassifier(**parameters, n_jobs=-1))\n",
        "])\n",
        "\n",
        "pipeline.fit(X_test, y_test)\n",
        "\n",
        "# Generate learning curve data\n",
        "train_sizes, train_scores, test_scores = learning_curve(\n",
        "    pipeline, X_train, y_train, cv=StratifiedKFold(n_splits=5), scoring='roc_auc', n_jobs=-1)\n",
        "\n",
        "# Calculate mean and standard deviation for training and test scores\n",
        "train_scores_mean = np.mean(train_scores, axis=1)\n",
        "train_scores_std = np.std(train_scores, axis=1)\n",
        "test_scores_mean = np.mean(test_scores, axis=1)\n",
        "test_scores_std = np.std(test_scores, axis=1)\n",
        "\n",
        "# Plot the learning curve\n",
        "plt.figure()\n",
        "plt.title(\"Learning Curve\")\n",
        "plt.xlabel(\"Training examples\")\n",
        "plt.ylabel(\"Score\")\n",
        "plt.grid()\n",
        "\n",
        "# Plot the mean and standard deviation for training and test scores\n",
        "plt.fill_between(train_sizes, train_scores_mean - train_scores_std,\n",
        "                 train_scores_mean + train_scores_std, alpha=0.1, color=\"r\")\n",
        "plt.fill_between(train_sizes, test_scores_mean - test_scores_std,\n",
        "                 test_scores_mean + test_scores_std, alpha=0.1, color=\"g\")\n",
        "plt.plot(train_sizes, train_scores_mean, 'o-', color=\"r\", label=\"Training score\")\n",
        "plt.plot(train_sizes, test_scores_mean, 'o-', color=\"g\", label=\"Cross-validation score\")\n",
        "plt.ylim(0.3, 1.05)\n",
        "plt.legend(loc=\"best\")\n",
        "plt.show()"
      ],
      "metadata": {
        "id": "HCrdVek2N2n3"
      },
      "execution_count": null,
      "outputs": []
    }
  ],
  "metadata": {
    "kernelspec": {
      "display_name": "base",
      "language": "python",
      "name": "python3"
    },
    "language_info": {
      "codemirror_mode": {
        "name": "ipython",
        "version": 3
      },
      "file_extension": ".py",
      "mimetype": "text/x-python",
      "name": "python",
      "nbconvert_exporter": "python",
      "pygments_lexer": "ipython3",
      "version": "3.12.2"
    },
    "colab": {
      "provenance": []
    }
  },
  "nbformat": 4,
  "nbformat_minor": 0
}