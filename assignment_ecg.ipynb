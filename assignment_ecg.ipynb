{
  "cells": [
    {
      "cell_type": "markdown",
      "metadata": {
        "id": "7SXpaKwwGe5x"
      },
      "source": [
        "# TM10007 Assignment template -- ECG data"
      ]
    },
    {
      "cell_type": "markdown",
      "metadata": {
        "id": "E528Yh1i4RWg"
      },
      "source": [
        "## Data loading and cleaning\n",
        "\n",
        "Below are functions to load the dataset of your choice. After that, it is all up to you to create and evaluate a classification method. Beware, there may be missing values in these datasets. Good luck!"
      ]
    },
    {
      "cell_type": "code",
      "source": [
        "# Run this to use from Colab environment\n",
        "!git clone https://github.com/jveenland/tm10007_ml.git\n",
        "\n",
        "import zipfile\n",
        "import os\n",
        "import pandas as pd\n",
        "import numpy as np\n",
        "import matplotlib.pyplot as plt\n",
        "from sklearn.svm import SVC\n",
        "from sklearn.preprocessing import RobustScaler\n",
        "from sklearn.model_selection import train_test_split\n",
        "from sklearn.metrics import accuracy_score\n",
        "from sklearn.feature_selection import SequentialFeatureSelector\n",
        "\n",
        "# Extract dataset\n",
        "with zipfile.ZipFile('/content/tm10007_ml/ecg/ecg_data.zip', 'r') as zip_ref:\n",
        "    zip_ref.extractall('/content/tm10007_ml/ecg')\n",
        "\n",
        "data = pd.read_csv('/content/tm10007_ml/ecg/ecg_data.csv', index_col=0)\n",
        "\n",
        "print(f'The number of samples: {len(data.index)}')\n",
        "print(f'The number of features: {len(data.columns) - 1}')  # Excluding label column\n",
        "\n",
        "# Extract features and labels\n",
        "X = data.iloc[:, :-1].values  # All columns except the last one\n",
        "y = data.iloc[:, -1].values   # Last column as labels\n",
        "\n",
        "# Variance calculation\n",
        "X_variances = X.var(axis=0)  # Calculate variance for each feature\n",
        "sorted_columns = pd.Series(X_variances).sort_values(ascending=False)  # Sort features by variance\n",
        "\n",
        "# Select the first 50% of the columns\n",
        "num_columns_to_select = round(len(sorted_columns) * 0.4)\n",
        "selected_columns = sorted_columns[:num_columns_to_select]\n",
        "\n",
        "# Reorder the columns in X based on the selected columns' indices\n",
        "X_selected = data.iloc[:, selected_columns.index].values\n",
        "\n",
        "# Scale the features\n",
        "scaler = RobustScaler(quantile_range=(30,70))\n",
        "X_scaled = scaler.fit_transform(X_selected)\n",
        "\n",
        "# Split into training (80%) and testing (20%)\n",
        "X_train, X_test, y_train, y_test = train_test_split(X_scaled, y, test_size=0.2, random_state=42)\n",
        "\n",
        "# Forward Feature Selection using SVM as estimator\n",
        "svm = SVC(kernel='rbf', gamma='scale')\n",
        "sfs = SequentialFeatureSelector(svm, n_features_to_select=900, direction='forward', cv=5)\n",
        "X_train_selected = sfs.fit_transform(X_train, y_train)\n",
        "X_test_selected = sfs.transform(X_test)\n",
        "\n",
        "print(\"Selected features:\", selected_columns.index[sfs.get_support()])\n",
        "\n",
        "# Define SVM hyperparameters\n",
        "#degrees = [1, 3]\n",
        "#coef0s = [0.01, 0.3]\n",
        "#slacks = [0.01, 0.3]\n",
        "\n",
        "# Train and evaluate SVM models with different hyperparameters\n",
        "#best_model = None\n",
        "#best_test_acc = 0\n",
        "\n",
        "#print(\"\\nEvaluating SVM models with different hyperparameters:\")\n",
        "#print(\"-\" * 60)\n",
        "#for degree in degrees:\n",
        "#    for coef0 in coef0s:\n",
        "#        for slack in slacks:\n",
        "#            clf = SVC(kernel='poly', degree=degree, coef0=coef0, C=slack, gamma='scale')\n",
        "#            clf.fit(X_train, y_train)\n",
        "\n",
        "#            y_train_pred = clf.predict(X_train)\n",
        "#            y_test_pred = clf.predict(X_test)\n",
        "\n",
        "#            train_acc = accuracy_score(y_train, y_train_pred)\n",
        "#            test_acc = accuracy_score(y_test, y_test_pred)\n",
        "\n",
        "#            print(f\"Degree: {degree}, Coef0: {coef0}, C: {slack}\")\n",
        "#            print(f\"  Training Accuracy: {train_acc:.4f}\")\n",
        "#            print(f\"  Testing Accuracy: {test_acc:.4f}\")\n",
        "#            print(\"-\" * 60)\n",
        "\n",
        "#            # Track best model\n",
        "#            if test_acc > best_test_acc:\n",
        "#                best_test_acc = test_acc\n",
        "#                best_model = clf\n",
        "\n",
        "# Display the best performing model\n",
        "#print(\"\\nBest Model:\")\n",
        "#print(f\"Degree: {best_model.degree}, Coef0: {best_model.coef0}, C: {best_model.C}\")\n",
        "#print(f\"Best Testing Accuracy: {best_test_acc:.4f}\")\n"
      ],
      "metadata": {
        "id": "xai9DpmN5agD",
        "outputId": "1a0e8d99-e086-486b-a99f-62d06f67b82b",
        "colab": {
          "base_uri": "https://localhost:8080/"
        }
      },
      "execution_count": null,
      "outputs": [
        {
          "output_type": "stream",
          "name": "stdout",
          "text": [
            "fatal: destination path 'tm10007_ml' already exists and is not an empty directory.\n",
            "The number of samples: 827\n",
            "The number of features: 9000\n"
          ]
        }
      ]
    }
  ],
  "metadata": {
    "colab": {
      "name": "assignment.ipynb",
      "provenance": []
    },
    "kernelspec": {
      "display_name": "Python 3",
      "language": "python",
      "name": "python3"
    },
    "language_info": {
      "codemirror_mode": {
        "name": "ipython",
        "version": 3
      },
      "file_extension": ".py",
      "mimetype": "text/x-python",
      "name": "python",
      "nbconvert_exporter": "python",
      "pygments_lexer": "ipython3",
      "version": "3.8.5"
    }
  },
  "nbformat": 4,
  "nbformat_minor": 0
}