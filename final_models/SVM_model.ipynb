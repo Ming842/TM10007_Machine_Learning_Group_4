{
 "cells": [
  {
   "cell_type": "code",
   "execution_count": null,
   "id": "6e512183",
   "metadata": {},
   "outputs": [],
   "source": [
    "import os\n",
    "import random\n",
    "import pickle\n",
    "\n",
    "import numpy as np\n",
    "import pandas as pd\n",
    "from tqdm import tqdm\n",
    "\n",
    "from sklearn.pipeline import Pipeline\n",
    "from sklearn.model_selection import train_test_split, GridSearchCV, StratifiedKFold\n",
    "from sklearn.neighbors import KNeighborsClassifier\n",
    "from sklearn.metrics import confusion_matrix, roc_auc_score, accuracy_score, f1_score, precision_recall_curve, auc as pr_auc, make_scorer\n",
    "from sklearn.decomposition import PCA\n",
    "\n",
    "from sklearn.preprocessing import MinMaxScaler\n",
    "import matplotlib.pyplot as plt\n",
    "from sklearn.model_selection import learning_curve\n",
    "from sklearn.svm import SVC"
   ]
  },
  {
   "cell_type": "code",
   "execution_count": 2,
   "id": "58fdc07d",
   "metadata": {},
   "outputs": [],
   "source": [
    "# Load data\n",
    "data_path = r'E:\\OneDrive\\School\\Technical Medicine\\TM Jaar 1\\Machine learning\\TM10007_Machine_Learning_Group_4\\TM\\ecg_data.csv'\n",
    "data = pd.read_csv(data_path, index_col=0)\n",
    "\n",
    "# Splitting features and labels\n",
    "x = data.iloc[:, :-1].values\n",
    "y = data.iloc[:, -1].values"
   ]
  },
  {
   "cell_type": "code",
   "execution_count": 15,
   "id": "00aeecd0",
   "metadata": {},
   "outputs": [
    {
     "name": "stdout",
     "output_type": "stream",
     "text": [
      "Mode of svc__C: 25.152341288668936\n",
      "Mode of svc__gamma: 0.0011607092785083\n",
      "Mode of svc__class_weight: balanced\n",
      "Mode of svc__shrinking: False\n",
      "Mode of svc__tol: 0.0006731322632681\n",
      "\n",
      "\n"
     ]
    }
   ],
   "source": [
    "# Load data\n",
    "data_path_SVM = r'E:\\OneDrive\\School\\Technical Medicine\\TM Jaar 1\\Machine learning\\TM10007_Machine_Learning_Group_4\\TM\\TM10007_Machine_Learning_Group_4-1\\data\\SVM_Final.csv'\n",
    "\n",
    "SVM_metrics = pd.read_csv(data_path_SVM, index_col=0)\n",
    "\n",
    "\n",
    "def get_mode_parameters(metrics, parameters):\n",
    "    \"\"\"\n",
    "    Function to calculate the mode of specified parameters from the metrics DataFrame.\n",
    "\n",
    "    Args:\n",
    "        metrics (pd.DataFrame): DataFrame containing the metrics data.\n",
    "        parameters (list): List of parameter column names to calculate the mode for.\n",
    "\n",
    "    Returns:\n",
    "        dict: Dictionary with parameter names as keys and their mode as values.\n",
    "    \"\"\"\n",
    "    mode_values = {}\n",
    "    for param in parameters:\n",
    "        mode_values[param] = metrics[param].mode()[0]\n",
    "        print(f\"Mode of {param}:\", mode_values[param])\n",
    "\n",
    "    print(\"\\n\")\n",
    "    return mode_values\n",
    "\n",
    "# Example usage\n",
    "SVM_parameters= ['svc__C','svc__gamma','svc__class_weight','svc__shrinking','svc__tol']\n",
    "\n",
    "\n",
    "KNN_mode_values = get_mode_parameters(SVM_metrics, SVM_parameters)\n",
    "\n"
   ]
  },
  {
   "cell_type": "code",
   "execution_count": 13,
   "id": "5f6987f9",
   "metadata": {},
   "outputs": [
    {
     "data": {
      "image/png": "[encoded data removed]",
      "text/plain": [
       "<Figure size 640x480 with 1 Axes>"
      ]
     },
     "metadata": {},
     "output_type": "display_data"
    }
   ],
   "source": [
    "#prior split\n",
    "X_train, X_test, y_train, y_test = train_test_split(\n",
    "        x, y, test_size=0.2, stratify=y, shuffle=True, random_state=7)\n",
    "\n",
    "parameters = {\n",
    "    'C': 25.152341288668936,\n",
    "    'gamma': 0.0011607092785083,\n",
    "    'class_weight': 'balanced',\n",
    "    'shrinking': False,\n",
    "    'tol': 0.0006731322632681\n",
    "}\n",
    "\n",
    "pipeline = Pipeline([\n",
    "    ('minmaxscaler', MinMaxScaler(feature_range=(0, 1))),\n",
    "    ('pca', PCA(n_components=0.99)),\n",
    "    ('rfc', SVC(kernel='rbf', **parameters, probability=True))\n",
    "])\n",
    "\n",
    "pipeline.fit(X_test, y_test)\n",
    "def pr_auc_score(y_true, y_pred_proba):\n",
    "        precision, recall, _ = precision_recall_curve(y_true, y_pred_proba)\n",
    "        return pr_auc(recall, precision)\n",
    "pr_auc_scorer = make_scorer(pr_auc_score, needs_proba=True)\n",
    "\n",
    "# Generate learning curve data\n",
    "train_sizes, train_scores, test_scores = learning_curve(\n",
    "    pipeline, X_train, y_train, cv=StratifiedKFold(n_splits=7), scoring=pr_auc_scorer, n_jobs=-1)\n",
    "\n",
    "\n",
    "# Calculate mean and standard deviation for training and test scores\n",
    "train_scores_mean = np.mean(train_scores, axis=1)\n",
    "train_scores_std = np.std(train_scores, axis=1)\n",
    "test_scores_mean = np.mean(test_scores, axis=1)\n",
    "test_scores_std = np.std(test_scores, axis=1)\n",
    "\n",
    "# Plot the learning curve\n",
    "plt.figure()\n",
    "plt.title(\"Learning Curve\")\n",
    "plt.xlabel(\"Training examples\")\n",
    "plt.ylabel(\"Score\")\n",
    "plt.grid()\n",
    "\n",
    "# Plot the mean and standard deviation for training and test scores\n",
    "plt.fill_between(train_sizes, train_scores_mean - train_scores_std,\n",
    "                 train_scores_mean + train_scores_std, alpha=0.1, color=\"r\")\n",
    "plt.fill_between(train_sizes, test_scores_mean - test_scores_std,\n",
    "                 test_scores_mean + test_scores_std, alpha=0.1, color=\"g\")\n",
    "plt.plot(train_sizes, train_scores_mean, 'o-', color=\"r\", label=\"Training score\")\n",
    "plt.plot(train_sizes, test_scores_mean, 'o-', color=\"g\", label=\"Cross-validation score\")\n",
    "plt.ylim(0.3, 1.05)\n",
    "plt.legend(loc=\"best\")\n",
    "plt.show()"
   ]
  }
 ],
 "metadata": {
  "kernelspec": {
   "display_name": "base",
   "language": "python",
   "name": "python3"
  },
  "language_info": {
   "codemirror_mode": {
    "name": "ipython",
    "version": 3
   },
   "file_extension": ".py",
   "mimetype": "text/x-python",
   "name": "python",
   "nbconvert_exporter": "python",
   "pygments_lexer": "ipython3",
   "version": "3.11.7"
  }
 },
 "nbformat": 4,
 "nbformat_minor": 5
}
