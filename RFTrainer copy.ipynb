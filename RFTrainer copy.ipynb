{
 "cells": [
  {
   "cell_type": "markdown",
   "id": "40db1b76",
   "metadata": {},
   "source": [
    "#### Import needed modules"
   ]
  },
  {
   "cell_type": "code",
   "execution_count": null,
   "id": "b4219410",
   "metadata": {},
   "outputs": [],
   "source": [
    "import os\n",
    "import random\n",
    "\n",
    "import pickle as pickle\n",
    "import numpy as np\n",
    "import pandas as pd\n",
    "from tqdm import tqdm\n",
    "\n",
    "from sklearn.pipeline import Pipeline\n",
    "from sklearn.model_selection import train_test_split, GridSearchCV, StratifiedKFold\n",
    "from sklearn.neighbors import KNeighborsClassifier\n",
    "from sklearn.metrics import confusion_matrix, roc_auc_score, accuracy_score, f1_score, precision_recall_curve, auc\n",
    "from sklearn.decomposition import PCA\n",
    "from sklearn.preprocessing import RobustScaler\n",
    "import matplotlib.pyplot as plt\n"
   ]
  },
  {
   "cell_type": "markdown",
   "id": "4ba08355",
   "metadata": {},
   "source": []
  },
  {
   "cell_type": "markdown",
   "id": "62d80fd9",
   "metadata": {},
   "source": [
    "#### Load all available ecg data"
   ]
  },
  {
   "cell_type": "code",
   "execution_count": 4,
   "id": "5fd6eabb",
   "metadata": {},
   "outputs": [],
   "source": [
    "# Load data\n",
    "data_path = r'E:\\OneDrive\\School\\Technical Medicine\\TM Jaar 1\\Machine learning\\TM10007_Machine_Learning_Group_4\\TM\\ecg_data.csv'\n",
    "data = pd.read_csv(data_path, index_col=0)\n",
    "\n",
    "# Splitting features and labels\n",
    "x = data.iloc[:, :-1].values\n",
    "y = data.iloc[:, -1].values"
   ]
  },
  {
   "cell_type": "code",
   "execution_count": null,
   "id": "7626566e",
   "metadata": {},
   "outputs": [
    {
     "name": "stderr",
     "output_type": "stream",
     "text": [
      "Outer Loop:   5%|▌         | 1/20 [00:04<01:21,  4.29s/it]"
     ]
    },
    {
     "name": "stdout",
     "output_type": "stream",
     "text": [
      "\n",
      "Outer 0 -> Best Hyperparameters: {'knn__algorithm': 'auto', 'knn__metric': 'euclidean', 'knn__n_neighbors': 11, 'knn__weights': 'uniform', 'auc': 0.541278630757614, 'f1': 0.1212121212121212, 'sensitivity': 0.06896551724137931, 'specificity': 0.9854014598540146, 'accuracy': 0.8253012048192772}\n",
      "\n",
      "Best parameters saved to e:\\OneDrive\\School\\Technical Medicine\\TM Jaar 1\\Machine learning\\TM10007_Machine_Learning_Group_4\\TM\\TM10007_Machine_Learning_Group_4-1\\best_hyperparameters_short.csv after Outer 0 completion\n",
      "\n",
      "Precision-recall data saved to e:\\OneDrive\\School\\Technical Medicine\\TM Jaar 1\\Machine learning\\TM10007_Machine_Learning_Group_4\\TM\\TM10007_Machine_Learning_Group_4-1\\precision_recall_data.pkl after Outer 0 completion\n"
     ]
    }
   ],
   "source": [
    "outer = range(0,20)\n",
    "\n",
    "best_params_dict = {}\n",
    "best_model_dict = {}\n",
    "\n",
    "# Initialize variables to store precision-recall data\n",
    "precision_list = []\n",
    "recall_list = []\n",
    "auc_list = []\n",
    "\n",
    "for outer_rand in tqdm(outer, desc='Outer Loop'):\n",
    "    # Split data into outer folds\n",
    "    X_train_outer, X_test_outer, y_train_outer, y_test_outer = train_test_split(\n",
    "            x, y, test_size=0.2, stratify=y, shuffle=True, random_state=outer_rand)\n",
    "    \n",
    "    # Scale features\n",
    "    scaler = RobustScaler(quantile_range=(25, 75))\n",
    "    X_train_outer = scaler.fit_transform(X_train_outer)     \n",
    "    X_test_outer = scaler.transform(X_test_outer)\n",
    "    \n",
    "    # Apply PCA\n",
    "    pca = PCA(n_components=0.95)  # Keep 95% variance\n",
    "    X_train_outer = pca.fit_transform(X_train_outer)\n",
    "    X_test_outer = pca.transform(X_test_outer)\n",
    "\n",
    "\n",
    "\n",
    "\n",
    "    # Create a pipeline with scaling, PCA, and KNeighborsClassifier\n",
    "    # FIXED: Use the same name without hyphens in both pipeline and param grid\n",
    "    param_grid_knn = {\n",
    "        'knn__n_neighbors': list(range(3, 25)),  # Iterate over k from 3 to 24\n",
    "        'knn__weights': ['uniform', 'distance'],\n",
    "        'knn__metric': ['euclidean', 'manhattan'],\n",
    "        'knn__algorithm': ['auto', 'ball_tree', 'kd_tree', 'brute'],\n",
    "    }\n",
    "\n",
    "    pipeline = Pipeline([\n",
    "        ('knn', KNeighborsClassifier())  # FIXED: Changed 'K-NN' to 'knn'\n",
    "    ])\n",
    "\n",
    "    # For classification problems to maintain class distribution\n",
    "    cv_inner = StratifiedKFold(n_splits=7, shuffle=True, random_state=42)\n",
    "        \n",
    "    random_search = GridSearchCV(\n",
    "        estimator=pipeline,\n",
    "        param_grid=param_grid_knn,\n",
    "        scoring='roc_auc',\n",
    "        cv=cv_inner,\n",
    "        n_jobs=-1\n",
    "    )\n",
    "\n",
    "    random_search.fit(X_train_outer, y_train_outer)\n",
    "\n",
    "    best_params = random_search.best_params_\n",
    "    best_params_dict[f\"Outer {outer_rand}\"] = best_params\n",
    "    best_model_dict[f\"Outer {outer_rand}\"] = random_search.best_estimator_\n",
    "    y_pred = best_model_dict[f\"Outer {outer_rand}\"].predict(X_test_outer)\n",
    "    tn, fp, fn, tp = confusion_matrix(y_test_outer, y_pred).ravel()\n",
    "\n",
    "    # Calculate metrics\n",
    "    sensitivity = tp / (tp + fn) if (tp + fn) > 0 else 0\n",
    "    specificity = tn / (tn + fp) if (tn + fp) > 0 else 0\n",
    "    y_pred_proba = best_model_dict[f\"Outer {outer_rand}\"].predict_proba(X_test_outer)[:, 1]\n",
    "    auc_score = roc_auc_score(y_test_outer, y_pred_proba)\n",
    "    f1 = f1_score(y_test_outer, y_pred)\n",
    "    accuracy = accuracy_score(y_test_outer, y_pred)\n",
    "    \n",
    "    # precision recall curve\n",
    "    precision, recall, _ = precision_recall_curve(y_test_outer, y_pred_proba)\n",
    "    precision_list.append(precision)\n",
    "    recall_list.append(recall)\n",
    "    auc_list.append(auc(recall, precision))\n",
    "\n",
    "    best_params_dict[f\"Outer {outer_rand}\"]['auc'] = auc_score\n",
    "    best_params_dict[f\"Outer {outer_rand}\"]['f1'] = f1\n",
    "    best_params_dict[f\"Outer {outer_rand}\"]['sensitivity'] = sensitivity\n",
    "    best_params_dict[f\"Outer {outer_rand}\"]['specificity'] = specificity\n",
    "    best_params_dict[f\"Outer {outer_rand}\"]['accuracy'] = accuracy\n",
    "    \n",
    "\n",
    "    print(f\"\\nOuter {outer_rand} -> Best Hyperparameters: {best_params}\")\n",
    "\n",
    "    # Save results\n",
    "    results_df = pd.DataFrame.from_dict(best_params_dict, orient='index')\n",
    "    results_csv_path = os.path.join(os.getcwd(), 'best_hyperparameters_short.csv')\n",
    "    results_df.to_csv(results_csv_path)\n",
    "    print(f\"\\nBest parameters saved to {results_csv_path} after Outer {outer_rand} completion\")\n",
    "\n",
    "    # Save precision-recall data\n",
    "    pr_data = {\n",
    "        \"precision_list\": precision_list,\n",
    "        \"recall_list\": recall_list,\n",
    "        \"auc_list\": auc_list\n",
    "    }\n",
    "    pr_data_path = os.path.join(os.getcwd(), 'precision_recall_data.pkl')\n",
    "    with open(pr_data_path, 'wb') as f:\n",
    "        pickle.dump(pr_data, f)\n",
    "    print(f\"\\nPrecision-recall data saved to {pr_data_path} after Outer {outer_rand} completion\")\n",
    "\n"
   ]
  },
  {
   "cell_type": "code",
   "execution_count": 11,
   "id": "4af10b86",
   "metadata": {},
   "outputs": [
    {
     "data": {
      "image/png": "[encoded data removed]",
      "text/plain": [
       "<Figure size 800x600 with 1 Axes>"
      ]
     },
     "metadata": {},
     "output_type": "display_data"
    }
   ],
   "source": [
    "# Load precision-recall data from pickle file\n",
    "pr_data_path = os.path.join(os.getcwd(), 'precision_recall_data.pkl')\n",
    "with open(pr_data_path, 'rb') as f:\n",
    "    pr_data = pickle.load(f)\n",
    "\n",
    "# Extract precision, recall, and AUC lists\n",
    "precision_list = pr_data[\"precision_list\"]\n",
    "recall_list = pr_data[\"recall_list\"]\n",
    "auc_list = pr_data[\"auc_list\"]\n",
    "\n",
    "# Calculate mean and standard deviation for precision-recall curves\n",
    "mean_recall = np.linspace(0, 1, 100)\n",
    "interp_precisions = []\n",
    "\n",
    "for precision, recall in zip(precision_list, recall_list):\n",
    "    # Sort recall and precision in increasing recall order\n",
    "    order = np.argsort(recall)\n",
    "    recall_sorted = recall[order]\n",
    "    precision_sorted = precision[order]\n",
    "    \n",
    "    # Interpolate precision as a function of recall\n",
    "    interp_precision = np.interp(mean_recall, recall_sorted, precision_sorted, left=1.0, right=0.0)\n",
    "    interp_precisions.append(interp_precision)\n",
    "\n",
    "# Calculate mean and std of precision at each recall level\n",
    "mean_precision = np.mean(interp_precisions, axis=0)\n",
    "std_precision = np.std(interp_precisions, axis=0)\n",
    "\n",
    "# Plot the precision-recall curve\n",
    "plt.figure(figsize=(8, 6))\n",
    "plt.plot(mean_recall, mean_precision, label=f\"Mean PR Curve (AUC = {np.mean(auc_list):.2f})\", color='b')\n",
    "plt.fill_between(mean_recall, mean_precision - std_precision, mean_precision + std_precision, color='b', alpha=0.2, label=\"±1 Std. Dev.\")\n",
    "plt.xlabel(\"Recall\")\n",
    "plt.ylabel(\"Precision\")\n",
    "plt.xlim([0.0, 1.0])\n",
    "plt.ylim([0.0, 1.05])\n",
    "plt.legend(loc=\"lower left\")\n",
    "plt.grid()\n",
    "plt.show()"
   ]
  }
 ],
 "metadata": {
  "kernelspec": {
   "display_name": "base",
   "language": "python",
   "name": "python3"
  },
  "language_info": {
   "codemirror_mode": {
    "name": "ipython",
    "version": 3
   },
   "file_extension": ".py",
   "mimetype": "text/x-python",
   "name": "python",
   "nbconvert_exporter": "python",
   "pygments_lexer": "ipython3",
   "version": "3.11.7"
  }
 },
 "nbformat": 4,
 "nbformat_minor": 5
}
