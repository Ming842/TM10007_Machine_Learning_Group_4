{
 "cells": [
  {
   "cell_type": "code",
   "execution_count": null,
   "metadata": {},
   "outputs": [
    {
     "name": "stderr",
     "output_type": "stream",
     "text": [
      "Outer Loop:   0%|          | 0/5 [00:00<?, ?it/s]"
     ]
    },
    {
     "name": "stdout",
     "output_type": "stream",
     "text": [
      "\n",
      "Outer 0, Inner 0 -> Best Hyperparameters: {'n_estimators': 173, 'min_samples_split': 8, 'min_samples_leaf': 4, 'max_samples': 0.6160136651902284, 'max_depth': 22, 'bootstrap': True, 'auc': 0.5271834885476969, 'f1': 0.12121212121212122, 'sensitivity': 0.06896551724137931, 'specificity': 0.9854014598540146, 'accuracy': 0.8253012048192772}\n",
      "Test Set Accuracy: 0.8253\n"
     ]
    },
    {
     "name": "stderr",
     "output_type": "stream",
     "text": []
    },
    {
     "name": "stdout",
     "output_type": "stream",
     "text": [
      "\n",
      "Outer 0, Inner 1 -> Best Hyperparameters: {'n_estimators': 150, 'min_samples_split': 8, 'min_samples_leaf': 4, 'max_samples': 0.8470185682894085, 'max_depth': 12, 'bootstrap': True, 'auc': 0.5135917442738486, 'f1': 0.06451612903225806, 'sensitivity': 0.034482758620689655, 'specificity': 0.9927007299270073, 'accuracy': 0.8253012048192772}\n",
      "Test Set Accuracy: 0.8253\n"
     ]
    },
    {
     "name": "stderr",
     "output_type": "stream",
     "text": []
    },
    {
     "name": "stdout",
     "output_type": "stream",
     "text": [
      "\n",
      "Outer 0, Inner 2 -> Best Hyperparameters: {'n_estimators': 72, 'min_samples_split': 7, 'min_samples_leaf': 1, 'max_samples': 0.610830439318528, 'max_depth': 17, 'bootstrap': True, 'auc': 0.5062924742008559, 'f1': 0.06060606060606061, 'sensitivity': 0.034482758620689655, 'specificity': 0.9781021897810219, 'accuracy': 0.8132530120481928}\n",
      "Test Set Accuracy: 0.8133\n"
     ]
    },
    {
     "name": "stderr",
     "output_type": "stream",
     "text": []
    },
    {
     "name": "stdout",
     "output_type": "stream",
     "text": [
      "\n",
      "Outer 0, Inner 3 -> Best Hyperparameters: {'n_estimators': 74, 'min_samples_split': 8, 'min_samples_leaf': 3, 'max_samples': 0.7048787602831459, 'max_depth': 21, 'bootstrap': True, 'auc': 0.5308331235841933, 'f1': 0.125, 'sensitivity': 0.06896551724137931, 'specificity': 0.9927007299270073, 'accuracy': 0.8313253012048193}\n",
      "Test Set Accuracy: 0.8313\n"
     ]
    },
    {
     "name": "stderr",
     "output_type": "stream",
     "text": [
      "Inner Loop: 100%|██████████| 5/5 [01:18<00:00, 15.73s/it]\n",
      "Outer Loop:  20%|██        | 1/5 [01:18<05:14, 78.70s/it]"
     ]
    },
    {
     "name": "stdout",
     "output_type": "stream",
     "text": [
      "\n",
      "Outer 0, Inner 4 -> Best Hyperparameters: {'n_estimators': 175, 'min_samples_split': 2, 'min_samples_leaf': 2, 'max_samples': 0.8543691342930962, 'max_depth': 11, 'bootstrap': True, 'auc': 0.5308331235841933, 'f1': 0.125, 'sensitivity': 0.06896551724137931, 'specificity': 0.9927007299270073, 'accuracy': 0.8313253012048193}\n",
      "Test Set Accuracy: 0.8313\n",
      "\n",
      "Best parameters saved to e:\\OneDrive\\School\\Technical Medicine\\TM Jaar 1\\Machine learning\\TM10007_Machine_Learning_Group_4\\TM\\TM10007_Machine_Learning_Group_4-1\\best_hyperparameters.csv after Outer 0 completion\n"
     ]
    },
    {
     "name": "stderr",
     "output_type": "stream",
     "text": []
    },
    {
     "name": "stdout",
     "output_type": "stream",
     "text": [
      "\n",
      "Outer 1, Inner 0 -> Best Hyperparameters: {'n_estimators': 69, 'min_samples_split': 4, 'min_samples_leaf': 4, 'max_samples': 0.5609306166560242, 'max_depth': 1, 'bootstrap': True, 'auc': 0.5, 'f1': 0.0, 'sensitivity': 0.0, 'specificity': 1.0, 'accuracy': 0.8253012048192772}\n",
      "Test Set Accuracy: 0.8253\n"
     ]
    },
    {
     "name": "stderr",
     "output_type": "stream",
     "text": []
    },
    {
     "name": "stdout",
     "output_type": "stream",
     "text": [
      "\n",
      "Outer 1, Inner 1 -> Best Hyperparameters: {'n_estimators': 188, 'min_samples_split': 7, 'min_samples_leaf': 1, 'max_samples': 0.9041586730182516, 'max_depth': 2, 'bootstrap': True, 'auc': 0.5, 'f1': 0.0, 'sensitivity': 0.0, 'specificity': 1.0, 'accuracy': 0.8253012048192772}\n",
      "Test Set Accuracy: 0.8253\n"
     ]
    },
    {
     "name": "stderr",
     "output_type": "stream",
     "text": []
    },
    {
     "name": "stdout",
     "output_type": "stream",
     "text": [
      "\n",
      "Outer 1, Inner 2 -> Best Hyperparameters: {'n_estimators': 192, 'min_samples_split': 6, 'min_samples_leaf': 2, 'max_samples': 0.5926045728289887, 'max_depth': 21, 'bootstrap': True, 'auc': 0.5517241379310345, 'f1': 0.1875, 'sensitivity': 0.10344827586206896, 'specificity': 1.0, 'accuracy': 0.8433734939759037}\n",
      "Test Set Accuracy: 0.8434\n"
     ]
    },
    {
     "name": "stderr",
     "output_type": "stream",
     "text": []
    },
    {
     "name": "stdout",
     "output_type": "stream",
     "text": [
      "\n",
      "Outer 1, Inner 3 -> Best Hyperparameters: {'n_estimators': 148, 'min_samples_split': 6, 'min_samples_leaf': 3, 'max_samples': 0.8077955168994329, 'max_depth': 10, 'bootstrap': True, 'auc': 0.5344827586206896, 'f1': 0.12903225806451613, 'sensitivity': 0.06896551724137931, 'specificity': 1.0, 'accuracy': 0.8373493975903614}\n",
      "Test Set Accuracy: 0.8373\n"
     ]
    },
    {
     "name": "stderr",
     "output_type": "stream",
     "text": [
      "Inner Loop: 100%|██████████| 5/5 [01:04<00:00, 12.96s/it]\n",
      "Outer Loop:  40%|████      | 2/5 [02:23<03:31, 70.55s/it]"
     ]
    },
    {
     "name": "stdout",
     "output_type": "stream",
     "text": [
      "\n",
      "Outer 1, Inner 4 -> Best Hyperparameters: {'n_estimators': 175, 'min_samples_split': 2, 'min_samples_leaf': 2, 'max_samples': 0.947725229969246, 'max_depth': 28, 'bootstrap': True, 'auc': 0.5344827586206896, 'f1': 0.12903225806451613, 'sensitivity': 0.06896551724137931, 'specificity': 1.0, 'accuracy': 0.8373493975903614}\n",
      "Test Set Accuracy: 0.8373\n",
      "\n",
      "Best parameters saved to e:\\OneDrive\\School\\Technical Medicine\\TM Jaar 1\\Machine learning\\TM10007_Machine_Learning_Group_4\\TM\\TM10007_Machine_Learning_Group_4-1\\best_hyperparameters.csv after Outer 1 completion\n"
     ]
    },
    {
     "name": "stderr",
     "output_type": "stream",
     "text": []
    },
    {
     "name": "stdout",
     "output_type": "stream",
     "text": [
      "\n",
      "Outer 2, Inner 0 -> Best Hyperparameters: {'n_estimators': 76, 'min_samples_split': 5, 'min_samples_leaf': 2, 'max_samples': 0.825693657971359, 'max_depth': 25, 'bootstrap': True, 'auc': 0.5172413793103449, 'f1': 0.06666666666666667, 'sensitivity': 0.034482758620689655, 'specificity': 1.0, 'accuracy': 0.8313253012048193}\n",
      "Test Set Accuracy: 0.8313\n"
     ]
    },
    {
     "name": "stderr",
     "output_type": "stream",
     "text": []
    },
    {
     "name": "stdout",
     "output_type": "stream",
     "text": [
      "\n",
      "Outer 2, Inner 1 -> Best Hyperparameters: {'n_estimators': 94, 'min_samples_split': 4, 'min_samples_leaf': 3, 'max_samples': 0.5844085217192332, 'max_depth': 2, 'bootstrap': True, 'auc': 0.5, 'f1': 0.0, 'sensitivity': 0.0, 'specificity': 1.0, 'accuracy': 0.8253012048192772}\n",
      "Test Set Accuracy: 0.8253\n"
     ]
    },
    {
     "name": "stderr",
     "output_type": "stream",
     "text": []
    },
    {
     "name": "stdout",
     "output_type": "stream",
     "text": [
      "\n",
      "Outer 2, Inner 2 -> Best Hyperparameters: {'n_estimators': 158, 'min_samples_split': 9, 'min_samples_leaf': 1, 'max_samples': 0.8209581674086108, 'max_depth': 19, 'bootstrap': True, 'auc': 0.5308331235841933, 'f1': 0.125, 'sensitivity': 0.06896551724137931, 'specificity': 0.9927007299270073, 'accuracy': 0.8313253012048193}\n",
      "Test Set Accuracy: 0.8313\n"
     ]
    },
    {
     "name": "stderr",
     "output_type": "stream",
     "text": []
    },
    {
     "name": "stdout",
     "output_type": "stream",
     "text": [
      "\n",
      "Outer 2, Inner 3 -> Best Hyperparameters: {'n_estimators': 183, 'min_samples_split': 3, 'min_samples_leaf': 3, 'max_samples': 0.6520727280159915, 'max_depth': 23, 'bootstrap': True, 'auc': 0.5344827586206896, 'f1': 0.12903225806451613, 'sensitivity': 0.06896551724137931, 'specificity': 1.0, 'accuracy': 0.8373493975903614}\n",
      "Test Set Accuracy: 0.8373\n"
     ]
    },
    {
     "name": "stderr",
     "output_type": "stream",
     "text": [
      "Inner Loop: 100%|██████████| 5/5 [01:03<00:00, 12.75s/it]\n",
      "Outer Loop:  60%|██████    | 3/5 [03:27<02:14, 67.48s/it]"
     ]
    },
    {
     "name": "stdout",
     "output_type": "stream",
     "text": [
      "\n",
      "Outer 2, Inner 4 -> Best Hyperparameters: {'n_estimators': 191, 'min_samples_split': 10, 'min_samples_leaf': 4, 'max_samples': 0.7226877696702521, 'max_depth': 12, 'bootstrap': True, 'auc': 0.5344827586206896, 'f1': 0.12903225806451613, 'sensitivity': 0.06896551724137931, 'specificity': 1.0, 'accuracy': 0.8373493975903614}\n",
      "Test Set Accuracy: 0.8373\n",
      "\n",
      "Best parameters saved to e:\\OneDrive\\School\\Technical Medicine\\TM Jaar 1\\Machine learning\\TM10007_Machine_Learning_Group_4\\TM\\TM10007_Machine_Learning_Group_4-1\\best_hyperparameters.csv after Outer 2 completion\n"
     ]
    },
    {
     "name": "stderr",
     "output_type": "stream",
     "text": []
    },
    {
     "name": "stdout",
     "output_type": "stream",
     "text": [
      "\n",
      "Outer 3, Inner 0 -> Best Hyperparameters: {'n_estimators': 75, 'min_samples_split': 6, 'min_samples_leaf': 4, 'max_samples': 0.8007066877970783, 'max_depth': 15, 'bootstrap': True, 'auc': 0.5344827586206896, 'f1': 0.12903225806451613, 'sensitivity': 0.06896551724137931, 'specificity': 1.0, 'accuracy': 0.8373493975903614}\n",
      "Test Set Accuracy: 0.8373\n"
     ]
    },
    {
     "name": "stderr",
     "output_type": "stream",
     "text": []
    },
    {
     "name": "stdout",
     "output_type": "stream",
     "text": [
      "\n",
      "Outer 3, Inner 1 -> Best Hyperparameters: {'n_estimators': 186, 'min_samples_split': 10, 'min_samples_leaf': 4, 'max_samples': 0.6156543665851987, 'max_depth': 9, 'bootstrap': True, 'auc': 0.5172413793103449, 'f1': 0.06666666666666667, 'sensitivity': 0.034482758620689655, 'specificity': 1.0, 'accuracy': 0.8313253012048193}\n",
      "Test Set Accuracy: 0.8313\n"
     ]
    },
    {
     "name": "stderr",
     "output_type": "stream",
     "text": []
    },
    {
     "name": "stdout",
     "output_type": "stream",
     "text": [
      "\n",
      "Outer 3, Inner 2 -> Best Hyperparameters: {'n_estimators': 155, 'min_samples_split': 5, 'min_samples_leaf': 4, 'max_samples': 0.6642561569604244, 'max_depth': 3, 'bootstrap': True, 'auc': 0.5, 'f1': 0.0, 'sensitivity': 0.0, 'specificity': 1.0, 'accuracy': 0.8253012048192772}\n",
      "Test Set Accuracy: 0.8253\n"
     ]
    },
    {
     "name": "stderr",
     "output_type": "stream",
     "text": []
    },
    {
     "name": "stdout",
     "output_type": "stream",
     "text": [
      "\n",
      "Outer 3, Inner 3 -> Best Hyperparameters: {'n_estimators': 172, 'min_samples_split': 5, 'min_samples_leaf': 2, 'max_samples': 0.951523923759013, 'max_depth': 28, 'bootstrap': True, 'auc': 0.5517241379310345, 'f1': 0.1875, 'sensitivity': 0.10344827586206896, 'specificity': 1.0, 'accuracy': 0.8433734939759037}\n",
      "Test Set Accuracy: 0.8434\n"
     ]
    },
    {
     "name": "stderr",
     "output_type": "stream",
     "text": [
      "Inner Loop: 100%|██████████| 5/5 [01:12<00:00, 14.60s/it]\n",
      "Outer Loop:  80%|████████  | 4/5 [04:40<01:09, 69.67s/it]"
     ]
    },
    {
     "name": "stdout",
     "output_type": "stream",
     "text": [
      "\n",
      "Outer 3, Inner 4 -> Best Hyperparameters: {'n_estimators': 174, 'min_samples_split': 4, 'min_samples_leaf': 4, 'max_samples': 0.6145610160917565, 'max_depth': 26, 'bootstrap': True, 'auc': 0.5344827586206896, 'f1': 0.12903225806451613, 'sensitivity': 0.06896551724137931, 'specificity': 1.0, 'accuracy': 0.8373493975903614}\n",
      "Test Set Accuracy: 0.8373\n",
      "\n",
      "Best parameters saved to e:\\OneDrive\\School\\Technical Medicine\\TM Jaar 1\\Machine learning\\TM10007_Machine_Learning_Group_4\\TM\\TM10007_Machine_Learning_Group_4-1\\best_hyperparameters.csv after Outer 3 completion\n"
     ]
    },
    {
     "name": "stderr",
     "output_type": "stream",
     "text": []
    },
    {
     "name": "stdout",
     "output_type": "stream",
     "text": [
      "\n",
      "Outer 4, Inner 0 -> Best Hyperparameters: {'n_estimators': 158, 'min_samples_split': 3, 'min_samples_leaf': 3, 'max_samples': 0.9816142558114177, 'max_depth': 3, 'bootstrap': True, 'auc': 0.5172413793103449, 'f1': 0.06666666666666667, 'sensitivity': 0.034482758620689655, 'specificity': 1.0, 'accuracy': 0.8313253012048193}\n",
      "Test Set Accuracy: 0.8313\n"
     ]
    },
    {
     "name": "stderr",
     "output_type": "stream",
     "text": []
    },
    {
     "name": "stdout",
     "output_type": "stream",
     "text": [
      "\n",
      "Outer 4, Inner 1 -> Best Hyperparameters: {'n_estimators': 98, 'min_samples_split': 6, 'min_samples_leaf': 2, 'max_samples': 0.9679956887832186, 'max_depth': 10, 'bootstrap': True, 'auc': 0.5344827586206896, 'f1': 0.12903225806451613, 'sensitivity': 0.06896551724137931, 'specificity': 1.0, 'accuracy': 0.8373493975903614}\n",
      "Test Set Accuracy: 0.8373\n"
     ]
    },
    {
     "name": "stderr",
     "output_type": "stream",
     "text": []
    },
    {
     "name": "stdout",
     "output_type": "stream",
     "text": [
      "\n",
      "Outer 4, Inner 2 -> Best Hyperparameters: {'n_estimators': 155, 'min_samples_split': 10, 'min_samples_leaf': 2, 'max_samples': 0.9458282514735021, 'max_depth': 28, 'bootstrap': True, 'auc': 0.5517241379310345, 'f1': 0.1875, 'sensitivity': 0.10344827586206896, 'specificity': 1.0, 'accuracy': 0.8433734939759037}\n",
      "Test Set Accuracy: 0.8434\n"
     ]
    },
    {
     "name": "stderr",
     "output_type": "stream",
     "text": []
    },
    {
     "name": "stdout",
     "output_type": "stream",
     "text": [
      "\n",
      "Outer 4, Inner 3 -> Best Hyperparameters: {'n_estimators': 171, 'min_samples_split': 6, 'min_samples_leaf': 3, 'max_samples': 0.6086927995857327, 'max_depth': 22, 'bootstrap': True, 'auc': 0.5172413793103449, 'f1': 0.06666666666666667, 'sensitivity': 0.034482758620689655, 'specificity': 1.0, 'accuracy': 0.8313253012048193}\n",
      "Test Set Accuracy: 0.8313\n"
     ]
    },
    {
     "name": "stderr",
     "output_type": "stream",
     "text": [
      "Inner Loop: 100%|██████████| 5/5 [01:19<00:00, 15.82s/it]\n",
      "Outer Loop: 100%|██████████| 5/5 [05:59<00:00, 71.91s/it]"
     ]
    },
    {
     "name": "stdout",
     "output_type": "stream",
     "text": [
      "\n",
      "Outer 4, Inner 4 -> Best Hyperparameters: {'n_estimators': 113, 'min_samples_split': 6, 'min_samples_leaf': 4, 'max_samples': 0.9487066776178257, 'max_depth': 24, 'bootstrap': True, 'auc': 0.5172413793103449, 'f1': 0.06666666666666667, 'sensitivity': 0.034482758620689655, 'specificity': 1.0, 'accuracy': 0.8313253012048193}\n",
      "Test Set Accuracy: 0.8313\n",
      "\n",
      "Best parameters saved to e:\\OneDrive\\School\\Technical Medicine\\TM Jaar 1\\Machine learning\\TM10007_Machine_Learning_Group_4\\TM\\TM10007_Machine_Learning_Group_4-1\\best_hyperparameters.csv after Outer 4 completion\n",
      "\n",
      "Best Parameters Summary:\n",
      "Outer 0 - Inner 0: {'n_estimators': 173, 'min_samples_split': 8, 'min_samples_leaf': 4, 'max_samples': 0.6160136651902284, 'max_depth': 22, 'bootstrap': True, 'auc': 0.5271834885476969, 'f1': 0.12121212121212122, 'sensitivity': 0.06896551724137931, 'specificity': 0.9854014598540146, 'accuracy': 0.8253012048192772}\n",
      "Outer 0 - Inner 1: {'n_estimators': 150, 'min_samples_split': 8, 'min_samples_leaf': 4, 'max_samples': 0.8470185682894085, 'max_depth': 12, 'bootstrap': True, 'auc': 0.5135917442738486, 'f1': 0.06451612903225806, 'sensitivity': 0.034482758620689655, 'specificity': 0.9927007299270073, 'accuracy': 0.8253012048192772}\n",
      "Outer 0 - Inner 2: {'n_estimators': 72, 'min_samples_split': 7, 'min_samples_leaf': 1, 'max_samples': 0.610830439318528, 'max_depth': 17, 'bootstrap': True, 'auc': 0.5062924742008559, 'f1': 0.06060606060606061, 'sensitivity': 0.034482758620689655, 'specificity': 0.9781021897810219, 'accuracy': 0.8132530120481928}\n",
      "Outer 0 - Inner 3: {'n_estimators': 74, 'min_samples_split': 8, 'min_samples_leaf': 3, 'max_samples': 0.7048787602831459, 'max_depth': 21, 'bootstrap': True, 'auc': 0.5308331235841933, 'f1': 0.125, 'sensitivity': 0.06896551724137931, 'specificity': 0.9927007299270073, 'accuracy': 0.8313253012048193}\n",
      "Outer 0 - Inner 4: {'n_estimators': 175, 'min_samples_split': 2, 'min_samples_leaf': 2, 'max_samples': 0.8543691342930962, 'max_depth': 11, 'bootstrap': True, 'auc': 0.5308331235841933, 'f1': 0.125, 'sensitivity': 0.06896551724137931, 'specificity': 0.9927007299270073, 'accuracy': 0.8313253012048193}\n",
      "Outer 1 - Inner 0: {'n_estimators': 69, 'min_samples_split': 4, 'min_samples_leaf': 4, 'max_samples': 0.5609306166560242, 'max_depth': 1, 'bootstrap': True, 'auc': 0.5, 'f1': 0.0, 'sensitivity': 0.0, 'specificity': 1.0, 'accuracy': 0.8253012048192772}\n",
      "Outer 1 - Inner 1: {'n_estimators': 188, 'min_samples_split': 7, 'min_samples_leaf': 1, 'max_samples': 0.9041586730182516, 'max_depth': 2, 'bootstrap': True, 'auc': 0.5, 'f1': 0.0, 'sensitivity': 0.0, 'specificity': 1.0, 'accuracy': 0.8253012048192772}\n",
      "Outer 1 - Inner 2: {'n_estimators': 192, 'min_samples_split': 6, 'min_samples_leaf': 2, 'max_samples': 0.5926045728289887, 'max_depth': 21, 'bootstrap': True, 'auc': 0.5517241379310345, 'f1': 0.1875, 'sensitivity': 0.10344827586206896, 'specificity': 1.0, 'accuracy': 0.8433734939759037}\n",
      "Outer 1 - Inner 3: {'n_estimators': 148, 'min_samples_split': 6, 'min_samples_leaf': 3, 'max_samples': 0.8077955168994329, 'max_depth': 10, 'bootstrap': True, 'auc': 0.5344827586206896, 'f1': 0.12903225806451613, 'sensitivity': 0.06896551724137931, 'specificity': 1.0, 'accuracy': 0.8373493975903614}\n",
      "Outer 1 - Inner 4: {'n_estimators': 175, 'min_samples_split': 2, 'min_samples_leaf': 2, 'max_samples': 0.947725229969246, 'max_depth': 28, 'bootstrap': True, 'auc': 0.5344827586206896, 'f1': 0.12903225806451613, 'sensitivity': 0.06896551724137931, 'specificity': 1.0, 'accuracy': 0.8373493975903614}\n",
      "Outer 2 - Inner 0: {'n_estimators': 76, 'min_samples_split': 5, 'min_samples_leaf': 2, 'max_samples': 0.825693657971359, 'max_depth': 25, 'bootstrap': True, 'auc': 0.5172413793103449, 'f1': 0.06666666666666667, 'sensitivity': 0.034482758620689655, 'specificity': 1.0, 'accuracy': 0.8313253012048193}\n",
      "Outer 2 - Inner 1: {'n_estimators': 94, 'min_samples_split': 4, 'min_samples_leaf': 3, 'max_samples': 0.5844085217192332, 'max_depth': 2, 'bootstrap': True, 'auc': 0.5, 'f1': 0.0, 'sensitivity': 0.0, 'specificity': 1.0, 'accuracy': 0.8253012048192772}\n",
      "Outer 2 - Inner 2: {'n_estimators': 158, 'min_samples_split': 9, 'min_samples_leaf': 1, 'max_samples': 0.8209581674086108, 'max_depth': 19, 'bootstrap': True, 'auc': 0.5308331235841933, 'f1': 0.125, 'sensitivity': 0.06896551724137931, 'specificity': 0.9927007299270073, 'accuracy': 0.8313253012048193}\n",
      "Outer 2 - Inner 3: {'n_estimators': 183, 'min_samples_split': 3, 'min_samples_leaf': 3, 'max_samples': 0.6520727280159915, 'max_depth': 23, 'bootstrap': True, 'auc': 0.5344827586206896, 'f1': 0.12903225806451613, 'sensitivity': 0.06896551724137931, 'specificity': 1.0, 'accuracy': 0.8373493975903614}\n",
      "Outer 2 - Inner 4: {'n_estimators': 191, 'min_samples_split': 10, 'min_samples_leaf': 4, 'max_samples': 0.7226877696702521, 'max_depth': 12, 'bootstrap': True, 'auc': 0.5344827586206896, 'f1': 0.12903225806451613, 'sensitivity': 0.06896551724137931, 'specificity': 1.0, 'accuracy': 0.8373493975903614}\n",
      "Outer 3 - Inner 0: {'n_estimators': 75, 'min_samples_split': 6, 'min_samples_leaf': 4, 'max_samples': 0.8007066877970783, 'max_depth': 15, 'bootstrap': True, 'auc': 0.5344827586206896, 'f1': 0.12903225806451613, 'sensitivity': 0.06896551724137931, 'specificity': 1.0, 'accuracy': 0.8373493975903614}\n",
      "Outer 3 - Inner 1: {'n_estimators': 186, 'min_samples_split': 10, 'min_samples_leaf': 4, 'max_samples': 0.6156543665851987, 'max_depth': 9, 'bootstrap': True, 'auc': 0.5172413793103449, 'f1': 0.06666666666666667, 'sensitivity': 0.034482758620689655, 'specificity': 1.0, 'accuracy': 0.8313253012048193}\n",
      "Outer 3 - Inner 2: {'n_estimators': 155, 'min_samples_split': 5, 'min_samples_leaf': 4, 'max_samples': 0.6642561569604244, 'max_depth': 3, 'bootstrap': True, 'auc': 0.5, 'f1': 0.0, 'sensitivity': 0.0, 'specificity': 1.0, 'accuracy': 0.8253012048192772}\n",
      "Outer 3 - Inner 3: {'n_estimators': 172, 'min_samples_split': 5, 'min_samples_leaf': 2, 'max_samples': 0.951523923759013, 'max_depth': 28, 'bootstrap': True, 'auc': 0.5517241379310345, 'f1': 0.1875, 'sensitivity': 0.10344827586206896, 'specificity': 1.0, 'accuracy': 0.8433734939759037}\n",
      "Outer 3 - Inner 4: {'n_estimators': 174, 'min_samples_split': 4, 'min_samples_leaf': 4, 'max_samples': 0.6145610160917565, 'max_depth': 26, 'bootstrap': True, 'auc': 0.5344827586206896, 'f1': 0.12903225806451613, 'sensitivity': 0.06896551724137931, 'specificity': 1.0, 'accuracy': 0.8373493975903614}\n",
      "Outer 4 - Inner 0: {'n_estimators': 158, 'min_samples_split': 3, 'min_samples_leaf': 3, 'max_samples': 0.9816142558114177, 'max_depth': 3, 'bootstrap': True, 'auc': 0.5172413793103449, 'f1': 0.06666666666666667, 'sensitivity': 0.034482758620689655, 'specificity': 1.0, 'accuracy': 0.8313253012048193}\n",
      "Outer 4 - Inner 1: {'n_estimators': 98, 'min_samples_split': 6, 'min_samples_leaf': 2, 'max_samples': 0.9679956887832186, 'max_depth': 10, 'bootstrap': True, 'auc': 0.5344827586206896, 'f1': 0.12903225806451613, 'sensitivity': 0.06896551724137931, 'specificity': 1.0, 'accuracy': 0.8373493975903614}\n",
      "Outer 4 - Inner 2: {'n_estimators': 155, 'min_samples_split': 10, 'min_samples_leaf': 2, 'max_samples': 0.9458282514735021, 'max_depth': 28, 'bootstrap': True, 'auc': 0.5517241379310345, 'f1': 0.1875, 'sensitivity': 0.10344827586206896, 'specificity': 1.0, 'accuracy': 0.8433734939759037}\n",
      "Outer 4 - Inner 3: {'n_estimators': 171, 'min_samples_split': 6, 'min_samples_leaf': 3, 'max_samples': 0.6086927995857327, 'max_depth': 22, 'bootstrap': True, 'auc': 0.5172413793103449, 'f1': 0.06666666666666667, 'sensitivity': 0.034482758620689655, 'specificity': 1.0, 'accuracy': 0.8313253012048193}\n",
      "Outer 4 - Inner 4: {'n_estimators': 113, 'min_samples_split': 6, 'min_samples_leaf': 4, 'max_samples': 0.9487066776178257, 'max_depth': 24, 'bootstrap': True, 'auc': 0.5172413793103449, 'f1': 0.06666666666666667, 'sensitivity': 0.034482758620689655, 'specificity': 1.0, 'accuracy': 0.8313253012048193}\n"
     ]
    },
    {
     "name": "stderr",
     "output_type": "stream",
     "text": [
      "\n"
     ]
    }
   ],
   "source": [
    "import os\n",
    "import random\n",
    "import numpy as np\n",
    "import pandas as pd\n",
    "from tqdm import tqdm\n",
    "from sklearn.model_selection import train_test_split, RandomizedSearchCV\n",
    "from sklearn.ensemble import RandomForestClassifier\n",
    "from sklearn.metrics import accuracy_score\n",
    "import os\n",
    "import pandas as pd\n",
    "import random\n",
    "\n",
    "# Create the RFE object and compute a cross-validated score.\n",
    "from sklearn.svm import SVC\n",
    "\n",
    "from sklearn import svm\n",
    "from sklearn.impute import SimpleImputer\n",
    "from sklearn.feature_selection import RFECV, f_classif\n",
    "from sklearn.decomposition import PCA\n",
    "from imblearn.over_sampling import SMOTE\n",
    "from sklearn.model_selection import StratifiedShuffleSplit, GridSearchCV, StratifiedKFold, RandomizedSearchCV\n",
    "from sklearn.ensemble import RandomForestClassifier, VotingClassifier\n",
    "from sklearn.metrics import classification_report, confusion_matrix, roc_auc_score, accuracy_score, f1_score, precision_score, recall_score\n",
    "from xgboost import XGBClassifier\n",
    "from sklearn.model_selection import train_test_split\n",
    "from matplotlib import pyplot as plt\n",
    "\n",
    "# Load data\n",
    "data_path = r'E:\\OneDrive\\School\\Technical Medicine\\TM Jaar 1\\Machine learning\\TM10007_Machine_Learning_Group_4\\TM\\ecg_data.csv'\n",
    "data = pd.read_csv(data_path, index_col=0)\n",
    "\n",
    "# Splitting features and labels\n",
    "x = data.iloc[:, :-1].values  # Selecting all columns except last\n",
    "y = data.iloc[:, -1].values  # Selecting last column as labels\n",
    "\n",
    "# Define outer and inner loop random seeds\n",
    "outer = range(0, 5)  # Outer loop\n",
    "inner = range(0, 5)  # Inner loop\n",
    "\n",
    "best_params_list = {}\n",
    "\n",
    "# Outer loop for train-test split variations\n",
    "for outer_rand in tqdm(outer, desc='Outer Loop'):\n",
    "    X_train, X_test, y_train, y_test = train_test_split(\n",
    "        x, y, test_size=0.2, stratify=y, shuffle=True)\n",
    "        \n",
    "    \n",
    "\n",
    "    # Inner loop for hyperparameter tuning\n",
    "    for inner_rand in tqdm(inner, desc='Inner Loop', leave=True):\n",
    "        X_train_train, X_train_val, y_train_train, y_train_val = train_test_split(\n",
    "            X_train, y_train, test_size=0.15, stratify=y_train, shuffle=True)\n",
    "        \n",
    "        # Define the randomized parameter grid\n",
    "        param_grid_rf = {\n",
    "            'n_estimators': [random.randint(50, 200) for _ in range(3)],\n",
    "            'max_depth': [random.randint(5, 30) for _ in range(3)],\n",
    "            'min_samples_split': [random.randint(2, 10) for _ in range(3)],  # FIXED: Must be integer\n",
    "            'min_samples_leaf': [random.randint(1, 4) for _ in range(3)],  # FIXED: Avoid 0\n",
    "            'max_samples': [random.uniform(0.5, 1) for _ in range(3)],  # Adjusted range\n",
    "            'bootstrap': [True]  # Required for max_samples\n",
    "        }\n",
    "\n",
    "        # Randomized Search for efficiency\n",
    "        rf_model = RandomForestClassifier()\n",
    "        random_search = RandomizedSearchCV(\n",
    "            estimator=rf_model, \n",
    "            param_distributions=param_grid_rf, \n",
    "            scoring='roc_auc', \n",
    "            cv=5, \n",
    "            n_iter=10,\n",
    "            n_jobs=-1,  # Randomly sample 10 hyperparameter combinations\n",
    "        )\n",
    "\n",
    "        # Fit the search\n",
    "        random_search.fit(X_train_train, y_train_train)\n",
    "\n",
    "        # Best hyperparameters\n",
    "        best_params = random_search.best_params_\n",
    "        best_params_list[f\"Outer {outer_rand} - Inner {inner_rand}\"] = best_params\n",
    "\n",
    "        # Best model evaluation\n",
    "        best_model = random_search.best_estimator_\n",
    "        y_pred = best_model.predict(X_test)\n",
    "        # Calculate confusion matrix\n",
    "        tn, fp, fn, tp = confusion_matrix(y_test, y_pred).ravel()\n",
    "        \n",
    "        # Calculate sensitivity (true positive rate) and specificity (true negative rate)\n",
    "        sensitivity = tp / (tp + fn)  # True Positive Rate\n",
    "        specificity = tn / (tn + fp)  # True Negative Rate\n",
    "        # Calculate ROC AUC score\n",
    "        auc_score = roc_auc_score(y_test, y_pred)\n",
    "\n",
    "        # Calculate F1 score\n",
    "        f1 = f1_score(y_test, y_pred)\n",
    "\n",
    "        # Calculate accuracy\n",
    "        accuracy = accuracy_score(y_test, y_pred)\n",
    "        \n",
    "        # Store the metrics\n",
    "        best_params_list[f\"Outer {outer_rand} - Inner {inner_rand}\"]['auc'] = auc_score\n",
    "        best_params_list[f\"Outer {outer_rand} - Inner {inner_rand}\"]['f1'] = f1\n",
    "        best_params_list[f\"Outer {outer_rand} - Inner {inner_rand}\"]['sensitivity'] = sensitivity\n",
    "        best_params_list[f\"Outer {outer_rand} - Inner {inner_rand}\"]['specificity'] = specificity\n",
    "        best_params_list[f\"Outer {outer_rand} - Inner {inner_rand}\"]['accuracy'] = accuracy\n",
    "        print(f\"\\nOuter {outer_rand}, Inner {inner_rand} -> Best Hyperparameters: {best_params}\")\n",
    "        print(f\"Test Set Accuracy: {accuracy:.4f}\")\n",
    "    # Save file    \n",
    "    results_df = pd.DataFrame.from_dict(best_params_list, orient='index')\n",
    "    results_csv_path = os.path.join(os.getcwd(), 'best_hyperparameters.csv')\n",
    "    results_df.to_csv(results_csv_path)\n",
    "    print(f\"\\nBest parameters saved to {results_csv_path} after Outer {outer_rand} completion\")\n",
    "\n",
    "# Print all best parameters\n",
    "print(\"\\nBest Parameters Summary:\")\n",
    "for key, val in best_params_list.items():\n",
    "    print(f\"{key}: {val}\")"
   ]
  }
 ],
 "metadata": {
  "kernelspec": {
   "display_name": "Python 3",
   "language": "python",
   "name": "python3"
  },
  "language_info": {
   "codemirror_mode": {
    "name": "ipython",
    "version": 3
   },
   "file_extension": ".py",
   "mimetype": "text/x-python",
   "name": "python",
   "nbconvert_exporter": "python",
   "pygments_lexer": "ipython3",
   "version": "3.12.3"
  }
 },
 "nbformat": 4,
 "nbformat_minor": 2
}
