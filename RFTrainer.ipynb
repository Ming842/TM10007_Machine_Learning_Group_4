{
 "cells": [
  {
   "cell_type": "markdown",
   "id": "40db1b76",
   "metadata": {},
   "source": [
    "#### Import needed modules"
   ]
  },
  {
   "cell_type": "code",
   "execution_count": 4,
   "id": "b4219410",
   "metadata": {},
   "outputs": [],
   "source": [
    "import os\n",
    "import random\n",
    "\n",
    "import pickle as pickle\n",
    "import numpy as np\n",
    "import pandas as pd\n",
    "from tqdm import tqdm\n",
    "\n",
    "from sklearn.pipeline import Pipeline\n",
    "from sklearn.model_selection import train_test_split, RandomizedSearchCV, StratifiedKFold\n",
    "from sklearn.ensemble import RandomForestClassifier\n",
    "from sklearn.metrics import confusion_matrix, roc_auc_score, accuracy_score, f1_score, precision_recall_curve, auc\n",
    "from sklearn.decomposition import PCA\n",
    "from sklearn.preprocessing import MinMaxScaler\n",
    "import matplotlib.pyplot as plt\n"
   ]
  },
  {
   "cell_type": "markdown",
   "id": "4ba08355",
   "metadata": {},
   "source": []
  },
  {
   "cell_type": "markdown",
   "id": "62d80fd9",
   "metadata": {},
   "source": [
    "#### Load all available ecg data"
   ]
  },
  {
   "cell_type": "code",
   "execution_count": 6,
   "id": "5fd6eabb",
   "metadata": {},
   "outputs": [],
   "source": [
    "# Load data\n",
    "data_path = r'E:\\OneDrive\\School\\Technical Medicine\\TM Jaar 1\\Machine learning\\TM10007_Machine_Learning_Group_4\\TM\\ecg_data.csv'\n",
    "data = pd.read_csv(data_path, index_col=0)\n",
    "\n",
    "# Splitting features and labels\n",
    "x = data.iloc[:, :-1].values\n",
    "y = data.iloc[:, -1].values"
   ]
  },
  {
   "cell_type": "code",
   "execution_count": 9,
   "id": "7626566e",
   "metadata": {},
   "outputs": [
    {
     "name": "stderr",
     "output_type": "stream",
     "text": [
      "Outer Loop:   0%|          | 1/400 [03:20<22:11:05, 200.16s/it]"
     ]
    },
    {
     "name": "stdout",
     "output_type": "stream",
     "text": [
      "\n",
      "Outer 0 -> Best Hyperparameters: {'n_estimators': 113, 'min_samples_split': 9, 'min_samples_leaf': 4, 'max_samples': 0.8856944312782913, 'max_depth': 3, 'bootstrap': True, 'auc': 0.6838660961490058, 'f1': 0.125, 'sensitivity': 0.06896551724137931, 'specificity': 0.9927007299270073, 'accuracy': 0.8313253012048193}\n",
      "\n",
      "Best parameters saved to e:\\OneDrive\\School\\Technical Medicine\\TM Jaar 1\\Machine learning\\TM10007_Machine_Learning_Group_4\\TM\\TM10007_Machine_Learning_Group_4-1\\best_hyperparameters_short.csv after Outer 0 completion\n",
      "\n",
      "Precision-recall data saved to e:\\OneDrive\\School\\Technical Medicine\\TM Jaar 1\\Machine learning\\TM10007_Machine_Learning_Group_4\\TM\\TM10007_Machine_Learning_Group_4-1\\precision_recall_data.pkl after Outer 0 completion\n"
     ]
    },
    {
     "name": "stderr",
     "output_type": "stream",
     "text": [
      "Outer Loop:   0%|          | 2/400 [06:47<22:35:32, 204.35s/it]"
     ]
    },
    {
     "name": "stdout",
     "output_type": "stream",
     "text": [
      "\n",
      "Outer 1 -> Best Hyperparameters: {'n_estimators': 82, 'min_samples_split': 6, 'min_samples_leaf': 2, 'max_samples': 0.9951304752876684, 'max_depth': 5, 'bootstrap': True, 'auc': 0.7727158318650893, 'f1': 0.06666666666666667, 'sensitivity': 0.034482758620689655, 'specificity': 1.0, 'accuracy': 0.8313253012048193}\n",
      "\n",
      "Best parameters saved to e:\\OneDrive\\School\\Technical Medicine\\TM Jaar 1\\Machine learning\\TM10007_Machine_Learning_Group_4\\TM\\TM10007_Machine_Learning_Group_4-1\\best_hyperparameters_short.csv after Outer 1 completion\n",
      "\n",
      "Precision-recall data saved to e:\\OneDrive\\School\\Technical Medicine\\TM Jaar 1\\Machine learning\\TM10007_Machine_Learning_Group_4\\TM\\TM10007_Machine_Learning_Group_4-1\\precision_recall_data.pkl after Outer 1 completion\n"
     ]
    },
    {
     "name": "stderr",
     "output_type": "stream",
     "text": [
      "Outer Loop:   1%|          | 3/400 [11:06<25:16:22, 229.17s/it]"
     ]
    },
    {
     "name": "stdout",
     "output_type": "stream",
     "text": [
      "\n",
      "Outer 2 -> Best Hyperparameters: {'n_estimators': 193, 'min_samples_split': 2, 'min_samples_leaf': 4, 'max_samples': 0.9576200742756369, 'max_depth': 17, 'bootstrap': True, 'auc': 0.7314372011074755, 'f1': 0.12903225806451613, 'sensitivity': 0.06896551724137931, 'specificity': 1.0, 'accuracy': 0.8373493975903614}\n",
      "\n",
      "Best parameters saved to e:\\OneDrive\\School\\Technical Medicine\\TM Jaar 1\\Machine learning\\TM10007_Machine_Learning_Group_4\\TM\\TM10007_Machine_Learning_Group_4-1\\best_hyperparameters_short.csv after Outer 2 completion\n",
      "\n",
      "Precision-recall data saved to e:\\OneDrive\\School\\Technical Medicine\\TM Jaar 1\\Machine learning\\TM10007_Machine_Learning_Group_4\\TM\\TM10007_Machine_Learning_Group_4-1\\precision_recall_data.pkl after Outer 2 completion\n"
     ]
    },
    {
     "name": "stderr",
     "output_type": "stream",
     "text": [
      "Outer Loop:   1%|          | 4/400 [14:43<24:41:08, 224.41s/it]"
     ]
    },
    {
     "name": "stdout",
     "output_type": "stream",
     "text": [
      "\n",
      "Outer 3 -> Best Hyperparameters: {'n_estimators': 84, 'min_samples_split': 6, 'min_samples_leaf': 3, 'max_samples': 0.8802906563588141, 'max_depth': 2, 'bootstrap': True, 'auc': 0.7082808960483262, 'f1': 0.0, 'sensitivity': 0.0, 'specificity': 1.0, 'accuracy': 0.8253012048192772}\n",
      "\n",
      "Best parameters saved to e:\\OneDrive\\School\\Technical Medicine\\TM Jaar 1\\Machine learning\\TM10007_Machine_Learning_Group_4\\TM\\TM10007_Machine_Learning_Group_4-1\\best_hyperparameters_short.csv after Outer 3 completion\n",
      "\n",
      "Precision-recall data saved to e:\\OneDrive\\School\\Technical Medicine\\TM Jaar 1\\Machine learning\\TM10007_Machine_Learning_Group_4\\TM\\TM10007_Machine_Learning_Group_4-1\\precision_recall_data.pkl after Outer 3 completion\n"
     ]
    },
    {
     "name": "stderr",
     "output_type": "stream",
     "text": [
      "Outer Loop:   1%|▏         | 5/400 [18:58<25:50:59, 235.59s/it]"
     ]
    },
    {
     "name": "stdout",
     "output_type": "stream",
     "text": [
      "\n",
      "Outer 4 -> Best Hyperparameters: {'n_estimators': 200, 'min_samples_split': 7, 'min_samples_leaf': 1, 'max_samples': 0.8082259947472912, 'max_depth': 4, 'bootstrap': True, 'auc': 0.7175937578655927, 'f1': 0.06666666666666667, 'sensitivity': 0.034482758620689655, 'specificity': 1.0, 'accuracy': 0.8313253012048193}\n",
      "\n",
      "Best parameters saved to e:\\OneDrive\\School\\Technical Medicine\\TM Jaar 1\\Machine learning\\TM10007_Machine_Learning_Group_4\\TM\\TM10007_Machine_Learning_Group_4-1\\best_hyperparameters_short.csv after Outer 4 completion\n",
      "\n",
      "Precision-recall data saved to e:\\OneDrive\\School\\Technical Medicine\\TM Jaar 1\\Machine learning\\TM10007_Machine_Learning_Group_4\\TM\\TM10007_Machine_Learning_Group_4-1\\precision_recall_data.pkl after Outer 4 completion\n"
     ]
    },
    {
     "name": "stderr",
     "output_type": "stream",
     "text": [
      "Outer Loop:   2%|▏         | 6/400 [22:27<24:47:04, 226.46s/it]"
     ]
    },
    {
     "name": "stdout",
     "output_type": "stream",
     "text": [
      "\n",
      "Outer 5 -> Best Hyperparameters: {'n_estimators': 101, 'min_samples_split': 8, 'min_samples_leaf': 3, 'max_samples': 0.727369719767203, 'max_depth': 3, 'bootstrap': True, 'auc': 0.777749811225774, 'f1': 0.0, 'sensitivity': 0.0, 'specificity': 1.0, 'accuracy': 0.8253012048192772}\n",
      "\n",
      "Best parameters saved to e:\\OneDrive\\School\\Technical Medicine\\TM Jaar 1\\Machine learning\\TM10007_Machine_Learning_Group_4\\TM\\TM10007_Machine_Learning_Group_4-1\\best_hyperparameters_short.csv after Outer 5 completion\n",
      "\n",
      "Precision-recall data saved to e:\\OneDrive\\School\\Technical Medicine\\TM Jaar 1\\Machine learning\\TM10007_Machine_Learning_Group_4\\TM\\TM10007_Machine_Learning_Group_4-1\\precision_recall_data.pkl after Outer 5 completion\n"
     ]
    },
    {
     "name": "stderr",
     "output_type": "stream",
     "text": [
      "Outer Loop:   2%|▏         | 7/400 [26:22<25:01:30, 229.24s/it]"
     ]
    },
    {
     "name": "stdout",
     "output_type": "stream",
     "text": [
      "\n",
      "Outer 6 -> Best Hyperparameters: {'n_estimators': 167, 'min_samples_split': 10, 'min_samples_leaf': 3, 'max_samples': 0.7809840938170571, 'max_depth': 7, 'bootstrap': True, 'auc': 0.7349609866599547, 'f1': 0.06451612903225806, 'sensitivity': 0.034482758620689655, 'specificity': 0.9927007299270073, 'accuracy': 0.8253012048192772}\n",
      "\n",
      "Best parameters saved to e:\\OneDrive\\School\\Technical Medicine\\TM Jaar 1\\Machine learning\\TM10007_Machine_Learning_Group_4\\TM\\TM10007_Machine_Learning_Group_4-1\\best_hyperparameters_short.csv after Outer 6 completion\n",
      "\n",
      "Precision-recall data saved to e:\\OneDrive\\School\\Technical Medicine\\TM Jaar 1\\Machine learning\\TM10007_Machine_Learning_Group_4\\TM\\TM10007_Machine_Learning_Group_4-1\\precision_recall_data.pkl after Outer 6 completion\n"
     ]
    },
    {
     "name": "stderr",
     "output_type": "stream",
     "text": [
      "Outer Loop:   2%|▏         | 8/400 [30:26<25:27:49, 233.85s/it]"
     ]
    },
    {
     "name": "stdout",
     "output_type": "stream",
     "text": [
      "\n",
      "Outer 7 -> Best Hyperparameters: {'n_estimators': 185, 'min_samples_split': 6, 'min_samples_leaf': 1, 'max_samples': 0.9595771156788766, 'max_depth': 8, 'bootstrap': True, 'auc': 0.7440221495091871, 'f1': 0.0625, 'sensitivity': 0.034482758620689655, 'specificity': 0.9854014598540146, 'accuracy': 0.8192771084337349}\n",
      "\n",
      "Best parameters saved to e:\\OneDrive\\School\\Technical Medicine\\TM Jaar 1\\Machine learning\\TM10007_Machine_Learning_Group_4\\TM\\TM10007_Machine_Learning_Group_4-1\\best_hyperparameters_short.csv after Outer 7 completion\n",
      "\n",
      "Precision-recall data saved to e:\\OneDrive\\School\\Technical Medicine\\TM Jaar 1\\Machine learning\\TM10007_Machine_Learning_Group_4\\TM\\TM10007_Machine_Learning_Group_4-1\\precision_recall_data.pkl after Outer 7 completion\n"
     ]
    },
    {
     "name": "stderr",
     "output_type": "stream",
     "text": [
      "Outer Loop:   2%|▏         | 9/400 [33:28<23:39:40, 217.85s/it]"
     ]
    },
    {
     "name": "stdout",
     "output_type": "stream",
     "text": [
      "\n",
      "Outer 8 -> Best Hyperparameters: {'n_estimators': 84, 'min_samples_split': 2, 'min_samples_leaf': 3, 'max_samples': 0.908339724135974, 'max_depth': 3, 'bootstrap': True, 'auc': 0.766926755600302, 'f1': 0.12903225806451613, 'sensitivity': 0.06896551724137931, 'specificity': 1.0, 'accuracy': 0.8373493975903614}\n",
      "\n",
      "Best parameters saved to e:\\OneDrive\\School\\Technical Medicine\\TM Jaar 1\\Machine learning\\TM10007_Machine_Learning_Group_4\\TM\\TM10007_Machine_Learning_Group_4-1\\best_hyperparameters_short.csv after Outer 8 completion\n",
      "\n",
      "Precision-recall data saved to e:\\OneDrive\\School\\Technical Medicine\\TM Jaar 1\\Machine learning\\TM10007_Machine_Learning_Group_4\\TM\\TM10007_Machine_Learning_Group_4-1\\precision_recall_data.pkl after Outer 8 completion\n"
     ]
    },
    {
     "name": "stderr",
     "output_type": "stream",
     "text": [
      "Outer Loop:   2%|▎         | 10/400 [36:49<23:02:15, 212.65s/it]"
     ]
    },
    {
     "name": "stdout",
     "output_type": "stream",
     "text": [
      "\n",
      "Outer 9 -> Best Hyperparameters: {'n_estimators': 188, 'min_samples_split': 3, 'min_samples_leaf': 4, 'max_samples': 0.8069645305504767, 'max_depth': 9, 'bootstrap': True, 'auc': 0.8220488295997986, 'f1': 0.1875, 'sensitivity': 0.10344827586206896, 'specificity': 1.0, 'accuracy': 0.8433734939759037}\n",
      "\n",
      "Best parameters saved to e:\\OneDrive\\School\\Technical Medicine\\TM Jaar 1\\Machine learning\\TM10007_Machine_Learning_Group_4\\TM\\TM10007_Machine_Learning_Group_4-1\\best_hyperparameters_short.csv after Outer 9 completion\n",
      "\n",
      "Precision-recall data saved to e:\\OneDrive\\School\\Technical Medicine\\TM Jaar 1\\Machine learning\\TM10007_Machine_Learning_Group_4\\TM\\TM10007_Machine_Learning_Group_4-1\\precision_recall_data.pkl after Outer 9 completion\n"
     ]
    },
    {
     "name": "stderr",
     "output_type": "stream",
     "text": [
      "Outer Loop:   2%|▎         | 10/400 [40:26<26:17:05, 242.63s/it]\n"
     ]
    },
    {
     "ename": "KeyboardInterrupt",
     "evalue": "",
     "output_type": "error",
     "traceback": [
      "\u001b[1;31m---------------------------------------------------------------------------\u001b[0m",
      "\u001b[1;31mKeyboardInterrupt\u001b[0m                         Traceback (most recent call last)",
      "Cell \u001b[1;32mIn[9], line 49\u001b[0m\n\u001b[0;32m     38\u001b[0m cv_inner \u001b[38;5;241m=\u001b[39m StratifiedKFold(n_splits\u001b[38;5;241m=\u001b[39m\u001b[38;5;241m7\u001b[39m, shuffle\u001b[38;5;241m=\u001b[39m\u001b[38;5;28;01mTrue\u001b[39;00m, random_state\u001b[38;5;241m=\u001b[39m\u001b[38;5;241m7\u001b[39m)\n\u001b[0;32m     40\u001b[0m random_search \u001b[38;5;241m=\u001b[39m RandomizedSearchCV(\n\u001b[0;32m     41\u001b[0m     estimator\u001b[38;5;241m=\u001b[39mrf,\n\u001b[0;32m     42\u001b[0m     param_distributions\u001b[38;5;241m=\u001b[39mparam_grid_rf,\n\u001b[1;32m   (...)\u001b[0m\n\u001b[0;32m     46\u001b[0m     n_jobs\u001b[38;5;241m=\u001b[39m\u001b[38;5;241m-\u001b[39m\u001b[38;5;241m1\u001b[39m\n\u001b[0;32m     47\u001b[0m )\n\u001b[1;32m---> 49\u001b[0m random_search\u001b[38;5;241m.\u001b[39mfit(X_train_outer, y_train_outer)\n\u001b[0;32m     51\u001b[0m best_params \u001b[38;5;241m=\u001b[39m random_search\u001b[38;5;241m.\u001b[39mbest_params_\n\u001b[0;32m     52\u001b[0m best_params_dict[\u001b[38;5;124mf\u001b[39m\u001b[38;5;124m\"\u001b[39m\u001b[38;5;124mOuter \u001b[39m\u001b[38;5;132;01m{\u001b[39;00mouter_rand\u001b[38;5;132;01m}\u001b[39;00m\u001b[38;5;124m\"\u001b[39m] \u001b[38;5;241m=\u001b[39m best_params\n",
      "File \u001b[1;32mc:\\Users\\mdcal\\anaconda3\\Lib\\site-packages\\sklearn\\model_selection\\_search.py:874\u001b[0m, in \u001b[0;36mBaseSearchCV.fit\u001b[1;34m(self, X, y, groups, **fit_params)\u001b[0m\n\u001b[0;32m    868\u001b[0m     results \u001b[38;5;241m=\u001b[39m \u001b[38;5;28mself\u001b[39m\u001b[38;5;241m.\u001b[39m_format_results(\n\u001b[0;32m    869\u001b[0m         all_candidate_params, n_splits, all_out, all_more_results\n\u001b[0;32m    870\u001b[0m     )\n\u001b[0;32m    872\u001b[0m     \u001b[38;5;28;01mreturn\u001b[39;00m results\n\u001b[1;32m--> 874\u001b[0m \u001b[38;5;28mself\u001b[39m\u001b[38;5;241m.\u001b[39m_run_search(evaluate_candidates)\n\u001b[0;32m    876\u001b[0m \u001b[38;5;66;03m# multimetric is determined here because in the case of a callable\u001b[39;00m\n\u001b[0;32m    877\u001b[0m \u001b[38;5;66;03m# self.scoring the return type is only known after calling\u001b[39;00m\n\u001b[0;32m    878\u001b[0m first_test_score \u001b[38;5;241m=\u001b[39m all_out[\u001b[38;5;241m0\u001b[39m][\u001b[38;5;124m\"\u001b[39m\u001b[38;5;124mtest_scores\u001b[39m\u001b[38;5;124m\"\u001b[39m]\n",
      "File \u001b[1;32mc:\\Users\\mdcal\\anaconda3\\Lib\\site-packages\\sklearn\\model_selection\\_search.py:1768\u001b[0m, in \u001b[0;36mRandomizedSearchCV._run_search\u001b[1;34m(self, evaluate_candidates)\u001b[0m\n\u001b[0;32m   1766\u001b[0m \u001b[38;5;28;01mdef\u001b[39;00m \u001b[38;5;21m_run_search\u001b[39m(\u001b[38;5;28mself\u001b[39m, evaluate_candidates):\n\u001b[0;32m   1767\u001b[0m \u001b[38;5;250m    \u001b[39m\u001b[38;5;124;03m\"\"\"Search n_iter candidates from param_distributions\"\"\"\u001b[39;00m\n\u001b[1;32m-> 1768\u001b[0m     evaluate_candidates(\n\u001b[0;32m   1769\u001b[0m         ParameterSampler(\n\u001b[0;32m   1770\u001b[0m             \u001b[38;5;28mself\u001b[39m\u001b[38;5;241m.\u001b[39mparam_distributions, \u001b[38;5;28mself\u001b[39m\u001b[38;5;241m.\u001b[39mn_iter, random_state\u001b[38;5;241m=\u001b[39m\u001b[38;5;28mself\u001b[39m\u001b[38;5;241m.\u001b[39mrandom_state\n\u001b[0;32m   1771\u001b[0m         )\n\u001b[0;32m   1772\u001b[0m     )\n",
      "File \u001b[1;32mc:\\Users\\mdcal\\anaconda3\\Lib\\site-packages\\sklearn\\model_selection\\_search.py:821\u001b[0m, in \u001b[0;36mBaseSearchCV.fit.<locals>.evaluate_candidates\u001b[1;34m(candidate_params, cv, more_results)\u001b[0m\n\u001b[0;32m    813\u001b[0m \u001b[38;5;28;01mif\u001b[39;00m \u001b[38;5;28mself\u001b[39m\u001b[38;5;241m.\u001b[39mverbose \u001b[38;5;241m>\u001b[39m \u001b[38;5;241m0\u001b[39m:\n\u001b[0;32m    814\u001b[0m     \u001b[38;5;28mprint\u001b[39m(\n\u001b[0;32m    815\u001b[0m         \u001b[38;5;124m\"\u001b[39m\u001b[38;5;124mFitting \u001b[39m\u001b[38;5;132;01m{0}\u001b[39;00m\u001b[38;5;124m folds for each of \u001b[39m\u001b[38;5;132;01m{1}\u001b[39;00m\u001b[38;5;124m candidates,\u001b[39m\u001b[38;5;124m\"\u001b[39m\n\u001b[0;32m    816\u001b[0m         \u001b[38;5;124m\"\u001b[39m\u001b[38;5;124m totalling \u001b[39m\u001b[38;5;132;01m{2}\u001b[39;00m\u001b[38;5;124m fits\u001b[39m\u001b[38;5;124m\"\u001b[39m\u001b[38;5;241m.\u001b[39mformat(\n\u001b[0;32m    817\u001b[0m             n_splits, n_candidates, n_candidates \u001b[38;5;241m*\u001b[39m n_splits\n\u001b[0;32m    818\u001b[0m         )\n\u001b[0;32m    819\u001b[0m     )\n\u001b[1;32m--> 821\u001b[0m out \u001b[38;5;241m=\u001b[39m parallel(\n\u001b[0;32m    822\u001b[0m     delayed(_fit_and_score)(\n\u001b[0;32m    823\u001b[0m         clone(base_estimator),\n\u001b[0;32m    824\u001b[0m         X,\n\u001b[0;32m    825\u001b[0m         y,\n\u001b[0;32m    826\u001b[0m         train\u001b[38;5;241m=\u001b[39mtrain,\n\u001b[0;32m    827\u001b[0m         test\u001b[38;5;241m=\u001b[39mtest,\n\u001b[0;32m    828\u001b[0m         parameters\u001b[38;5;241m=\u001b[39mparameters,\n\u001b[0;32m    829\u001b[0m         split_progress\u001b[38;5;241m=\u001b[39m(split_idx, n_splits),\n\u001b[0;32m    830\u001b[0m         candidate_progress\u001b[38;5;241m=\u001b[39m(cand_idx, n_candidates),\n\u001b[0;32m    831\u001b[0m         \u001b[38;5;241m*\u001b[39m\u001b[38;5;241m*\u001b[39mfit_and_score_kwargs,\n\u001b[0;32m    832\u001b[0m     )\n\u001b[0;32m    833\u001b[0m     \u001b[38;5;28;01mfor\u001b[39;00m (cand_idx, parameters), (split_idx, (train, test)) \u001b[38;5;129;01min\u001b[39;00m product(\n\u001b[0;32m    834\u001b[0m         \u001b[38;5;28menumerate\u001b[39m(candidate_params), \u001b[38;5;28menumerate\u001b[39m(cv\u001b[38;5;241m.\u001b[39msplit(X, y, groups))\n\u001b[0;32m    835\u001b[0m     )\n\u001b[0;32m    836\u001b[0m )\n\u001b[0;32m    838\u001b[0m \u001b[38;5;28;01mif\u001b[39;00m \u001b[38;5;28mlen\u001b[39m(out) \u001b[38;5;241m<\u001b[39m \u001b[38;5;241m1\u001b[39m:\n\u001b[0;32m    839\u001b[0m     \u001b[38;5;28;01mraise\u001b[39;00m \u001b[38;5;167;01mValueError\u001b[39;00m(\n\u001b[0;32m    840\u001b[0m         \u001b[38;5;124m\"\u001b[39m\u001b[38;5;124mNo fits were performed. \u001b[39m\u001b[38;5;124m\"\u001b[39m\n\u001b[0;32m    841\u001b[0m         \u001b[38;5;124m\"\u001b[39m\u001b[38;5;124mWas the CV iterator empty? \u001b[39m\u001b[38;5;124m\"\u001b[39m\n\u001b[0;32m    842\u001b[0m         \u001b[38;5;124m\"\u001b[39m\u001b[38;5;124mWere there no candidates?\u001b[39m\u001b[38;5;124m\"\u001b[39m\n\u001b[0;32m    843\u001b[0m     )\n",
      "File \u001b[1;32mc:\\Users\\mdcal\\anaconda3\\Lib\\site-packages\\sklearn\\utils\\parallel.py:63\u001b[0m, in \u001b[0;36mParallel.__call__\u001b[1;34m(self, iterable)\u001b[0m\n\u001b[0;32m     58\u001b[0m config \u001b[38;5;241m=\u001b[39m get_config()\n\u001b[0;32m     59\u001b[0m iterable_with_config \u001b[38;5;241m=\u001b[39m (\n\u001b[0;32m     60\u001b[0m     (_with_config(delayed_func, config), args, kwargs)\n\u001b[0;32m     61\u001b[0m     \u001b[38;5;28;01mfor\u001b[39;00m delayed_func, args, kwargs \u001b[38;5;129;01min\u001b[39;00m iterable\n\u001b[0;32m     62\u001b[0m )\n\u001b[1;32m---> 63\u001b[0m \u001b[38;5;28;01mreturn\u001b[39;00m \u001b[38;5;28msuper\u001b[39m()\u001b[38;5;241m.\u001b[39m\u001b[38;5;21m__call__\u001b[39m(iterable_with_config)\n",
      "File \u001b[1;32mc:\\Users\\mdcal\\anaconda3\\Lib\\site-packages\\joblib\\parallel.py:1098\u001b[0m, in \u001b[0;36mParallel.__call__\u001b[1;34m(self, iterable)\u001b[0m\n\u001b[0;32m   1095\u001b[0m     \u001b[38;5;28mself\u001b[39m\u001b[38;5;241m.\u001b[39m_iterating \u001b[38;5;241m=\u001b[39m \u001b[38;5;28;01mFalse\u001b[39;00m\n\u001b[0;32m   1097\u001b[0m \u001b[38;5;28;01mwith\u001b[39;00m \u001b[38;5;28mself\u001b[39m\u001b[38;5;241m.\u001b[39m_backend\u001b[38;5;241m.\u001b[39mretrieval_context():\n\u001b[1;32m-> 1098\u001b[0m     \u001b[38;5;28mself\u001b[39m\u001b[38;5;241m.\u001b[39mretrieve()\n\u001b[0;32m   1099\u001b[0m \u001b[38;5;66;03m# Make sure that we get a last message telling us we are done\u001b[39;00m\n\u001b[0;32m   1100\u001b[0m elapsed_time \u001b[38;5;241m=\u001b[39m time\u001b[38;5;241m.\u001b[39mtime() \u001b[38;5;241m-\u001b[39m \u001b[38;5;28mself\u001b[39m\u001b[38;5;241m.\u001b[39m_start_time\n",
      "File \u001b[1;32mc:\\Users\\mdcal\\anaconda3\\Lib\\site-packages\\joblib\\parallel.py:975\u001b[0m, in \u001b[0;36mParallel.retrieve\u001b[1;34m(self)\u001b[0m\n\u001b[0;32m    973\u001b[0m \u001b[38;5;28;01mtry\u001b[39;00m:\n\u001b[0;32m    974\u001b[0m     \u001b[38;5;28;01mif\u001b[39;00m \u001b[38;5;28mgetattr\u001b[39m(\u001b[38;5;28mself\u001b[39m\u001b[38;5;241m.\u001b[39m_backend, \u001b[38;5;124m'\u001b[39m\u001b[38;5;124msupports_timeout\u001b[39m\u001b[38;5;124m'\u001b[39m, \u001b[38;5;28;01mFalse\u001b[39;00m):\n\u001b[1;32m--> 975\u001b[0m         \u001b[38;5;28mself\u001b[39m\u001b[38;5;241m.\u001b[39m_output\u001b[38;5;241m.\u001b[39mextend(job\u001b[38;5;241m.\u001b[39mget(timeout\u001b[38;5;241m=\u001b[39m\u001b[38;5;28mself\u001b[39m\u001b[38;5;241m.\u001b[39mtimeout))\n\u001b[0;32m    976\u001b[0m     \u001b[38;5;28;01melse\u001b[39;00m:\n\u001b[0;32m    977\u001b[0m         \u001b[38;5;28mself\u001b[39m\u001b[38;5;241m.\u001b[39m_output\u001b[38;5;241m.\u001b[39mextend(job\u001b[38;5;241m.\u001b[39mget())\n",
      "File \u001b[1;32mc:\\Users\\mdcal\\anaconda3\\Lib\\site-packages\\joblib\\_parallel_backends.py:567\u001b[0m, in \u001b[0;36mLokyBackend.wrap_future_result\u001b[1;34m(future, timeout)\u001b[0m\n\u001b[0;32m    564\u001b[0m \u001b[38;5;250m\u001b[39m\u001b[38;5;124;03m\"\"\"Wrapper for Future.result to implement the same behaviour as\u001b[39;00m\n\u001b[0;32m    565\u001b[0m \u001b[38;5;124;03mAsyncResults.get from multiprocessing.\"\"\"\u001b[39;00m\n\u001b[0;32m    566\u001b[0m \u001b[38;5;28;01mtry\u001b[39;00m:\n\u001b[1;32m--> 567\u001b[0m     \u001b[38;5;28;01mreturn\u001b[39;00m future\u001b[38;5;241m.\u001b[39mresult(timeout\u001b[38;5;241m=\u001b[39mtimeout)\n\u001b[0;32m    568\u001b[0m \u001b[38;5;28;01mexcept\u001b[39;00m CfTimeoutError \u001b[38;5;28;01mas\u001b[39;00m e:\n\u001b[0;32m    569\u001b[0m     \u001b[38;5;28;01mraise\u001b[39;00m \u001b[38;5;167;01mTimeoutError\u001b[39;00m \u001b[38;5;28;01mfrom\u001b[39;00m \u001b[38;5;21;01me\u001b[39;00m\n",
      "File \u001b[1;32mc:\\Users\\mdcal\\anaconda3\\Lib\\concurrent\\futures\\_base.py:451\u001b[0m, in \u001b[0;36mFuture.result\u001b[1;34m(self, timeout)\u001b[0m\n\u001b[0;32m    448\u001b[0m \u001b[38;5;28;01melif\u001b[39;00m \u001b[38;5;28mself\u001b[39m\u001b[38;5;241m.\u001b[39m_state \u001b[38;5;241m==\u001b[39m FINISHED:\n\u001b[0;32m    449\u001b[0m     \u001b[38;5;28;01mreturn\u001b[39;00m \u001b[38;5;28mself\u001b[39m\u001b[38;5;241m.\u001b[39m__get_result()\n\u001b[1;32m--> 451\u001b[0m \u001b[38;5;28mself\u001b[39m\u001b[38;5;241m.\u001b[39m_condition\u001b[38;5;241m.\u001b[39mwait(timeout)\n\u001b[0;32m    453\u001b[0m \u001b[38;5;28;01mif\u001b[39;00m \u001b[38;5;28mself\u001b[39m\u001b[38;5;241m.\u001b[39m_state \u001b[38;5;129;01min\u001b[39;00m [CANCELLED, CANCELLED_AND_NOTIFIED]:\n\u001b[0;32m    454\u001b[0m     \u001b[38;5;28;01mraise\u001b[39;00m CancelledError()\n",
      "File \u001b[1;32mc:\\Users\\mdcal\\anaconda3\\Lib\\threading.py:327\u001b[0m, in \u001b[0;36mCondition.wait\u001b[1;34m(self, timeout)\u001b[0m\n\u001b[0;32m    325\u001b[0m \u001b[38;5;28;01mtry\u001b[39;00m:    \u001b[38;5;66;03m# restore state no matter what (e.g., KeyboardInterrupt)\u001b[39;00m\n\u001b[0;32m    326\u001b[0m     \u001b[38;5;28;01mif\u001b[39;00m timeout \u001b[38;5;129;01mis\u001b[39;00m \u001b[38;5;28;01mNone\u001b[39;00m:\n\u001b[1;32m--> 327\u001b[0m         waiter\u001b[38;5;241m.\u001b[39macquire()\n\u001b[0;32m    328\u001b[0m         gotit \u001b[38;5;241m=\u001b[39m \u001b[38;5;28;01mTrue\u001b[39;00m\n\u001b[0;32m    329\u001b[0m     \u001b[38;5;28;01melse\u001b[39;00m:\n",
      "\u001b[1;31mKeyboardInterrupt\u001b[0m: "
     ]
    }
   ],
   "source": [
    "\n",
    "\n",
    "outer = range(0,400)\n",
    "\n",
    "best_params_dict = {}\n",
    "best_model_dict = {}\n",
    "\n",
    "# Initialize variables to store precision-recall data\n",
    "precision_list = []\n",
    "recall_list = []\n",
    "auc_list = []\n",
    "\n",
    "for outer_rand in tqdm(outer, desc='Outer Loop'):\n",
    "    # Split data into outer folds\n",
    "    X_train_outer, X_test_outer, y_train_outer, y_test_outer = train_test_split(\n",
    "            x, y, test_size=0.2, stratify=y, shuffle=True, random_state=outer_rand)\n",
    "    \n",
    "    # Apply MinMaxScaler and PCA to the data before passing it to the pipeline\n",
    "    scaler = MinMaxScaler(feature_range=(0, 1))\n",
    "    X_train_outer = scaler.fit_transform(X_train_outer)\n",
    "    X_test_outer = scaler.transform(X_test_outer)\n",
    "\n",
    "    pca = PCA(n_components=0.99)  # Retain 99% of variance\n",
    "    x_train_outer = pca.fit_transform(X_train_outer)\n",
    "    x_test_outer = pca.transform(X_test_outer)    \n",
    "\n",
    "    # Hyperparameter grid\n",
    "    param_grid_rf = {\n",
    "        'n_estimators': [random.randint(10, 200) for _ in range(50)],\n",
    "        'max_depth': [random.randint(1, 30) for _ in range(50)],\n",
    "        'min_samples_split': [random.randint(2, 10) for _ in range(50)],\n",
    "        'min_samples_leaf': [random.randint(1, 4) for _ in range(50)],\n",
    "        'max_samples': [random.uniform(0.5, 1) for _ in range(50)],\n",
    "        'bootstrap': [True]\n",
    "    }\n",
    "    # Create a pipeline with scaling, PCA, and RandomForestClassifier\n",
    "    rf = RandomForestClassifier(random_state=7, n_jobs=-1)\n",
    "\n",
    "    # For classification problems to maintain class distribution for 14.3% splits\n",
    "    cv_inner = StratifiedKFold(n_splits=7, shuffle=True, random_state=7)\n",
    "        \n",
    "    random_search = RandomizedSearchCV(\n",
    "        estimator=rf,\n",
    "        param_distributions=param_grid_rf,\n",
    "        scoring='roc_auc',\n",
    "        cv=cv_inner,\n",
    "        n_iter=100,\n",
    "        n_jobs=-1\n",
    "    )\n",
    "\n",
    "    random_search.fit(X_train_outer, y_train_outer)\n",
    "\n",
    "    best_params = random_search.best_params_\n",
    "    best_params_dict[f\"Outer {outer_rand}\"] = best_params\n",
    "    best_model_dict[f\"Outer {outer_rand}\"] = random_search.best_estimator_\n",
    "    y_pred = best_model_dict[f\"Outer {outer_rand}\"].predict(X_test_outer)\n",
    "    tn, fp, fn, tp = confusion_matrix(y_test_outer, y_pred).ravel()\n",
    "\n",
    "    # Calculate metrics\n",
    "    sensitivity = tp / (tp + fn) if (tp + fn) > 0 else 0\n",
    "    specificity = tn / (tn + fp) if (tn + fp) > 0 else 0\n",
    "    y_pred_proba = best_model_dict[f\"Outer {outer_rand}\"].predict_proba(X_test_outer)[:, 1]\n",
    "    auc_score = roc_auc_score(y_test_outer, y_pred_proba)\n",
    "    f1 = f1_score(y_test_outer, y_pred)\n",
    "    accuracy = accuracy_score(y_test_outer, y_pred)\n",
    "    \n",
    "    # precision recall curve\n",
    "    precision, recall, _ = precision_recall_curve(y_test_outer, y_pred_proba)\n",
    "    precision_list.append(precision)\n",
    "    recall_list.append(recall)\n",
    "    auc_list.append(auc(recall, precision))\n",
    "\n",
    "    best_params_dict[f\"Outer {outer_rand}\"]['auc'] = auc_score\n",
    "    best_params_dict[f\"Outer {outer_rand}\"]['f1'] = f1\n",
    "    best_params_dict[f\"Outer {outer_rand}\"]['sensitivity'] = sensitivity\n",
    "    best_params_dict[f\"Outer {outer_rand}\"]['specificity'] = specificity\n",
    "    best_params_dict[f\"Outer {outer_rand}\"]['accuracy'] = accuracy\n",
    "    \n",
    "\n",
    "    print(f\"\\nOuter {outer_rand} -> Best Hyperparameters: {best_params}\")\n",
    "\n",
    "    # Save results\n",
    "    results_df = pd.DataFrame.from_dict(best_params_dict, orient='index')\n",
    "    results_csv_path = os.path.join(os.getcwd(), 'best_hyperparameters_short.csv')\n",
    "    results_df.to_csv(results_csv_path)\n",
    "    print(f\"\\nBest parameters saved to {results_csv_path} after Outer {outer_rand} completion\")\n",
    "\n",
    "    # Save precision-recall data\n",
    "    pr_data = {\n",
    "        \"precision_list\": precision_list,\n",
    "        \"recall_list\": recall_list,\n",
    "        \"auc_list\": auc_list\n",
    "    }\n",
    "    pr_data_path = os.path.join(os.getcwd(), 'precision_recall_data.pkl')\n",
    "    with open(pr_data_path, 'wb') as f:\n",
    "        pickle.dump(pr_data, f)\n",
    "    print(f\"\\nPrecision-recall data saved to {pr_data_path} after Outer {outer_rand} completion\")\n",
    "\n"
   ]
  },
  {
   "cell_type": "code",
   "execution_count": 13,
   "id": "4af10b86",
   "metadata": {},
   "outputs": [
    {
     "data": {
      "image/png": "[encoded data removed]",
      "text/plain": [
       "<Figure size 800x600 with 1 Axes>"
      ]
     },
     "metadata": {},
     "output_type": "display_data"
    }
   ],
   "source": [
    "# Load precision-recall data from pickle file\n",
    "pr_data_path = os.path.join(os.getcwd(), 'precision_recall_data.pkl')\n",
    "with open(pr_data_path, 'rb') as f:\n",
    "    pr_data = pickle.load(f)\n",
    "\n",
    "# Extract precision, recall, and AUC lists\n",
    "precision_list = pr_data[\"precision_list\"]\n",
    "recall_list = pr_data[\"recall_list\"]\n",
    "auc_list = pr_data[\"auc_list\"]\n",
    "\n",
    "# Calculate mean and standard deviation for precision-recall curves\n",
    "mean_recall = np.linspace(0, 1, 100)\n",
    "interp_precisions = []\n",
    "\n",
    "for precision, recall in zip(precision_list, recall_list):\n",
    "    # Sort recall and precision in increasing recall order\n",
    "    order = np.argsort(recall)\n",
    "    recall_sorted = recall[order]\n",
    "    precision_sorted = precision[order]\n",
    "    \n",
    "    # Interpolate precision as a function of recall\n",
    "    interp_precision = np.interp(mean_recall, recall_sorted, precision_sorted, left=1.0, right=0.0)\n",
    "    interp_precisions.append(interp_precision)\n",
    "\n",
    "# Calculate mean and std of precision at each recall level\n",
    "mean_precision = np.mean(interp_precisions, axis=0)\n",
    "std_precision = np.std(interp_precisions, axis=0)\n",
    "\n",
    "# Plot the precision-recall curve\n",
    "plt.figure(figsize=(8, 6))\n",
    "plt.plot(mean_recall, mean_precision, label=f\"Mean PR Curve (AUC = {np.mean(auc_list):.2f})\", color='b')\n",
    "plt.fill_between(mean_recall, mean_precision - std_precision, mean_precision + std_precision, color='b', alpha=0.2, label=\"±1 Std. Dev.\")\n",
    "plt.xlabel(\"Recall\")\n",
    "plt.ylabel(\"Precision\")\n",
    "plt.xlim([0.0, 1.0])\n",
    "plt.ylim([0.0, 1.05])\n",
    "plt.legend(loc=\"lower left\")\n",
    "plt.grid()\n",
    "plt.show()"
   ]
  }
 ],
 "metadata": {
  "kernelspec": {
   "display_name": "base",
   "language": "python",
   "name": "python3"
  },
  "language_info": {
   "codemirror_mode": {
    "name": "ipython",
    "version": 3
   },
   "file_extension": ".py",
   "mimetype": "text/x-python",
   "name": "python",
   "nbconvert_exporter": "python",
   "pygments_lexer": "ipython3",
   "version": "3.11.7"
  }
 },
 "nbformat": 4,
 "nbformat_minor": 5
}
